{
 "cells": [
  {
   "cell_type": "markdown",
   "metadata": {},
   "source": [
    "# Modelling and Numerical Methods  <a class=\"tocSkip\">\n",
    "\n",
    "## Lecture Title Here  <a class=\"tocSkip\">"
   ]
  },
  {
   "cell_type": "markdown",
   "metadata": {},
   "source": [
    "## Learning outcomes  <a class=\"tocSkip\">\n",
    "\n",
    "1. Learning outcomes here. . ."
   ]
  },
  {
   "cell_type": "markdown",
   "metadata": {
    "toc": true
   },
   "source": [
    "<h1>Table of Contents<span class=\"tocSkip\"></span></h1>\n",
    "<div class=\"toc\"><ul class=\"toc-item\"><li><span><a href=\"#First-topic-here\" data-toc-modified-id=\"First-topic-here-1\"><span class=\"toc-item-num\">1&nbsp;&nbsp;</span>First topic here</a></span><ul class=\"toc-item\"><li><span><a href=\"#Sub-topic\" data-toc-modified-id=\"Sub-topic-1.1\"><span class=\"toc-item-num\">1.1&nbsp;&nbsp;</span>Sub topic</a></span><ul class=\"toc-item\"><li><span><a href=\"#First-exercise-here\" data-toc-modified-id=\"First-exercise-here-1.1.1\"><span class=\"toc-item-num\">1.1.1&nbsp;&nbsp;</span>First exercise here</a></span><ul class=\"toc-item\"><li><span><a href=\"#First-exercise-solution-here-(one-level-lower)\" data-toc-modified-id=\"First-exercise-solution-here-(one-level-lower)-1.1.1.1\"><span class=\"toc-item-num\">1.1.1.1&nbsp;&nbsp;</span>First exercise solution here (one level lower)</a></span></li></ul></li><li><span><a href=\"#Optional-exercise\" data-toc-modified-id=\"Optional-exercise-1.1.2\"><span class=\"toc-item-num\">1.1.2&nbsp;&nbsp;</span>Optional exercise</a></span><ul class=\"toc-item\"><li><span><a href=\"#Optional-exercise-answer-(one-level-lower)\" data-toc-modified-id=\"Optional-exercise-answer-(one-level-lower)-1.1.2.1\"><span class=\"toc-item-num\">1.1.2.1&nbsp;&nbsp;</span>Optional exercise answer (one level lower)</a></span></li></ul></li><li><span><a href=\"#Advanced-exercise\" data-toc-modified-id=\"Advanced-exercise-1.1.3\"><span class=\"toc-item-num\">1.1.3&nbsp;&nbsp;</span>Advanced exercise</a></span><ul class=\"toc-item\"><li><span><a href=\"#Advanced-exercise-answer-(one-level-lower)\" data-toc-modified-id=\"Advanced-exercise-answer-(one-level-lower)-1.1.3.1\"><span class=\"toc-item-num\">1.1.3.1&nbsp;&nbsp;</span>Advanced exercise answer (one level lower)</a></span></li></ul></li></ul></li></ul></li></ul></div>"
   ]
  },
  {
   "cell_type": "code",
   "execution_count": 5,
   "metadata": {
    "code_folding": [
     0
    ]
   },
   "outputs": [
    {
     "data": {
      "text/html": [
       "<style>\n",
       "div.exercise {\n",
       "    display: block;\n",
       "    background-color: #ffd7e2;\n",
       "    border-color: #ffd7e2;\n",
       "    border-left: 5px solid #ffd7e2;\n",
       "    padding: 0.5em;\n",
       "}\n",
       "div.optional {\n",
       "    display: block;\n",
       "    background-color: #d7e2ff;\n",
       "    border-color: #d7e2ff;\n",
       "    border-left: 5px solid #d7e2ff;\n",
       "    padding: 0.5em;\n",
       "}\n",
       "div.advanced {\n",
       "    display: block;\n",
       "    background-color: #fff4d7;\n",
       "    border-color: #fff4d7;\n",
       "    border-left: 5px solid #fff4d7;\n",
       "    padding: 0.5em;\n",
       "}\n",
       "</style>\n"
      ],
      "text/plain": [
       "<IPython.core.display.HTML object>"
      ]
     },
     "metadata": {},
     "output_type": "display_data"
    }
   ],
   "source": [
    "%%html\n",
    "<style>\n",
    "div.exercise {\n",
    "    display: block;\n",
    "    background-color: #ffd7e2;\n",
    "    border-color: #ffd7e2;\n",
    "    border-left: 5px solid #ffd7e2;\n",
    "    padding: 0.5em;\n",
    "}\n",
    "div.optional {\n",
    "    display: block;\n",
    "    background-color: #d7e2ff;\n",
    "    border-color: #d7e2ff;\n",
    "    border-left: 5px solid #d7e2ff;\n",
    "    padding: 0.5em;\n",
    "}\n",
    "div.advanced {\n",
    "    display: block;\n",
    "    background-color: #fff4d7;\n",
    "    border-color: #fff4d7;\n",
    "    border-left: 5px solid #fff4d7;\n",
    "    padding: 0.5em;\n",
    "}\n",
    "</style>"
   ]
  },
  {
   "cell_type": "markdown",
   "metadata": {},
   "source": [
    "Do not alter this cell. LaTeX commands for frequently used terms.\n",
    "\n",
    "$$\\newcommand{\\tensor}[1]{\\underline{\\underline{\\mathbf{#1}}}}$$\n",
    "$$\\newcommand{\\vector}[1]{\\mathbf{#1}}$$\n",
    "$$\\newcommand{\\ex}{\\vector{\\hat{e}}_1}$$\n",
    "$$\\newcommand{\\ey}{\\vector{\\hat{e}}_2}$$\n",
    "$$\\newcommand{\\ez}{\\vector{\\hat{e}}_3}$$\n",
    "$$\\newcommand{\\x}{\\vector{x}}$$\n",
    "$$\\newcommand{\\v}{\\vector{v}}$$\n",
    "$$\\newcommand{\\u}{\\vector{u}}$$"
   ]
  },
  {
   "cell_type": "code",
   "execution_count": 6,
   "metadata": {},
   "outputs": [],
   "source": [
    "# Import packages for notebook here\n",
    "import numpy\n",
    "import matplotlib.pyplot as plt\n",
    "\n",
    "%matplotlib inline"
   ]
  },
  {
   "cell_type": "markdown",
   "metadata": {},
   "source": [
    "# First topic here\n",
    "\n",
    "## Sub topic"
   ]
  },
  {
   "cell_type": "markdown",
   "metadata": {},
   "source": [
    "<div class=\"exercise\">\n",
    "\n",
    "### First exercise here"
   ]
  },
  {
   "cell_type": "markdown",
   "metadata": {},
   "source": [
    "<div class=\"exercise\">\n",
    "\n",
    "#### First exercise solution here (one level lower)"
   ]
  },
  {
   "cell_type": "markdown",
   "metadata": {},
   "source": [
    "<div class=\"optional\">\n",
    "\n",
    "### Optional exercise"
   ]
  },
  {
   "cell_type": "markdown",
   "metadata": {},
   "source": [
    "<div class=\"optional\">\n",
    "\n",
    "#### Optional exercise answer (one level lower)"
   ]
  },
  {
   "cell_type": "markdown",
   "metadata": {},
   "source": [
    "<div class=\"advanced\">\n",
    "\n",
    "### Advanced exercise"
   ]
  },
  {
   "cell_type": "markdown",
   "metadata": {},
   "source": [
    "<div class=\"advanced\">\n",
    "\n",
    "#### Advanced exercise answer (one level lower)\n",
    "Advanced or extension exercises don't need solutions."
   ]
  }
 ],
 "metadata": {
  "hide_input": false,
  "kernelspec": {
   "display_name": "Python 3 (ipykernel)",
   "language": "python",
   "name": "python3"
  },
  "language_info": {
   "codemirror_mode": {
    "name": "ipython",
    "version": 3
   },
   "file_extension": ".py",
   "mimetype": "text/x-python",
   "name": "python",
   "nbconvert_exporter": "python",
   "pygments_lexer": "ipython3",
   "version": "3.11.3"
  },
  "toc": {
   "base_numbering": 1,
   "nav_menu": {},
   "number_sections": true,
   "sideBar": true,
   "skip_h1_title": false,
   "title_cell": "Table of Contents",
   "title_sidebar": "Contents",
   "toc_cell": true,
   "toc_position": {},
   "toc_section_display": true,
   "toc_window_display": true
  }
 },
 "nbformat": 4,
 "nbformat_minor": 2
}
