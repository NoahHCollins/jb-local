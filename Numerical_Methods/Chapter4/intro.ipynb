{
 "cells": [
  {
   "cell_type": "markdown",
   "id": "920238c2",
   "metadata": {},
   "source": [
    "# 4 Conservation Equations \n",
    "\n",
    "The following chapter covers conservation equations and rheology, a pivotal module that delves into the foundational concepts of conservation equations in the realm of continuum mechanics. In this lecture, we embark on an insightful journey through the heart of fluid dynamics and solid mechanics, exploring the core principles that govern the behavior of materials on a macroscopic scale. The first chapter covers: \n",
    "\n",
    "- __Introduction to Conservation Equations:__ Includes an explanation of the significance of conservation equations in continuum mechanics modeling and an overview of the three main conservation equations: mass, momentum, and energy. Additionally, we will derive the previosuly mentioned equations and interpret each of the terms within the equations and cover the application of these equations in solid and fluid system. \n",
    "\n",
    "- __Interpreting Terms within Conservation Equations:__  We will then go over an in-depth examination of terms within each conservation equation and understand the physical meanings of various terms and their roles in the overall equation. We will also cover case studies illustrating the importance of these terms in practical scenarios.\n",
    "\n",
    "- __Solving Conservation Equations for Analytical Solutions:__ We will introduce methods to solve conservation equations analytically by incorporating boundary and initial conditions to arrive at specific solutions. We will also demonstrate solving basic analytical problems using the derived equations.\n",
    "\n",
    "The second lecture dives deep into the field of rheology, which examines how substances flow and deform under different conditions.\n",
    "\n",
    "- __Introduction to Rheology:__ We will cover the definition and significance of rheology in material science and engineering and explain why understanding material deformation is crucial in various industries. We will also go over stress-strain relationships which are fundamental concepts in rheology and the different types of stresses. \n",
    "\n",
    "- __Viscosity and Newtonian Fluids:__ We will introduce the concept of viscosity and Newtonian fluid and their linear relationship between shear stress and shear rate, and demonstrate this with some real-wroled examples. \n",
    "\n",
    "By the end of these lectures, you should be able to understand how these equations are used in continuum mechanics modelling and the underlying principles of rheology. Additionally there are exercises in order to test your knowledge and a coursework will be introduced. "
   ]
  },
  {
   "cell_type": "markdown",
   "id": "e7d9ac3c",
   "metadata": {},
   "source": [
    "```{tableofcontents}\n",
    "```"
   ]
  }
 ],
 "metadata": {
  "kernelspec": {
   "display_name": "Python 3 (ipykernel)",
   "language": "python",
   "name": "python3"
  },
  "language_info": {
   "codemirror_mode": {
    "name": "ipython",
    "version": 3
   },
   "file_extension": ".py",
   "mimetype": "text/x-python",
   "name": "python",
   "nbconvert_exporter": "python",
   "pygments_lexer": "ipython3",
   "version": "3.9.7"
  }
 },
 "nbformat": 4,
 "nbformat_minor": 5
}
