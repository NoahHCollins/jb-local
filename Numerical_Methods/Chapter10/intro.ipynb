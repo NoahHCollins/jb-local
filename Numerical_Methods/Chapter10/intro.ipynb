{
 "cells": [
  {
   "cell_type": "markdown",
   "id": "920238c2",
   "metadata": {},
   "source": [
    "# 10. ODE Solvers 2\n",
    "\n",
    "In this chapter we will explore and study solving ordinary differential equations (ODEs) computationally. In this lecture, we explore the art of numerically solving ODEs, a critical skill in various scientific and engineering disciplines. \n",
    "\n",
    "- __Introduction to ODE Solver:__ We will explore the significance of solving ordinary differential equations (ODEs) in various fields. We will also give an overview of the scenarios where analytical solutions are challenging or impossible to attain.\n",
    "\n",
    "- __Numerical Methods for ODEs:__ We will introduce various numerical methods such as Euler's method, Runge-Kutta methods, and more and how numerical methods discretize ODEs to facilitate computation.\n",
    "\n",
    "- __Euler's Method:__ We will explore the Euler method in in-depth detail as a simple numerical approach for solving ODEs and an explanation of the algorithm and step-by-step execution for numerical approximation.\n",
    "\n",
    "- __Runge-Kutta Methods:__ We will introduce Runge-Kutta methods of various orders, such as RK2 and RK4 an discuss the improved accuracy achieved through higher-order Runge-Kutta methods.\n",
    "\n",
    "- __Numerical Stability and Accuracy:__ An exploration of numerical stability and the importance of selecting appropriate step sizes and will include an explanation of truncation errors and their impact on the accuracy of numerical solutions.\n",
    "\n",
    "- __Application of ODE Solver:__ We will demonstrate applying ODE solvers to real-world problems, such as population growth models or mechanical systems. We will also show on overview as to how ODE solvers can be implemented in coding languages such as Python\n",
    "\n",
    "By the end of this chapter, you'll have the tools and knowledge to translate ODEs into numerical solutions, enabling you to tackle complex dynamic systems that cannot be solved analytically. From understanding Euler's method to harnessing the accuracy of Runge-Kutta methods, you'll gain hands-on experience in translating complex equations into actionable insights through computational solutions. "
   ]
  },
  {
   "cell_type": "markdown",
   "id": "e7d9ac3c",
   "metadata": {},
   "source": [
    "```{tableofcontents}\n",
    "```"
   ]
  }
 ],
 "metadata": {
  "kernelspec": {
   "display_name": "Python 3 (ipykernel)",
   "language": "python",
   "name": "python3"
  },
  "language_info": {
   "codemirror_mode": {
    "name": "ipython",
    "version": 3
   },
   "file_extension": ".py",
   "mimetype": "text/x-python",
   "name": "python",
   "nbconvert_exporter": "python",
   "pygments_lexer": "ipython3",
   "version": "3.9.7"
  }
 },
 "nbformat": 4,
 "nbformat_minor": 5
}
