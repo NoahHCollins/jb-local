{
 "cells": [
  {
   "cell_type": "markdown",
   "id": "8e674a05-dd38-4374-bc16-5c4f5b365eb0",
   "metadata": {
    "tags": []
   },
   "source": [
    "## List of Symbols\n",
    "\n",
    "### General\n",
    "$\\rho$ - Density $kg/m^3$  \n",
    "$\\mu$ - Viscosity $N s/m$  \n",
    "$\\nu$ - Kinematic viscosity $J s / kg$   \n",
    "$M$ - Mass  $kg$  \n",
    "$L$ - Length  $m$  \n",
    "$T$ - Time  $s$  \n",
    "$T$ - Temperature $K$ \n",
    "$\\mathbf{v}$ - Velocity  $m/s$  \n"
   ]
  },
  {
   "cell_type": "markdown",
   "id": "6b2eabdc-1f47-4037-a3db-5b8bd6ce5838",
   "metadata": {},
   "source": [
    "\n",
    "### Dimensional Analysis\n",
    "$\\mathbf{D}$ - Diffusivity  $m^2/s$  \n",
    "$C$ - Concentration  \n",
    "$\\mathbf{h}$ - Thickness  $m$  \n",
    "$h$ - External heat transfer coefficient  \n",
    "$Pe$ - Peclet number  \n",
    "$Re$ - Reynolds number   \n",
    "$Ga$ - Galileo number  \n",
    "$Fr$ - Froude number  \n",
    "$\\lambda$ - Wavelength of an instability  \n",
    "$\\gamma$ - Surface tension  $N/m$  \n",
    "$Q$ - Rate of energy transfer $W$  \n",
    "$V$ - Volumetric fluid flow rate $m^3/s$ \n",
    "\n",
    "### Potential Flow\n",
    "$\\phi$ - Potential  \n",
    "$k$ - Permeability  \n",
    "$F$ - Flux  \n",
    "$\\xi$ - Residual  \n",
    "\n",
    "### Navier-Stokes\n",
    "$\\tau$ - Shear stress  \n",
    "$\\mathbf{S}$ - Strain rate   \n",
    "$\\mathbf{K}$ - Matrix for discretisation of viscosity  \n",
    "$\\mathbf{C}$ - Matrix for discretisation of gradient operator   \n",
    "$\\mathbf{C^T}$ - Matrix for discretisation of divergence  \n",
    "$\\mathbf{A}$ - matrix containing the discretisation for the momentum advection term  "
   ]
  },
  {
   "cell_type": "markdown",
   "id": "8cbd53b1-51e4-4d4a-a91a-e46cade1ce82",
   "metadata": {
    "tags": []
   },
   "source": [
    "### Turbulent and Non-Newtonian Flows\n",
    "$f$ - Fanning Friction Factor\n",
    "$\\mathbf{u}$ - Instantaneous velocity  \n",
    "$\\mathbf{U}$ - Average velocity  \n",
    "$\\mathbf{u^{'}}$ - Fluctuating component of velocity  \n",
    "$k$ - Tubulent kinetic energy  \n",
    "$\\varepsilon$ - Turbulent dissipation rate\n"
   ]
  },
  {
   "cell_type": "markdown",
   "id": "510971e9-3d23-4989-b12e-745ceb287f3f",
   "metadata": {},
   "source": [
    "### PDE Solvers\n",
    "$c$ - Concentration  \n",
    "$\\kappa$ - Diffusivity coefficient   \n",
    "$\\xi$ - Computational coordinate  \n",
    "$C$ - Courant number  \n",
    "$r$ - r-parameter  \n",
    "$k_m$ - Wavenumber"
   ]
  },
  {
   "cell_type": "markdown",
   "id": "f8ae96ac-540a-49e5-9c5d-011267f39ed9",
   "metadata": {},
   "source": [
    "### Finite Element Methods\n",
    "$e$ - Single element  \n",
    "$C$ - Constant  \n",
    "$\\phi$ - Basis function  \n",
    "$\\alpha$ - Weights  \n",
    "$P_h$ - $L^2$ norm   \n",
    "$K$ - Discretisation matrix\n"
   ]
  }
 ],
 "metadata": {
  "kernelspec": {
   "display_name": "Python 3 (ipykernel)",
   "language": "python",
   "name": "python3"
  },
  "language_info": {
   "codemirror_mode": {
    "name": "ipython",
    "version": 3
   },
   "file_extension": ".py",
   "mimetype": "text/x-python",
   "name": "python",
   "nbconvert_exporter": "python",
   "pygments_lexer": "ipython3",
   "version": "3.11.3"
  }
 },
 "nbformat": 4,
 "nbformat_minor": 5
}
