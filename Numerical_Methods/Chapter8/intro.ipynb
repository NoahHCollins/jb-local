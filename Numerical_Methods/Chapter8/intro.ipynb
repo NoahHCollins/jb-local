{
 "cells": [
  {
   "cell_type": "markdown",
   "id": "920238c2",
   "metadata": {},
   "source": [
    "# 8. Turbulence and Non-Newtonian Flows\n",
    "\n",
    "The following chapter will introduce the fluid dynamics of turbulence and non-newtonian flows. \n",
    "\n",
    "- __Introduction to Turbulent Flow:__ We will introduce the Reynolds Number, a key non-dimensionless parameter in fluid dynamics which is used to predict the onset of turbulence. We will also cover the scenario of pipe flow and modelling other turbulent flows.\n",
    "\n",
    "- __Characteristics of Turbulent Flows:__  We will discuss characteristics of turbulence, including velocity fluctuations and vortices. We will also explore eddies and their role in turbulent mixing and energy dissipation.\n",
    "\n",
    "- __Turbulent Modeling and Closure Problem:__ Introduce turbulence models that attempt to simulate turbulent flows and discuss the closure problem and challenges in predicting turbulence behavior accurately.\n",
    "\n",
    "- __Rheological Models for Non-Newtonian Behavior:__ We will present rheological models used to describe non-Newtonian fluid behavior. We will also introduce the power-law model and other common models used to characterize viscosity.\n",
    "\n",
    "By the end of this chapter, you'll gain insight into the intricate dynamics of fluid behavior that diverge from traditional expectations. From turbulent flows characterized by chaotic motion to non-Newtonian materials exhibiting complex viscosity behavior, you'll explore the challenges and implications of these phenomena in various fields. Additionally, there is are exercises in the worksheet in order to test yourself."
   ]
  },
  {
   "cell_type": "markdown",
   "id": "e7d9ac3c",
   "metadata": {},
   "source": [
    "```{tableofcontents}\n",
    "```"
   ]
  }
 ],
 "metadata": {
  "kernelspec": {
   "display_name": "Python 3 (ipykernel)",
   "language": "python",
   "name": "python3"
  },
  "language_info": {
   "codemirror_mode": {
    "name": "ipython",
    "version": 3
   },
   "file_extension": ".py",
   "mimetype": "text/x-python",
   "name": "python",
   "nbconvert_exporter": "python",
   "pygments_lexer": "ipython3",
   "version": "3.9.7"
  }
 },
 "nbformat": 4,
 "nbformat_minor": 5
}
