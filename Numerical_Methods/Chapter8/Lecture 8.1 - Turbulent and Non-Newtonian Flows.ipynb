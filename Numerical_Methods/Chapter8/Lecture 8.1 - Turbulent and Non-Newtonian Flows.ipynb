{
 "cells": [
  {
   "cell_type": "markdown",
   "id": "4f0e4fd3-f223-42d0-93ce-56a38d8cdbc8",
   "metadata": {},
   "source": [
    "# 8.1 Turbulent and Non-Newtonian Flows\n",
    "\n",
    "Lecture 8.1  \n",
    "Stephen Neethling"
   ]
  },
  {
   "cell_type": "markdown",
   "id": "c8d89048-10f5-43fe-8f64-fe36c190347c",
   "metadata": {},
   "source": [
    "## Table of Contents\n",
    "```{contents}\n",
    "```"
   ]
  },
  {
   "cell_type": "markdown",
   "id": "50adba5d-667d-42fc-834b-b82bbf9faafa",
   "metadata": {},
   "source": [
    "## Outline \n",
    "- Reynolds number and the onset of turbulence\n",
    "- Turbulent flow in pipes\n",
    "- Modelling turbulence\n",
    "- Other Rheologies\n",
    "\n",
    "**The simple balances from the earlier lectures are\n",
    "not the end of the story even for flows in simple\n",
    "geometries – Why?**\n",
    "\n",
    "- An explicit assumption in these derivations is that the flow is steady\n",
    "(no time dependency)\n",
    "- What happens if there is a perturbation in the flow?\n",
    "    - If this perturbation grows, it means that the flow can not be steady and that\n",
    "this assumption is invalid\n",
    "- Perturbation will be damped if viscous forces are stronger than the\n",
    "inertial force associated with the perturbation"
   ]
  },
  {
   "cell_type": "markdown",
   "id": "8519d3a1-8c8d-40b8-a307-14b8c2b64228",
   "metadata": {},
   "source": [
    "## Reynolds Number\n",
    "\n",
    "- Reynolds number represents the balance between inertial and viscous forces\n",
    "\n",
    "$$ Re \\propto \\frac{Inertial Force}{Viscous Force} \\propto \\frac{\\rho v \\frac{dv}{dx}}{\\mu \\frac{d^2 v}{dx^2}} \\propto \\frac{\\rho v \\frac{dv}{dx}}{\\mu \\frac{v}{d^2}} $$  \n",
    "\n",
    "$$ \\large Re = \\frac{\\rho dv}{\\mu} $$\n",
    "\n",
    "- If Reynolds number is small perturbations are suppressed – Laminar Flow\n",
    "- If Reynolds number is large perturbations grow – Turbulent Flow"
   ]
  },
  {
   "cell_type": "markdown",
   "id": "a32c0550-d816-415f-8fe4-dba30e89125c",
   "metadata": {},
   "source": [
    "### Reynolds Number – Flow in Pipe\n",
    "\n",
    "- Pipe diameter as characteristic length scale\n",
    "- Average velocity as characteristic velocity\n",
    "\n",
    "Laminar: Re < 2100  \n",
    "Transition: 2100 < Re < 4000  \n",
    "Turbulent: Re > 4000  "
   ]
  },
  {
   "cell_type": "markdown",
   "id": "7a87a3a0-3880-44a6-80fc-6c616d3549c0",
   "metadata": {},
   "source": [
    "## Flow in Pipe\n",
    "\n",
    "- As Reynolds number increases beyond transition average flow profile\n",
    "goes from parabolic to closer to plug flow\n",
    "     - Laminar boundary layer near the wall – Gets thinner as the Reynolds number\n",
    "increases\n",
    "    - Thickness of boundary layer also influenced by surface roughness\n",
    "    \n",
    "```{figure} Images/Lecture8.1/boundarylayer.PNG\n",
    ":width: 75%\n",
    "```"
   ]
  },
  {
   "cell_type": "markdown",
   "id": "55696961-4c00-4577-a553-9d4e5de85401",
   "metadata": {},
   "source": [
    "### Flow in Pipes - The Engineering Approach\n",
    "- Fanning Friction factor:\n",
    "    - Ratio of shear stress exerted on the fluid to its kinetic energy:\n",
    "    \n",
    "$$ f = \\frac{\\tau}{\\rho \\frac{v^2}{2}} $$\n",
    "\n",
    "- For fully developed flow the shear stress on the wall must balance the pressure drop:\n",
    "\n",
    "$$ \\Delta P \\pi R^2 = \\tau 2 \\pi R L $$\n",
    "\n",
    "- Combine to give Fanning friction factor:\n",
    "\n",
    "$$ f = \\frac{\\Delta P R}{L \\rho v^2} $$\n",
    "\n",
    "- Friction factor is a function of Reynolds Number and pipe roughness:\n",
    "    - For laminar flow $ f = \\frac{16}{re} $\n",
    "    - For turbulent flow empirical relationships or charts are used\n",
    "    \n",
    "```{figure} Images/Lecture8.1/turbulent.PNG\n",
    ":width: 75%\n",
    "```    \n",
    "\n",
    "*Note that that Moody friction factor is often used instead of the Fanning friction factor, but it is simply 4 times larger*"
   ]
  },
  {
   "cell_type": "markdown",
   "id": "ebac870c-00cc-445b-be40-ba5d8c375b97",
   "metadata": {},
   "source": [
    "### Example\n",
    "\n",
    "- A horizontal pipe needs to have water flow through it at 0.1m3\n",
    "/s\n",
    "     - 𝜇 = 0.001 𝑃𝑎. 𝑠\n",
    "     - 𝜌 = 1000 𝑘𝑔/𝑚3\n",
    "- The pipe has a diameter of 30cm and can be assumed to be smooth\n",
    "- If the pipe is 100m long, what pressure drop is required?"
   ]
  },
  {
   "cell_type": "markdown",
   "id": "84892595-9679-49f4-954c-372a6d880536",
   "metadata": {},
   "source": [
    "## Flow given a Pressure Drop\n",
    "\n",
    "- More complex to calculate unless laminar\n",
    "\n",
    "Calculation tactic: \n",
    "1. Guess a fluid velocity\n",
    "2. Calculate Reynolds number\n",
    "3. Look up the friction factor\n",
    "4. Use the specified pressure drop to calculate a new fluid velocity based on the friction factor\n",
    "5. Repeat from step 2 until sufficiently converged"
   ]
  },
  {
   "cell_type": "markdown",
   "id": "eda20390-a01e-43b3-a5a0-525d2007e18b",
   "metadata": {},
   "source": [
    "### Example\n",
    "\n",
    "- If we halve the pressure drop calculated in the previous example, what will the new flowrate be?"
   ]
  },
  {
   "cell_type": "markdown",
   "id": "f933872f-21a6-446d-b88a-cb0dae5be838",
   "metadata": {},
   "source": [
    "## Modelling Other Turbulent Flows\n",
    "\n",
    "- Pipe flow is a very special case for which lots of experimental data is\n",
    "available\n",
    "     - Can use empirical relationships to accurately predict behaviour\n",
    "What about turbulent flow in more complex geometries?\n",
    "- Can readily rely on empirical data, especially if we want to use\n",
    "modelling for design\n",
    "- We need to be able to understand and model turbulence"
   ]
  },
  {
   "cell_type": "markdown",
   "id": "b460b271-6dd0-4843-9f82-aed4280e0fa8",
   "metadata": {},
   "source": [
    "## What Happens in Turbulent FLow?\n",
    "\n",
    "```{figure} Images/Lecture8.1/flow.PNG\n",
    ":width: 75%\n",
    "```    \n",
    "\n",
    "- At high Reynolds numbers large scale flow structures\n",
    "and instabilities will develop smaller scale\n",
    "perturbations\n",
    "- This cascade of larger perturbations generating smaller\n",
    "flow structures will continue down until the flow\n",
    "structures are small enough that viscosity can “win”\n",
    "     - The Kolmogorov length scale\n",
    "- At this finest level the energy in the flow is dissipated\n",
    "as heat via the viscosity\n",
    "\n",
    "```{figure} Images/Lecture8.1/graff.PNG\n",
    ":width: 50%\n",
    "```    "
   ]
  },
  {
   "cell_type": "markdown",
   "id": "f1cb18ca-d6a4-4579-979d-8563a76cef00",
   "metadata": {},
   "source": [
    "## Direct Numerical Simulation (DNS)\n",
    "\n",
    "- Solve Navier-Stokes equation with enough resolution to resolve all\n",
    "the eddies down to their laminar cores\n",
    "    - Very computationally expensive – prohibitively so for all but the lowest\n",
    "Reynolds numbers and smallest systems\n",
    "- We can get a rough estimate of the resolution required based on\n",
    "Kolmogorov length scales and dimensional arguments\n",
    "\n",
    "$$ \\large \\Delta x ~ \\left( L \\left( \\frac{\\mu}{\\rho |v|} \\right)^3 \\right)^{\\frac{1}{4}} $$\n",
    "\n",
    "Water at 1 m/s in a 1 m channel would require a resolution of about 10 µm (about 1015 elements in a cubic box)! "
   ]
  },
  {
   "cell_type": "markdown",
   "id": "473feee6-c17c-449b-b8ce-fd87dbf201ed",
   "metadata": {},
   "source": [
    "## Turbulence Modelling\n",
    "\n",
    "- As DNS is only useable on a small range of problems, we need to model the effect of turbulence\n",
    "- Turbulence dissipates more energy than the macroscopic strain rate would suggest\n",
    "     - Need to calculate this extra dissipation  \n",
    "     \n",
    "3 main approaches\n",
    "- Simply increase the viscosity!\n",
    "     - Trivial to do – often used in large scale simulations such as ocean modelling\n",
    "- Assume that you can separate the turbulent and mean components of the flow\n",
    "     - Reynold Average Navier Stokes (RANS) type models\n",
    "     - We will look at the k-ε model as it is the most commonly used of this type\n",
    "- Resolve as much as you can and then use a model for the bits you can’t resolve\n",
    "     - Large Eddy Simulations (LES)  \n",
    "     \n",
    "Both RANS and LES approaches involve the calculation of an additional turbulent viscosity that needs to be added to the underlying fluid viscosity"
   ]
  },
  {
   "cell_type": "markdown",
   "id": "ab15f943-746a-4b80-9a32-22bd3daa3746",
   "metadata": {},
   "source": [
    "## Mean and Fluctuating Flow Components\n",
    "\n",
    "- Turbulent structures are typically embedded within macroscopic flow\n",
    "structures\n",
    "- In analysing and modelling turbulence it is thus useful to distinguish\n",
    "between these flow components\n",
    "- Assume that the flow at any point can be decomposed into a mean\n",
    "component and a fluctuating component:\n",
    "\n",
    "$$ \\large \\mathbf{u} = \\mathbf{U} + \\mathbf{u}^{'} $$\n",
    "\n",
    "where 𝐮 is the instantaneous velocity, 𝐔 is the average velocity\n",
    "and 𝐮′ is the fluctuating component of the velocity\n"
   ]
  },
  {
   "cell_type": "markdown",
   "id": "ab4dce3a-c8a6-45b3-a811-939cb4dfec20",
   "metadata": {},
   "source": [
    "## RANS version of the Navier Stokes Equation\n",
    "\n",
    "$$ \\large \\rho \\frac{D \\mathbf{u}}{Dt} = - \\Delta p + \\mu \\nabla^2 \\mathbf{u} + \\rho \\mathbf{g}$$\n",
    "\n",
    "- Assume that there is a mean and fluctuating component of the velocity and pressure\n",
    "    - Fluctuating component of pressure has no impact on final equation form\n",
    "    \n",
    "$$ \\mathbf{u} = \\mathbf{U} + \\mathbf{u}^{'} $$  \n",
    "\n",
    "$$ p = P + p^{'} $$\n",
    "\n",
    "- Substituting and applying the RANS averaging rules:\n",
    "\n",
    "$$ \\large \\rho \\frac{D \\mathbf{U}}{Dt} = - \\nabla P + \\mu \\nabla^2 \\mathbf{U} + \\rho \\mathbf{g} - \\rho \\nabla \\cdot \\overline{ \\mathbf{u}^{'} \\mathbf{u}^{'} } $$"
   ]
  },
  {
   "cell_type": "markdown",
   "id": "3cf3ed29-8292-4399-96d3-037a28929643",
   "metadata": {},
   "source": [
    "## Reynolds Stress Tensor\n",
    "\n",
    "- The averaged equation is similar to the original except for the inclusion of the divergence of a rank 2 tensor:\n",
    "\n",
    "$$ \\rho \\nabla \\cdot \\overline{ \\mathbf{u}^{'} \\mathbf{u}^{'} } $$\n",
    "\n",
    "- Known as the Reynolds Stress Tensor\n",
    "\n",
    "$$ \\rho \\overline{ \\mathbf{u}^{'} \\mathbf{u}^{'} } = \\rho \\left[\n",
    "\\begin{array} \\\\\n",
    "\\overline{u^{'} u^{'}} & \\overline{u^{'} v^{'}} & \\overline{u^{'} w^{'}} \\\\\n",
    "\\overline{u^{'} v^{'}} & \\overline{v^{'} v^{'}} & \\overline{v^{'} w^{'}} \\\\\n",
    "\\overline{u^{'} w^{'}} & \\overline{v^{'} w^{'}} & \\overline{w^{'} w^{'}} \\\\\n",
    "\\end{array} \\right] $$\n",
    "\n",
    "$$ \\mathbf{u}^{'} = \\{ {u^{'},v^{'},w^{'}} \\}$$\n",
    "\n",
    "- Need to relate the Reynolds Stress Tensor to the mean flow\n",
    "     - Know as the turbulence closure problem\n",
    "     - No right way to do this, but some approximations are better than others\n",
    "- The Reynolds Stress Tensor represents the transport of momentum\n",
    "due to the fluctuations in the flow\n",
    "- In the standard Navier-Stokes equation the viscous stress term\n",
    "represents the “diffusion” of momentum\n",
    "     - We can therefore think of Reynolds Stress Tensor in terms of a diffusion of\n",
    "momentum due to velocity fluctuations – a turbulent eddy viscosity"
   ]
  },
  {
   "cell_type": "markdown",
   "id": "5c0c22a4-dd7f-4f5b-9c60-625a97c48bf7",
   "metadata": {},
   "source": [
    "## Turbulent Eddy Viscosity\n",
    "\n",
    "- Write the Reynolds Stress Tensor in terms of the macroscopic strain rate:\n",
    "\n",
    "$$ \\overline{ \\mathbf{u}^{'} \\mathbf{u}^{'} } = -v_T ( \\nabla \\mathbf{U} +\\nabla \\mathbf{U}^T) $$\n",
    "\n",
    "- This means that you can combine the liquid viscosity and the\n",
    "turbulent losses into a single effective viscosity:\n",
    "     - In turbulence modelling it is often more convenient to use the kinematic\n",
    "viscosity\n",
    "\n",
    "$$ v_{effective} = v + v_t $$\n",
    "\n",
    "- We now need to calculate this turbulent eddy viscosity"
   ]
  },
  {
   "cell_type": "markdown",
   "id": "4f050a78-0052-4cfa-8d64-239b736a782e",
   "metadata": {},
   "source": [
    "## Zero Equation Models\n",
    "\n",
    "- The simplest type of turbulence model\n",
    "    - Assume no explicit transport of turbulence\n",
    "- Mainly based on dimensional arguments\n",
    "     - $l_0$ is a turbulent length scale, $t_0$ is a turbulent time scale\n",
    "     \n",
    "$$ v_t = \\frac{l^2_0}{t_0} $$\n",
    "\n",
    "- Zero equation models are not very good in steady state RANS type\n",
    "models where the turbulent length scale is not well defined\n",
    "     - Often adequate in LES models where the turbulent structures are resolved\n",
    "down to the grid resolution\n",
    "        - Unresolved turbulent length scale similar to mesh resolution\n",
    "        - Less transport of small scale turbulence before it is dissipated  \n",
    "        \n",
    "- If we assume that we know the turbulent length scale, we still need\n",
    "the turbulent time scale from some macroscopic flow property\n",
    "     - Two obvious candidates\n",
    "        - Magnitude of the strain rate or magnitude of the vorticity\n",
    "        - Both have units of inverse time\n",
    "    - Based on strain rate – Smagorinsky mode\n",
    "    \n",
    "$$ \\large v_T = ( C_s l_0)^2 |\\mathbf{S}| $$\n",
    "\n",
    "$$ \\mathbf{S} = \\frac{1}{2} (\\nabla \\mathbf{u} + \\nabla \\mathbf{u}^{T} ) $$\n",
    "\n",
    "$C_S$ is a tuneable constant. Typical values are 0.1-0.2\n",
    "\n",
    "- Based on vorticity – Baldvin-Lomaz model\n",
    "    - Less widely used than Smagorinsky – Use in modelling boundary layers\n",
    "    - In boundary layers 𝑘 is a function of distance from the wall\n",
    "\n",
    "$$ v_T = (k l_0)^2 |\\mathbf{\\omega}| $$\n"
   ]
  },
  {
   "cell_type": "markdown",
   "id": "0b0a9992-3071-435d-a0ea-0b8eb62b9950",
   "metadata": {},
   "source": [
    "## Two Equation Model\n",
    "\n",
    "- We will revisit zero equation models in the context of LES\n",
    "- For RANS modelling zero equation models are generally inadequate\n",
    "- Need to consider the generation, transport and dissipation of\n",
    "turbulence\n",
    "     - Two quantities can be used to model this\n",
    "         - Turbulent kinetic energy - 𝑘\n",
    "         - Turbulent dissipation rate - 𝜀\n",
    "     - So called 𝑘 − 𝜀 turbulence model\n",
    "         - Other models exist, but this is one of the most widely used and illustrates the idea"
   ]
  },
  {
   "cell_type": "markdown",
   "id": "01ea2f34-d86c-4a18-a359-211c189afdc5",
   "metadata": {},
   "source": [
    "### Turbulent Kinetic Energy - $k$ \n",
    "\n",
    "- The fluctuating components of the turbulence stores energy  \n",
    "     - This is known as the turbulent kinetic energy, 𝑘, which, per mass of fluid, can be written as follows:\n",
    "\n",
    "$$ \\large k = \\frac{1}{2} \\left( \\overline{u^{'^{2}}} +  \\overline{v^{'^{2}}} +  \\overline{w^{'^{2}}} \\right) $$  \n",
    "\n",
    "$$ \\mathbf{u}^{'} = \\{ u^{'},v^{'},w^{'} \\} $$\n",
    "\n",
    "- Note that the turbulent kinetic energy is therefore closely related to the Root Mean Square (RMS) of the velocity distribution\n",
    "\n",
    "$$ u_{rms} = \\sqrt{\\overline{|\\mathbf{u}^{'}|^2}} = \\sqrt{\\overline{|u^{'}|^2} + \\overline{|v^{'}|^2} + \\overline{|w^{'}|^2} }$$\n",
    "\n",
    "- This turbulent kinetic energy is generated at the large scale and dissipated at the small scale\n",
    "    - It can also be transported around the system by the mean flow"
   ]
  },
  {
   "cell_type": "markdown",
   "id": "02ea3e0d-b4a1-4ee6-a883-ae999bdfe2e8",
   "metadata": {},
   "source": [
    "### Turbulent Dissipation Rate - $\\varepsilon $\n",
    "\n",
    "- This is equal to the viscous losses associated with the fluctuating\n",
    "component of the velocity\n",
    "    - I.e. the rate at which the turbulent kinetic energy is converted into thermal\n",
    "energy\n",
    "\n",
    "$$ \\large \\varepsilon = v ~ \\overline{ \\mathbf{S}^{'} \\cdot \\mathbf{S}^{'} } $$\n",
    "\n",
    "$$ \\mathbf{S}^{'} = \\frac{1}{2} ( \\nabla \\mathbf{u}^{'} + \\nabla \\mathbf{u}^{'T} ) $$\n",
    "\n",
    "- While this is how the energy is dissipated, this equation is not directly useful\n",
    "as we do not know the fluctuation components (or their gradients)"
   ]
  },
  {
   "cell_type": "markdown",
   "id": "7dbbda0b-b151-40ea-aea8-8dbcd3623afe",
   "metadata": {},
   "source": [
    "### Equations for $k$ and $\\varepsilon$ \n",
    "\n",
    "- Both the turbulent kinetic energy (𝑘) and the dissipation rate (𝜀) can be\n",
    "transported, generated and destroyed and are represented by a pair of\n",
    "coupled ODEs\n",
    "     - Don’t worry too much about how these are derived – note, though, the additional\n",
    "complexity associated with modelling turbulence\n",
    "\n",
    "$$\\large \\frac{\\partial k}{\\partial t} + \\mathbf{U} \\cdot \\nabla k = \\nabla \\cdot \\left( \\frac{v_t}{\\sigma_k} \\nabla k \\right) + 2 v_t \\mathbf{S} \\cdot \\mathbf{S} - \\varepsilon $$\n",
    "\n",
    "$$ \\mathbf{S} = \\frac{1}{2} = ( \\nabla \\mathbf{U}^{'} + \\nabla \\mathbf{U}^{'T} ) $$\n",
    "\n",
    "$$\\large \\frac{\\partial \\varepsilon}{\\partial t} + \\mathbf{U} \\cdot \\nabla k = \\nabla \\cdot \\left( \\frac{v_t}{\\sigma_{\\varepsilon}} \\nabla \\varepsilon \\right) + C_{1 \\varepsilon} \\frac{\\varepsilon}{k} \\mathbf{S} \\cdot \\mathbf{S} - C_{2 \\varepsilon} \\frac{\\varepsilon^2}{k} $$\n",
    "\n",
    "$$ v_T = C_{\\mu} \\frac{k^2}{\\varepsilon} $$\n",
    "\n",
    "The semi-empirical constants are typically assigned the following values:\n",
    "\n",
    "$$ C_{\\mu} = 0.09, ~~ \\sigma_k = 1.00, ~~ \\sigma_{\\varepsilon} = 1.30, ~~ C_{1 \\varepsilon} = 1.44, ~~ C_{2, \\varepsilon} = 1.92 $$"
   ]
  },
  {
   "cell_type": "markdown",
   "id": "bd446689-db7f-4c15-93bb-19849b1bd27a",
   "metadata": {},
   "source": [
    "## Boundaries in Turbulence Modelling\n",
    "- At inlets both 𝑘 and 𝜀 need to be assigned values\n",
    "    - If appropriate values are not assigned, long inlet regions will be required\n",
    "- At walls 𝑘 is zero (no slip), but the transition typically occurs over a\n",
    "very narrow boundary layer\n",
    "     - Typically need to model this boundary layer as it is usually computationally\n",
    "very expensive to explicitly resolve"
   ]
  },
  {
   "cell_type": "markdown",
   "id": "cae18c2e-3c35-4727-9c03-bfb735463667",
   "metadata": {},
   "source": [
    "## Large Eddy Simulations - LES\n",
    "\n",
    "- Transient simulations that resolve as much of the dynamics as\n",
    "possible\n",
    "- Zero equation models are usually appropriate\n",
    "     - No time averaging or smoothing of equations above the grid resolution\n",
    "     - If unresolved resolution is small then the assumption of no turbulent\n",
    "transport between generation and dissipation is appropriate\n",
    "- Can use Smagorinsky model with length scale as the grid resolution\n",
    "\n",
    "$$ v_T = (C_s \\Delta x)^2 |\\mathbf{S}| $$"
   ]
  },
  {
   "cell_type": "markdown",
   "id": "99f6265c-e62f-42a3-a841-125f786bf942",
   "metadata": {},
   "source": [
    "## RANS vs LES\n",
    "\n",
    "```{figure} Images/Lecture8.1/ransVSles.PNG\n",
    ":width: 75%\n",
    "```"
   ]
  },
  {
   "cell_type": "markdown",
   "id": "43fac9bd-004c-4ab0-9ec7-38a642a08ead",
   "metadata": {},
   "source": [
    "## Other Rheologies\n",
    "- Thus far we have only considered Newtonian rheology\n",
    "     - Shear stress proportional to the strain rate\n",
    "     - A good approximation for many fluids, importantly including water and\n",
    "virtually all gases\n",
    "- Other Rheologies are possible\n",
    "     - Shear stress a more complex function of strain rate\n",
    "     - Can also be a function of strain history\n",
    "        - Thixotropic fluids"
   ]
  },
  {
   "cell_type": "markdown",
   "id": "cba36342-8888-4543-a803-4cfd663a860a",
   "metadata": {},
   "source": [
    "## Shear thinning\n",
    "- Apparent viscosity decreases with strain rate\n",
    "     - Quite common\n",
    "         - Dense suspensions, emulsions, foams etc…\n",
    "     - Sometimes called pseudo-plastic fluids\n",
    "- Some physical origins:\n",
    "     - Structures in the fluid can break down at high shears\n",
    "         - E.g. some suspensions where particles can form flocs\n",
    "     - Molecules align with or are extended in the shear direction\n",
    "         - E.g. molten plastics\n",
    "     - Particles in a fluid align with the flow and so move past one another more\n",
    "easily"
   ]
  },
  {
   "cell_type": "markdown",
   "id": "ad1027b4-bfc4-4b07-b9f9-fd6540a08a8b",
   "metadata": {},
   "source": [
    "## Yield Stress\n",
    "- An extreme example of shear thinning are materials with a yield\n",
    "stress\n",
    "- Below a yield stress a material does not flow and acts like a solid\n",
    "- Above the yield stress the material flows and acts like a liquid\n",
    "- Quite common\n",
    "     - It is really a matter of the size of the yield stress\n",
    "     - Logical extension of plastic deformation in a solid"
   ]
  },
  {
   "cell_type": "markdown",
   "id": "f5a27e8a-fe0b-46d4-9afc-4a0162fc926b",
   "metadata": {},
   "source": [
    "## Shear thickening\n",
    "- Apparent viscosity increases with strain rate\n",
    "     - Much less common\n",
    "         - Classic example is corn starch in water\n",
    "- Some physical origins:\n",
    "     - Structures in the fluid jam and can’t pass one another as easily at high strain\n",
    "rates\n",
    "- Lots of current interest in shear-thickening fluids\n",
    "     - Flexible protection and armouring"
   ]
  },
  {
   "cell_type": "markdown",
   "id": "2eb0e48a-fd03-4799-be67-83b34634ca6e",
   "metadata": {},
   "source": [
    "## Modelling non-Newtonian Rheologies\n",
    "- Need to incorporate these rheologies into the Navier-Stokes equation\n",
    "     - Require a relationship between shear stress and strain rate tensors\n",
    "- Often easier to incorporate rheology as an apparent viscosity that\n",
    "depends on strain rate\n",
    "     - Note that in most solvers it is the velocity (and thus strain rate) that is\n",
    "assumed to be known"
   ]
  },
  {
   "cell_type": "markdown",
   "id": "f5900665-d9a6-4ad2-aacd-166c9d9f5e92",
   "metadata": {},
   "source": [
    "## Power law fluid\n",
    "- The simplest model for both shear thinning and shear thickening\n",
    "     - The separation of the strain rate into two terms is so that stress tensor points\n",
    "in the correct direction\n",
    "\n",
    "$$ \\mathbf{\\tau} = 2 k | 2 \\mathbf{S} |^{n-1} \\mathbf{S} $$\n",
    "\n",
    "- if $n=1$ this is Newtonian\n",
    "- if $n>1$ this is shear thickening\n",
    "- if $n<1$ this is shear thinning  \n",
    "\n",
    "$$ \\mu_{eff} = k |2\\mathbf{S}^{n-1}| $$\n",
    "\n",
    "- If the velocity is in the y direction and only changes in the x direction\n",
    "\n",
    "$$ \\tau = k \\frac{\\partial u_y}{\\partial x} \\left| \\frac{\\partial u_y}{\\partial x} \\right|^{n-1}  $$"
   ]
  },
  {
   "cell_type": "markdown",
   "id": "747abc0c-9bca-49e9-ada1-5e78e528bd1d",
   "metadata": {},
   "source": [
    "## Bingham Plastic\n",
    "\n",
    "- The simplest type of yield behaviour is to assume that there is a yield\n",
    "stress followed by a linearly increasing stress with increasing strain rate\n",
    "\n",
    "$$\\large \\text{if} ~ |\\tau| > |\\tau_0| ~ : ~~ \\tau = (2 \\mu_{\\infty} |\\mathbf{S}| + \\tau_0 ) \\frac{\\mathbf{S}}{|\\mathbf{S}|} $$  \n",
    "\n",
    "$$\\large \\text{if} ~ |\\tau| < |\\tau_0| ~ : ~~ \\mathbf{S} = 0 $$\n",
    "\n",
    "$$ \\text{if} ~ |\\tau| > |\\tau_0| ~ : ~~ \\mu_{eff} = 2 \\mu_{\\infty} + \\frac{\\tau_0}{|\\mathbf{S}|} $$  \n",
    "\n",
    "$$ \\text{if} ~ |\\tau| < |\\tau_0| ~ : ~~ \\mu_{eff} = \\infty $$\n",
    "\n",
    "- If the velocity is in the y direction and only changes in the x direction  \n",
    "\n",
    "$$\\large \\text{if} ~ |\\tau| > |\\tau_0| ~ : ~~ \\tau = sign \\left( \\frac{\\partial u_y}{\\partial x} \\right) \\left( k \\left( \\left| \\frac{\\partial u_y}{\\partial x} \\right| \\right)^{n} +\\tau_0 \\right)$$  \n",
    "\n",
    "$$\\large \\text{if} ~ |\\tau| < |\\tau_0| ~ : ~~ \\frac{\\partial u_y}{\\partial x} = 0 $$"
   ]
  },
  {
   "cell_type": "markdown",
   "id": "e035fb17-10e7-45b6-9041-99bf2986fa5c",
   "metadata": {},
   "source": [
    "## Free Surface Flow on an Inclined Plane\n",
    "\n",
    "- This is the problem that we solved earlier for a Newtonian fluid\n",
    "- Let us consider a Bingham plastic with a yield stress $𝜏_0$   \n",
    "\n",
    "Calculation : \n",
    "- The shear stress distribution in this problem is the same as that for the\n",
    "Newtonian fluid and can be obtained in the same manner:\n",
    "\n",
    "$$ \\tau_{xz} = - \\rho g \\cos (\\beta) x $$\n",
    "\n",
    "Note that again 𝑥 is defined as the distance below the free surface  \n",
    "\n",
    "As the 𝑥𝑧 component is the only non-zero shear stress:\n",
    "\n",
    "$$ \\text{if} ~ |\\tau_{xz}| > |\\tau_0| ~ : ~~ \\tau_{xz} = sign \\left( \\frac{d u_z}{d x} \\right) \\left( \\mu_{\\infty} \\left| \\frac{ d u_z}{d x} \\right| +\\tau_0 \\right) $$  \n",
    "\n",
    "$$ \\text{if} ~ |\\tau_{xz}| < |\\tau_0| ~ : ~~ \\frac{d u_z}{d x} = 0 $$\n",
    "\n",
    "- If we assume that the geometry is defined such that 𝜌𝑔cos 𝛽 is a positive number, then $|𝜏_{𝑥𝑧}| = − 𝜏_{𝑥𝑧} \\text{and} |\\frac{du_z}{dx}| = -\\frac{du_z}{dx} $ (note that if $𝜏_{𝑥𝑧}$ was positive, which would have been the case if we had\n",
    "defined 𝑥 as being the distance above the bottom of the flow, then $𝜏_{𝑥𝑧} = 𝜏_{𝑥𝑧} \\text{and} |\\frac{du_z}{dx}| = -\\frac{du_z}{dx} $\n",
    "\n",
    "$$ \\text{if} ~ -\\tau_{xz} > \\tau_0 ~ : ~~ \\tau_{xz} = \\left( \\mu_{\\infty} \\left| \\frac{ d u_z}{d x} \\right| +\\tau_0 \\right) $$  \n",
    "\n",
    "$$ \\text{if} ~ -\\tau_{xz} < \\tau_0 ~ : ~~ \\frac{d u_z}{d x} = 0 $$\n",
    "\n",
    "- We need to do this in two regions\n",
    "    - A deep region when $-𝜏_{𝑥𝑧} > 𝜏_0$ and a shallow region where $-𝜏_{𝑥𝑧} < 𝜏_0$\n",
    "    - Let $𝑥_0$ be the depth below the liquid surface of this transition:\n",
    "    \n",
    "$$ x_0 = \\frac{\\tau_0}{\\rho g \\cos(\\beta)} $$\n",
    "\n",
    "- In the deep region ($ x > x_0$):\n",
    "\n",
    "$$ -\\mu_{\\infty} \\frac{d u_z}{dx} + \\tau_0 = \\rho g \\cos(\\beta) x $$\n",
    "\n",
    "- Which can be integrated to give:\n",
    "\n",
    "$$ u_z = \\frac{-\\rho g \\cos(\\beta)}{2 \\mu_{\\infty}} x^2 + \\frac{\\tau_0}{\\mu_{\\infty}} x + B $$\n",
    "\n",
    "- B can be onbtained from no slip at the bottom ( $v_z = 0 ~~ \\text{at} ~~ x = h$)\n",
    "\n",
    "\n",
    "$$ u_z = \\frac{-\\rho g \\cos(\\beta)}{2 \\mu_{\\infty}} (h^2 - x^2) - \\frac{\\tau_0}{\\mu_{\\infty}} (h - x) $$\n",
    "\n",
    "- The velocity in the top portion is constant and can be obtained by setting $x = x_0$:\n",
    "\n",
    "$$ \\text{if} ~ x > x_0: ~ u_z = \\frac{-\\rho g \\cos(\\beta)}{2 \\mu_{\\infty}} (h^2 - x^2_0) - \\frac{\\tau_0}{\\mu_{\\infty}} (h - x_0) $$\n",
    "\n",
    "- Yielding following overall velocity profile:\n",
    "\n",
    "$$ u_z =\n",
    "\\begin{cases} \n",
    "    \\frac{-\\rho g \\cos(\\beta)}{2 \\mu_{\\infty}} (h^2 - x^2_0) - \\frac{\\tau_0}{\\mu_{\\infty}} (h - x_0) & \\text{if }~~ x < x_0 \\\\\n",
    "    \\frac{-\\rho g \\cos(\\beta)}{2 \\mu_{\\infty}} (h^2 - x^2) - \\frac{\\tau_0}{\\mu_{\\infty}} (\n",
    "h - x) & \\text{if }~~ x > x_0 \\\\\n",
    "\\end{cases}\n",
    "$$\n",
    "\n",
    "Where: $x_0 = \\frac{\\tau_0}{\\rho g \\cos(\\beta)}$"
   ]
  },
  {
   "cell_type": "markdown",
   "id": "733b87fb-06e0-4d66-8772-dbb9ac7b89dc",
   "metadata": {},
   "source": [
    "## Bingham plastic velocity profile\n",
    "\n",
    "```{figure} Images/Lecture8.1/profile.PNG\n",
    ":width: 75%\n",
    "```    \n"
   ]
  }
 ],
 "metadata": {
  "kernelspec": {
   "display_name": "Python 3 (ipykernel)",
   "language": "python",
   "name": "python3"
  },
  "language_info": {
   "codemirror_mode": {
    "name": "ipython",
    "version": 3
   },
   "file_extension": ".py",
   "mimetype": "text/x-python",
   "name": "python",
   "nbconvert_exporter": "python",
   "pygments_lexer": "ipython3",
   "version": "3.11.3"
  }
 },
 "nbformat": 4,
 "nbformat_minor": 5
}
