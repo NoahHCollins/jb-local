{
 "cells": [
  {
   "cell_type": "markdown",
   "id": "64471bce-a2d8-4b9d-93f3-a9bb3b22c6c8",
   "metadata": {},
   "source": [
    "# 9. Interpolation Quadrature 2"
   ]
  },
  {
   "cell_type": "markdown",
   "id": "6ea53e7a-b2ef-40b4-917c-f3ba2f693023",
   "metadata": {},
   "source": [
    "Chapter 9 will cover interpolation quadrature. The lecture will review and consolidation of some Computational Mathematics material. More advanced topics relating to the approximation of data and functions will be covered. Picewise-linear basis functions and expansions will be introduced which will be important for the finite element method in chapter 12. Topics relating to the approximation of integrals will also be covered. Through examples in the lecture and the worksheet, you will gain more exposure to error analysis and convergence rates, as well as practicing your coding skills. The key point for this chapter are:\n",
    "\n",
    "- General familiarity with errors and their dependence on the specifics of the numerical method, the function being considered and the interval size (or mesh resolution).\n",
    "- The specifics of the hat functions used as a basis for p/w linear interpolation.\n",
    "\n",
    "## Table of Contents\n",
    "\n",
    "```{tableofcontents}\n",
    "```"
   ]
  }
 ],
 "metadata": {
  "kernelspec": {
   "display_name": "Python 3 (ipykernel)",
   "language": "python",
   "name": "python3"
  },
  "language_info": {
   "codemirror_mode": {
    "name": "ipython",
    "version": 3
   },
   "file_extension": ".py",
   "mimetype": "text/x-python",
   "name": "python",
   "nbconvert_exporter": "python",
   "pygments_lexer": "ipython3",
   "version": "3.11.3"
  }
 },
 "nbformat": 4,
 "nbformat_minor": 5
}
