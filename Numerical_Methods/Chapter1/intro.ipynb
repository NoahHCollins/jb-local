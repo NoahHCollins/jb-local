{
 "cells": [
  {
   "cell_type": "markdown",
   "id": "64471bce-a2d8-4b9d-93f3-a9bb3b22c6c8",
   "metadata": {},
   "source": [
    "# 1. Intro to Vector/Tensor Calculus"
   ]
  },
  {
   "cell_type": "markdown",
   "id": "ef168dc1-bb7a-4a63-9ded-0a8bb135bdbf",
   "metadata": {},
   "source": [
    "The first chapter of this course will cover vectors and tensors, introducing them both conceptually and practically. By the end of this chapter you should be confident with vectors and tensors, as they will be used throught the module. The Learning objectives of the chapter are as follows:\n",
    "\n",
    "- Be able to perform vector/tensor operations (addition, multiplication) on Cartesian orthonormal bases   \n",
    "- Be able to do basic vector/tensor calculus (time and space derivatives, divergence, curl of a vector field) on these bases.   \n",
    "- Perform transformation of a vector from one Cartesian basis to another.   \n",
    "- Understand differences/commonalities between tensor and vector   \n",
    "- Familiarity with index notation and Einstein convention  \n",
    "\n",
    "The chapter will consist of three lectures, with practice exercises to ensure you are confident in using vectors and tensors\n",
    "\n",
    "## Table of Contents\n",
    "\n",
    "```{tableofcontents}\n",
    "```"
   ]
  }
 ],
 "metadata": {
  "kernelspec": {
   "display_name": "Python 3 (ipykernel)",
   "language": "python",
   "name": "python3"
  },
  "language_info": {
   "codemirror_mode": {
    "name": "ipython",
    "version": 3
   },
   "file_extension": ".py",
   "mimetype": "text/x-python",
   "name": "python",
   "nbconvert_exporter": "python",
   "pygments_lexer": "ipython3",
   "version": "3.11.3"
  }
 },
 "nbformat": 4,
 "nbformat_minor": 5
}
