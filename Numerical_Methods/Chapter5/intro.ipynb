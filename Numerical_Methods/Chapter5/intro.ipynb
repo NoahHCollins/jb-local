{
 "cells": [
  {
   "cell_type": "markdown",
   "id": "64471bce-a2d8-4b9d-93f3-a9bb3b22c6c8",
   "metadata": {},
   "source": [
    "# 5. Dimensional Analysis"
   ]
  },
  {
   "cell_type": "markdown",
   "id": "6ea53e7a-b2ef-40b4-917c-f3ba2f693023",
   "metadata": {},
   "source": [
    "The fifth chapter of this course will cover Dimensional Analysis. To demonstrate the principles of dimensional analysis the advection-diffusion equation will be studdied. Buckingham-Pi theorem will be also introduced, and we will see how dimensional analysis can be used to investigate instabilities. The Learning objectives of the chapter are as follows:\n",
    "\n",
    "- Learn how to non-dimensionalise variables and equations\n",
    "- Understand how to solve the advection-diffusion equation using numerical and analytical methods\n",
    "- Learn how to carry out a dimensional analysis using Buckingham-Pi Theory\n",
    "- Learn how to apply dimensional analysis to stability problems\n",
    "\n",
    "## Table of Contents\n",
    "\n",
    "```{tableofcontents}\n",
    "```"
   ]
  },
  {
   "cell_type": "code",
   "execution_count": null,
   "id": "ae33dffc-0a30-42bd-b9ae-8f03e9eaf0d2",
   "metadata": {},
   "outputs": [],
   "source": []
  }
 ],
 "metadata": {
  "kernelspec": {
   "display_name": "Python 3 (ipykernel)",
   "language": "python",
   "name": "python3"
  },
  "language_info": {
   "codemirror_mode": {
    "name": "ipython",
    "version": 3
   },
   "file_extension": ".py",
   "mimetype": "text/x-python",
   "name": "python",
   "nbconvert_exporter": "python",
   "pygments_lexer": "ipython3",
   "version": "3.11.3"
  }
 },
 "nbformat": 4,
 "nbformat_minor": 5
}
