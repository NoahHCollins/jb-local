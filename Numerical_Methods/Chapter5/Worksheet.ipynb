{
 "cells": [
  {
   "cell_type": "markdown",
   "metadata": {},
   "source": [
    "# Worksheet  <a class=\"tocSkip\">\n",
    "\n"
   ]
  },
  {
   "cell_type": "markdown",
   "metadata": {},
   "source": [
    "## Question 1\n",
    "\n",
    "We mentioned that the Rayleigh-Taylor instability can be potentially suppressed by surface tension. The bigger the disturbance, the less the surface tension is able to supress it. The maximum size of a disturbance is the width of the container, $d$. The other factors are the surface tension $\\gamma$, gravity $g$,  and the two densities $\\rho_h$ and $\\rho_l$. You can ignore viscosity as a factor that is only relevant once the system begins to move.\n",
    "\n",
    "1)  How many dimensionless groups are required to characterise the onset of the instability?\n",
    "\n",
    "2)  One dimensionless group can be the ratio of the densities (or, equivalently, the Atwood number). What other dimenstionless groups do you propose?\n",
    "\n",
    "3)  These dimensionless groups represent ratios of forces? Can you identify the ratios?\n"
   ]
  },
  {
   "cell_type": "markdown",
   "metadata": {},
   "source": [
    "## Question 2\n",
    "\n",
    "We wish to study the heat transfer in a radiator and, in particular, how the amount of energy transferred depends on the size of the radiator, the temperature difference and the fluid and heat transfer properties.\n",
    "\n",
    "```{figure} /Chapter6/Images/Lecture6.1/Table.PNG\n",
    ":width: 75%\n",
    "``` \n",
    "\n",
    ">  a) How many dimensionless groups are required to describe this system? Show your working (Hint: what are the base units of energy and power?) \n",
    "\n",
    ">  b) Find a suitable set of dimensionless groups. You may wish to manipulate the groups into the omst appropriate ones. Why did you decide upon these particular groups?\n",
    "\n",
    ">  c) Dimensionless groups typically involve ratios of quantites or effects, what do the ones you have found represent?\n",
    "\n",
    "Show your working, but you can use Python to invert any required matrices."
   ]
  },
  {
   "cell_type": "markdown",
   "metadata": {},
   "source": [
    "## Question 3\n",
    "\n",
    "If you have a model for a process, it is often useful to non-dimensionalise the equation. One area that I work on is the behaviour of foams. The vertical motion of liquid in a foam can be described by the following two equations:\n",
    "\n",
    "$$\n",
    "v_z = -\\frac{\\rho g}{3 \\mu C_{PB}} A - \\frac{\\gamma \\sqrt{(3 - \\frac{\\pi}{2}}}{6 \\mu C_{PB}} \\frac{1}{\\sqrt{A}} \\frac{\\partial A}{\\partial z} \n",
    "\\hspace{1cm} \\text{and} \\hspace{1cm}\n",
    "\\frac{\\partial}{\\partial t} (A \\lambda) + \\frac{\\partial}{\\partial z} (A \\lambda v_z) = 0\n",
    "$$\n",
    "\n",
    "Where $A$ is the cross-sectional area of the Plateau borders 9the drainage channels within the foam). $v_z$ is the vertical liquid velocity, $\\rho$ is the liquid density, $\\mu$ is the liquid viscosity, $\\gamma$ is the surface tension, $g$ is the acceleration due to gravity and $C_{PB}$ is an already dimensionless drag coefficient. \n",
    "\n",
    "$\\lambda$ is the length of Plateau borders per volume of foam and can be used to non-dimensionalise the Pleteau border area $A$, by turning it into a liquid content $\\phi$: \n",
    "\n",
    "$$\n",
    "\\phi = \\lambda A\n",
    "\\hspace{1cm} \\text{and} \\hspace{1cm}\n",
    "\\lambda = \\frac{k_{\\lambda}}{d_B^2}\n",
    "$$\n",
    "\n",
    "Where $d_b$ is the bubble diameter and $k_\\lambda$  is a dimensionless geometric constant. \n",
    "\n",
    "> a) Substitude the liquid velocity into the continuity equation and expand to obtain a governing equation. You may assume that only $A$ (and thus $\\phi$) varies with respect to either time or space (i.e all other variables can be assumed to be constant). You can also eliminate $A$ in order to make the liquid content (which is dimensionless) the dependent variable. \n",
    "\n",
    "The next step is to non-dimensionalise the resulting governing equation by using a dimensionless position $z^*$, and time $t^*$. \n",
    "\n",
    "> b) Produce a dimensionles time $t^*$ and a dimensionless position $z^*$. While you could use the bubble diameter to non-dimensionalise z. I would recommend using the physical parameters: $\\rho, g, \\mu$ and $\\gamma$. Note that there is more than one way to acheieve this. I would recommned a Bond number to non-dimensionalise the position. This is because the rate at which the liquid varies with position is dominated by the balance between the gravity and capillarity - use $\\rho, g$ and $\\gamma$ together with $z$ to from $z^*$/ Introduce the viscosity into the non-dimensional time as the speed of a process is typically viscosity-dependent. Given the available variables there is more than one way to acheive this. \n",
    "\n",
    "> c) Non-dimensionalise the governing equation using the dimensionless variables into dimensionless groups. What are these dimenisonless groups called?"
   ]
  },
  {
   "cell_type": "markdown",
   "metadata": {},
   "source": [
    "### Optional\n",
    "\n",
    "Now that you have obtained a dimenisionless verison of the governing equation you can attempt to solve it numerically. \n",
    "\n",
    "> a) Produce a finite difference approximation of the governing equation using the following approximations:\n",
    "\n",
    "$$\n",
    "\\frac{\\partial \\phi}{\\partial t^*} \\approx \\frac{\\phi(z^*, t^* \\hspace{0.1cm} + \\hspace{0.1cm} \\Delta t^*) - \\phi(z^*, t^*)}{\\Delta t^*}\n",
    "$$\n",
    "\n",
    "$$\n",
    "\\frac{\\partial \\phi}{\\partial z^*} \\approx \\frac{\\phi(z^* \\hspace{0.1cm} + \\hspace{0.1cm} \\Delta z^*, t^*) - \\phi(z^* \\hspace{0.1cm} - \\hspace{0.1cm} \\Delta z^*, t^*)}{ 2\\Delta z^*} \n",
    "$$\n",
    "\n",
    "$$\n",
    "\\frac{\\partial^2 \\phi}{\\partial z^{*2}} \\approx \\frac{\\phi (z^* \\hspace{0.1cm} + \\hspace{0.1cm} \\Delta z^*) - 2\\phi(z^*, t^*) + \\phi(z^* \\hspace{0.1cm} - \\hspace{0.1cm} \\Delta z^*, t^*)}{\\Delta z^{*2}}\n",
    "$$"
   ]
  },
  {
   "cell_type": "markdown",
   "metadata": {},
   "source": [
    "> b) Write this in the form  $\\phi(z^*, t^* \\hspace{0.1cm} + \\hspace{0.1cm} \\Delta t^*) = f(\\phi(z^*, t^*), \\phi(z^* \\hspace{0.1cm} + \\hspace{0.1cm} \\Delta z^*, t^*), \\phi(z^* \\hspace{0.1cm} - \\hspace{0.1cm} \\Delta z^*, t^*))$\n",
    "\n",
    "> c) Replace the approximation for the advection-diffusion equation in the code with this approximation. You can solve this problem using $\\phi = 0.2$ at the top of the foam where $z = 0.1m$ (remember to convert this into a dimensionless length) and a liquid content $\\phi = 0.3$ at the bottom of the foam. Have an initial liquid content everywhere else of $\\phi = 0.01$ \n",
    "\n",
    "You can assume that the liquid is water with a surfactant in it, resulting in the following physical parameters: $\\rho = 1000 kg/m^3, \\mu = 0.001 Pa s, \\gamma = 0.02 N/m$ and $ g = 9.81 m/s^2$. The dimensionless parameters can be given the values $C_{PB} = 50$ and $k_\\lambda = 7$. We will assume that the bubble diameter $d_b = 0.005m$. \n",
    "\n",
    "Because this equation is non-linear, obtaining a value for the time step to use for a given resolution is slightly trickier than for the advection-diffusion equation, though we can use a similar analysis. Consider the governing equation in the following form: \n",
    "\n",
    "$$\n",
    "\\frac{\\partial \\phi}{\\partial t^*} = v \\frac{\\partial \\phi}{\\partial z^*} - D \\frac{\\partial^2 \\phi}{\\partial z^{*2}}\n",
    "$$\n",
    "\n",
    "With the governing equation for this problem $v$ and $D$ are functions of $\\phi$ (and potentially its gradient). You can obtain an appropriate time step by noting that: \n",
    "\n",
    "$$\n",
    "\\Delta t^* << min\\Biggl(\\frac{\\Delta z^*}{|v|_{max}}, \\frac{\\Delta z^{*2}}{2|D|_{max}} \\Biggr)\n",
    "$$"
   ]
  },
  {
   "cell_type": "markdown",
   "metadata": {},
   "source": [
    "Note that the liquid content in the foam will be bounded by the initial value ($\\phi = 0.01$) and the value at the bottom of the foam ($\\phi = 0.3$) \n",
    "\n",
    "Plot the liquid content as a function of height for a range of different times. This type of foam behaviour is known as a forced drainage. You should see it as a solitary wave moving down the foam, with some liquid being sucked into the bottom of the foam due to capillarity.\n",
    "\n",
    "Note that you will need to do a few seconds of real time, with an output every 0.1 seconds being appropriate for this set of conditions (the number of dimensionless seconds that this represents will depend on how you have non-dimensionalised time)"
   ]
  },
  {
   "cell_type": "code",
   "execution_count": null,
   "metadata": {},
   "outputs": [],
   "source": []
  }
 ],
 "metadata": {
  "hide_input": false,
  "kernelspec": {
   "display_name": "Python 3",
   "language": "python",
   "name": "python3"
  },
  "language_info": {
   "codemirror_mode": {
    "name": "ipython",
    "version": 3
   },
   "file_extension": ".py",
   "mimetype": "text/x-python",
   "name": "python",
   "nbconvert_exporter": "python",
   "pygments_lexer": "ipython3",
   "version": "3.6.7"
  },
  "toc": {
   "base_numbering": 1,
   "nav_menu": {},
   "number_sections": true,
   "sideBar": true,
   "skip_h1_title": false,
   "title_cell": "Table of Contents",
   "title_sidebar": "Contents",
   "toc_cell": true,
   "toc_position": {},
   "toc_section_display": true,
   "toc_window_display": true
  }
 },
 "nbformat": 4,
 "nbformat_minor": 2
}
