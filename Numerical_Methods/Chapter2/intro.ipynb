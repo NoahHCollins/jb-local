{
 "cells": [
  {
   "cell_type": "markdown",
   "id": "64471bce-a2d8-4b9d-93f3-a9bb3b22c6c8",
   "metadata": {},
   "source": [
    "# Chapter 2: Stress Tensor"
   ]
  },
  {
   "cell_type": "markdown",
   "id": "6ea53e7a-b2ef-40b4-917c-f3ba2f693023",
   "metadata": {},
   "source": [
    "Put a table of contents for the lectures here and an overview of topic?\n",
    "\n",
    "```{tableofcontents}\n",
    "```"
   ]
  }
 ],
 "metadata": {
  "kernelspec": {
   "display_name": "Python 3 (ipykernel)",
   "language": "python",
   "name": "python3"
  },
  "language_info": {
   "codemirror_mode": {
    "name": "ipython",
    "version": 3
   },
   "file_extension": ".py",
   "mimetype": "text/x-python",
   "name": "python",
   "nbconvert_exporter": "python",
   "pygments_lexer": "ipython3",
   "version": "3.11.3"
  }
 },
 "nbformat": 4,
 "nbformat_minor": 5
}
