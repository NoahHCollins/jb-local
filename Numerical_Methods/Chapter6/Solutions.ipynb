{
 "cells": [
  {
   "cell_type": "markdown",
   "metadata": {},
   "source": [
    "# Solutions  <a class=\"tocSkip\">\n"
   ]
  },
  {
   "cell_type": "code",
   "execution_count": 8,
   "metadata": {},
   "outputs": [],
   "source": [
    "# Import packages for notebook here\n",
    "import numpy as np\n",
    "import matplotlib.pyplot as plt\n",
    "\n",
    "%matplotlib inline"
   ]
  },
  {
   "cell_type": "markdown",
   "metadata": {},
   "source": [
    "## Question 1\n",
    "\n",
    "For the left-hand side boundary:\n",
    "\n",
    "Flux = $10 A/m$\n",
    "\n",
    "$Q = 5 A$\n",
    "\n",
    "$ F_x = 10 = $  $\\large{\\frac{d \\phi}{d y}} $\n",
    "\n",
    "$\\psi_L = 10y + A$\n",
    "\n",
    "For the top boundary: \n",
    "\n",
    "$Q = 2.5 A$\n",
    "\n",
    "The linear change in flux: \n",
    "\n",
    "$F_y = 1.25(2 - x) = $ $\\large{ - \\frac{d \\psi}{dx}} $ \n",
    "\n",
    "$\\psi_T = -1.25(2x - 0.5x^2) + B$\n",
    "\n",
    "For the right-hand side boundary:\n",
    "\n",
    "Q = $0A$\n",
    "\n",
    "$\\psi_R = C$\n",
    "\n",
    "For the bottom boundary: \n",
    "\n",
    "Q = $2.5 A$\n",
    "\n",
    "Linear change in flux: \n",
    "\n",
    "$F_y = -1.25 (2 - x) = $ $\\large{-\\frac{d \\psi}{dx}}$\n",
    "\n",
    "$\\psi_B = 1.25(2x - 0.5x^2) + D$\n",
    "\n",
    "We can arbritarily choose one value of $\\psi$=. I will set $C = 0$. The values of $\\psi$ must meet at the corners where boundaries meet:\n",
    "\n",
    "$\\psi_L = 10y - 2.5$\n",
    "\n",
    "$\\psi_T = 2.5 - 1.25(2x - 0.5x^2)$\n",
    "\n",
    "$\\psi_R = 0$\n",
    "\n",
    "$\\psi_B = 1.25(2x - 0.5x^2) - 2.5$"
   ]
  },
  {
   "cell_type": "markdown",
   "metadata": {},
   "source": [
    "## Question 2 & Question 3"
   ]
  },
  {
   "cell_type": "code",
   "execution_count": null,
   "metadata": {},
   "outputs": [
    {
     "name": "stdout",
     "output_type": "stream",
     "text": [
      "Populating the interactive namespace from numpy and matplotlib\n"
     ]
    },
    {
     "name": "stderr",
     "output_type": "stream",
     "text": [
      "c:\\Anaconda3\\lib\\site-packages\\matplotlib\\pyplot.py:514: RuntimeWarning: More than 20 figures have been opened. Figures created through the pyplot interface (`matplotlib.pyplot.figure`) are retained until explicitly closed and may consume too much memory. (To control this warning, see the rcParam `figure.max_open_warning`).\n",
      "  max_open_warning, RuntimeWarning)\n"
     ]
    },
    {
     "name": "stdout",
     "output_type": "stream",
     "text": [
      "100: resid=0.003413\n",
      "200: resid=0.001620\n",
      "300: resid=0.000947\n",
      "400: resid=0.000584\n",
      "500: resid=0.000370\n",
      "600: resid=0.000237\n",
      "700: resid=0.000154\n",
      "800: resid=0.000101\n",
      "900: resid=0.000066\n",
      "1000: resid=0.000043\n",
      "1100: resid=0.000029\n",
      "1200: resid=0.000019\n",
      "1300: resid=0.000013\n",
      "1400: resid=0.000008\n",
      "1500: resid=0.000005\n",
      "1600: resid=0.000004\n",
      "1700: resid=0.000002\n",
      "1800: resid=0.000002\n",
      "1900: resid=0.000001\n"
     ]
    },
    {
     "data": {
      "text/plain": [
       "<matplotlib.quiver.Quiver at 0x24ef3f65eb8>"
      ]
     },
     "execution_count": 10,
     "metadata": {},
     "output_type": "execute_result"
    }
   ],
   "source": [
    "%pylab inline\n",
    "import math\n",
    "imax=201\n",
    "jmax=51\n",
    "Psi=zeros((imax,jmax))\n",
    "dx=2.0/(imax-1)\n",
    "for i in range(imax):\n",
    "    x=dx*i\n",
    "    Psi[i,0]=1.25*(2*x-0.5*x*x)-2.5\n",
    "    Psi[i,jmax-1]=2.5-1.25*(2*x-0.5*x*x)\n",
    "for j in range(jmax):\n",
    "    y=dx*j\n",
    "    Psi[0,j]=10*y-2.5\n",
    "    Psi[imax-1,j]=0\n",
    "\n",
    "for i in range(1,imax-1,1):\n",
    "    for j in range(1,jmax-1,1):\n",
    "        Psi[i,j]=0.0\n",
    "\n",
    "residave = 1000.0\n",
    "cnt = 0\n",
    "a = 1.0; b = 1.0; c = 1.0; d = 1.0; e = -4.0; f = 0.0\n",
    "Psi_old = copy(Psi)\n",
    "while residave>1.0e-6:\n",
    "    Psi[1:-1, 1:-1] = (1.0 / e) * (f - (a * Psi_old[2:, 1:-1] + b * Psi_old[:-2, 1:-1] + c * Psi_old[1:-1, 2:] + d *\n",
    "Psi_old[1:-1, :-2]))\n",
    "    residave = np.linalg.norm(Psi-Psi_old)/np.maximum(1.0e-10,np.linalg.norm(Psi))\n",
    "\n",
    "    temp = Psi\n",
    "    Psi = Psi_old\n",
    "    Psi_old = temp\n",
    "\n",
    "    cnt+=1\n",
    "    if cnt%100==0:\n",
    "         print(\"%g: resid=%f\" % (cnt,residave))\n",
    "    fig1=figure()\n",
    "    imshow(Psi.transpose(),origin='lower')\n",
    "    \n",
    "## Question 3\n",
    "\n",
    "fx=np.zeros((imax,jmax))\n",
    "fy=np.zeros((imax,jmax))\n",
    "for i in range(0,imax,1):\n",
    "    for j in range(0,jmax,1):\n",
    "        if j>0 and j<jmax-1:\n",
    "            fx[i,j]=(Psi[i,j+1]-Psi[i,j-1])/(2.*dx)\n",
    "        elif j>0:\n",
    "            fx[i,j]=(Psi[i,j]-Psi[i,j-1])/dx\n",
    "        else:\n",
    "            fx[i,j]=(Psi[i,j+1]-Psi[i,j])/dx\n",
    "\n",
    "        if i>0 and i<imax-1:\n",
    "            fy[i,j]=-(Psi[i+1,j]-Psi[i-1,j])/(2.*dx)\n",
    "        elif i>0:\n",
    "            fy[i,j]=-(Psi[i,j]-Psi[i-1,j])/dx\n",
    "        else:\n",
    "            fy[i,j]=-(Psi[i+1,j]-Psi[i,j])/dx\n",
    "stride = 5\n",
    "quiver(fx.transpose()[::stride,::stride],fy.transpose()[::stride,::stride])"
   ]
  }
 ],
 "metadata": {
  "hide_input": false,
  "kernelspec": {
   "display_name": "Python 3",
   "language": "python",
   "name": "python3"
  },
  "language_info": {
   "codemirror_mode": {
    "name": "ipython",
    "version": 3
   },
   "file_extension": ".py",
   "mimetype": "text/x-python",
   "name": "python",
   "nbconvert_exporter": "python",
   "pygments_lexer": "ipython3",
   "version": "3.6.7"
  },
  "toc": {
   "base_numbering": 1,
   "nav_menu": {},
   "number_sections": true,
   "sideBar": true,
   "skip_h1_title": false,
   "title_cell": "Table of Contents",
   "title_sidebar": "Contents",
   "toc_cell": true,
   "toc_position": {},
   "toc_section_display": true,
   "toc_window_display": true
  }
 },
 "nbformat": 4,
 "nbformat_minor": 2
}
