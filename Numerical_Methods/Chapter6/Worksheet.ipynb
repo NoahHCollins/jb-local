{
 "cells": [
  {
   "cell_type": "markdown",
   "metadata": {},
   "source": [
    "# Worksheet  <a class=\"tocSkip\">\n"
   ]
  },
  {
   "cell_type": "markdown",
   "metadata": {},
   "source": [
    "## Question 1\n",
    "\n",
    "\n",
    "An electrical current is flowing into a bar of height $0.5m$ and length $2m$ (assume that it is deep enough in the 3rd dimension for this to be considered a 2D problem). On the left hand side there is a 2D electrical flux of $10 A/m$. This flux splits evenly out of the top and bottom of the bar, with the outflowing flux decreasing linearly down to zero at the right hand end of the top and bottom boundaries. There is no flux out of the right hand side of the bar. \n",
    "\n",
    "We will be using a stream function formulation and so the first step will be to calculate the values of the stream function at all locations on the boundary of the domain."
   ]
  },
  {
   "cell_type": "markdown",
   "metadata": {},
   "source": [
    "## Question 2\n",
    "\n",
    "Write a Python script to calculate the stream function values ar every point on a 51x201 grid (note the number of points - with 51 points there are 50 intervals and with 201 points there are 200 intervals).\n",
    "\n",
    "Implement a Jacobi iteration algorithm to solve this problem."
   ]
  },
  {
   "cell_type": "markdown",
   "metadata": {},
   "source": [
    "## Question 3\n",
    "\n",
    "Given that you have the value of the stream function at all locations on the grid and you know the relationship between the gradients of the stream function and the x and y fluxes, calculate these fluxes. \n",
    "\n",
    "Use the finite difference approximations for the gradients of the stream function. At all interior points you can use a central difference, but on the boundaries you will need to use forward or backward differences as approximations for any gradients in the direction perpendicular to the boundary. "
   ]
  }
 ],
 "metadata": {
  "hide_input": false,
  "kernelspec": {
   "display_name": "Python 3",
   "language": "python",
   "name": "python3"
  },
  "language_info": {
   "codemirror_mode": {
    "name": "ipython",
    "version": 3
   },
   "file_extension": ".py",
   "mimetype": "text/x-python",
   "name": "python",
   "nbconvert_exporter": "python",
   "pygments_lexer": "ipython3",
   "version": "3.6.7"
  },
  "toc": {
   "base_numbering": 1,
   "nav_menu": {},
   "number_sections": true,
   "sideBar": true,
   "skip_h1_title": false,
   "title_cell": "Table of Contents",
   "title_sidebar": "Contents",
   "toc_cell": true,
   "toc_position": {},
   "toc_section_display": true,
   "toc_window_display": true
  }
 },
 "nbformat": 4,
 "nbformat_minor": 2
}
