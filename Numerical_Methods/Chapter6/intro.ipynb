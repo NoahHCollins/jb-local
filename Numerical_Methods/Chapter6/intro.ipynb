{
 "cells": [
  {
   "cell_type": "markdown",
   "id": "920238c2",
   "metadata": {},
   "source": [
    "# 6. Potential Flow\n",
    "\n",
    "The following chapter will introduce fluid dynamics and the concept of potential flow. In this lecture, we embark on a journey to understand the principles behind potential flow, a simplified model used to study fluid behavior without the complexities of viscosity and turbulence. \n",
    "\n",
    "- __Introduction to Potential Flow:__ We will explain the idea of potential flow as a simplified model for fluid motion analysis and present scenarios where potential flow assumptions are applicable such as flow in porous media and random motion.\n",
    "\n",
    "- __Incompressible and Irrotational Flow:__ We will cover incompressible, inviscid flow and its implications for potential flow analysis and we will also explore the concept of irrotational flow, where vorticity is negligible, and its relevance to potential flow theory.\n",
    "\n",
    "- __Stream Function__ We will introduce the stream function as an alternative approach to describe fluid motion. Discussion of how streamlines and equipotential lines are related to the stream function.\n",
    "\n",
    "- __Numerical Solutions__: We will cover multiple numerical schemes and methods in order to solve Laplace's equation such as the central difference method and the Jacobi method. Additionally, various types of boundary conditions will also be shown which can be implemented in the numerical schemes.  \n",
    "\n",
    "By the end of this chapter, you will be able to understand and apply potential flow to solve various problems and understand how these simplifications can help solve more complex problems. There are exercises at the end of the chapter and a worksheet with solutions to test your knowledge."
   ]
  },
  {
   "cell_type": "markdown",
   "id": "e7d9ac3c",
   "metadata": {},
   "source": [
    "```{tableofcontents}\n",
    "```"
   ]
  }
 ],
 "metadata": {
  "kernelspec": {
   "display_name": "Python 3 (ipykernel)",
   "language": "python",
   "name": "python3"
  },
  "language_info": {
   "codemirror_mode": {
    "name": "ipython",
    "version": 3
   },
   "file_extension": ".py",
   "mimetype": "text/x-python",
   "name": "python",
   "nbconvert_exporter": "python",
   "pygments_lexer": "ipython3",
   "version": "3.9.7"
  }
 },
 "nbformat": 4,
 "nbformat_minor": 5
}
