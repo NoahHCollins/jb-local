{
 "cells": [
  {
   "cell_type": "markdown",
   "id": "64471bce-a2d8-4b9d-93f3-a9bb3b22c6c8",
   "metadata": {},
   "source": [
    "# 7. Navier-Stokes"
   ]
  },
  {
   "cell_type": "markdown",
   "id": "6ea53e7a-b2ef-40b4-917c-f3ba2f693023",
   "metadata": {},
   "source": [
    "Chapter 7 covers the Navier-Stokes equation and its key characteristics, as well as how to solve it numerically. The fully implicit solution to the NS equation will be derived, and a semi-implicit method (Pressure projection method) for solving the equation will be discussed. The lecture will also include some examples for demonstration. The learning objectives are as follows: \n",
    "\n",
    "- Derive an implicit discretisation for the NS equation\n",
    "- Derive a pressure projection discretisation for solving the NS equation\n",
    "- Derive appropriate boundary conditions for the problem\n",
    "- Learn how to implement a solver for the Pressure Poisson problem\n",
    "- Learn how to implement an explicit solver for the momentum equation, including the appropriate use of up-winding\n",
    "- Combine the solvers into a single Navier-Stokes solver capable of solving a range of fluid flow problems\n",
    "\n",
    "## Table of Contents\n",
    "\n",
    "```{tableofcontents}\n",
    "```"
   ]
  }
 ],
 "metadata": {
  "kernelspec": {
   "display_name": "Python 3 (ipykernel)",
   "language": "python",
   "name": "python3"
  },
  "language_info": {
   "codemirror_mode": {
    "name": "ipython",
    "version": 3
   },
   "file_extension": ".py",
   "mimetype": "text/x-python",
   "name": "python",
   "nbconvert_exporter": "python",
   "pygments_lexer": "ipython3",
   "version": "3.11.3"
  }
 },
 "nbformat": 4,
 "nbformat_minor": 5
}
