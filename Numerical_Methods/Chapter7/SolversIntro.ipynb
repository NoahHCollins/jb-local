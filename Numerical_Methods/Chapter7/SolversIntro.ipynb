{
 "cells": [
  {
   "cell_type": "markdown",
   "id": "d4e18bb5-f0c1-4a40-8d06-95efb30e3b4d",
   "metadata": {},
   "source": [
    "# Solvers\n",
    "\n",
    "**Description of what these are**"
   ]
  },
  {
   "cell_type": "markdown",
   "id": "f55f7497-ff4d-411b-bcf2-cd4c08f53800",
   "metadata": {},
   "source": [
    "[Lid Driven Loops Solver](./Solvers/Solver_lid_driven_Loops.ipynb)  \n",
    "[Lid Driven Vectorised Solver](./Solvers/Solver_lid_driven_Vectorised.ipynb)  \n",
    "[Pressure Driven Uneven Vectorised Solver](./Solvers/Solver_pressure_driven_uneven_Vectorised.ipynb)  \n",
    "[Pressure Driven Vectorised Solver](./Solvers/Solver_pressure_driven_Vectorised.ipynb)  \n"
   ]
  }
 ],
 "metadata": {
  "kernelspec": {
   "display_name": "Python 3 (ipykernel)",
   "language": "python",
   "name": "python3"
  },
  "language_info": {
   "codemirror_mode": {
    "name": "ipython",
    "version": 3
   },
   "file_extension": ".py",
   "mimetype": "text/x-python",
   "name": "python",
   "nbconvert_exporter": "python",
   "pygments_lexer": "ipython3",
   "version": "3.11.3"
  }
 },
 "nbformat": 4,
 "nbformat_minor": 5
}
