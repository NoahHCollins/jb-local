{
 "cells": [
  {
   "cell_type": "markdown",
   "metadata": {},
   "source": [
    "# Modelling and Numerical Methods  <a class=\"tocSkip\">\n",
    "\n",
    "## Lecture 1.2 - Vector Operations  <a class=\"tocSkip\">"
   ]
  },
  {
   "cell_type": "markdown",
   "metadata": {},
   "source": [
    "## Learning outcomes  <a class=\"tocSkip\">\n",
    "\n",
    "1. Be able to perform vector/tensor operations (addition, multiplication) on Cartesian orthonormal bases\n",
    "    \n",
    "2. Perform transformation of a vector from one Cartesian basis to another\n",
    "\n",
    "3. Be able to do basic vector/tensor calculus (time and space derivatives, divergence, curl of a vector field) on these bases\n",
    "    \n",
    "4. Understand differences/commonalities tensor and vector \n",
    "    \n",
    "5. Use index notation and Einstein convention"
   ]
  },
  {
   "cell_type": "markdown",
   "metadata": {
    "toc": true
   },
   "source": [
    "<h1>Table of Contents<span class=\"tocSkip\"></span></h1>\n",
    "<div class=\"toc\"><ul class=\"toc-item\"><li><span><a href=\"#First-topic-here\" data-toc-modified-id=\"First-topic-here-1\"><span class=\"toc-item-num\">1&nbsp;&nbsp;</span>First topic here</a></span><ul class=\"toc-item\"><li><span><a href=\"#Sub-topic\" data-toc-modified-id=\"Sub-topic-1.1\"><span class=\"toc-item-num\">1.1&nbsp;&nbsp;</span>Sub topic</a></span><ul class=\"toc-item\"><li><span><a href=\"#First-exercise-here\" data-toc-modified-id=\"First-exercise-here-1.1.1\"><span class=\"toc-item-num\">1.1.1&nbsp;&nbsp;</span>First exercise here</a></span><ul class=\"toc-item\"><li><span><a href=\"#First-exercise-solution-here-(one-level-lower)\" data-toc-modified-id=\"First-exercise-solution-here-(one-level-lower)-1.1.1.1\"><span class=\"toc-item-num\">1.1.1.1&nbsp;&nbsp;</span>First exercise solution here (one level lower)</a></span></li></ul></li><li><span><a href=\"#Optional-exercise\" data-toc-modified-id=\"Optional-exercise-1.1.2\"><span class=\"toc-item-num\">1.1.2&nbsp;&nbsp;</span>Optional exercise</a></span><ul class=\"toc-item\"><li><span><a href=\"#Optional-exercise-answer-(one-level-lower)\" data-toc-modified-id=\"Optional-exercise-answer-(one-level-lower)-1.1.2.1\"><span class=\"toc-item-num\">1.1.2.1&nbsp;&nbsp;</span>Optional exercise answer (one level lower)</a></span></li></ul></li><li><span><a href=\"#Advanced-exercise\" data-toc-modified-id=\"Advanced-exercise-1.1.3\"><span class=\"toc-item-num\">1.1.3&nbsp;&nbsp;</span>Advanced exercise</a></span><ul class=\"toc-item\"><li><span><a href=\"#Advanced-exercise-answer-(one-level-lower)\" data-toc-modified-id=\"Advanced-exercise-answer-(one-level-lower)-1.1.3.1\"><span class=\"toc-item-num\">1.1.3.1&nbsp;&nbsp;</span>Advanced exercise answer (one level lower)</a></span></li></ul></li></ul></li></ul></li></ul></div>"
   ]
  },
  {
   "cell_type": "code",
   "execution_count": 1,
   "metadata": {
    "code_folding": [
     0
    ]
   },
   "outputs": [
    {
     "data": {
      "text/html": [
       "<style>\n",
       "div.exercise {\n",
       "    display: block;\n",
       "    background-color: #ffd7e2;\n",
       "    border-color: #ffd7e2;\n",
       "    border-left: 5px solid #ffd7e2;\n",
       "    padding: 0.5em;\n",
       "}\n",
       "div.optional {\n",
       "    display: block;\n",
       "    background-color: #d7e2ff;\n",
       "    border-color: #d7e2ff;\n",
       "    border-left: 5px solid #d7e2ff;\n",
       "    padding: 0.5em;\n",
       "}\n",
       "div.advanced {\n",
       "    display: block;\n",
       "    background-color: #fff4d7;\n",
       "    border-color: #fff4d7;\n",
       "    border-left: 5px solid #fff4d7;\n",
       "    padding: 0.5em;\n",
       "}\n",
       "</style>\n"
      ],
      "text/plain": [
       "<IPython.core.display.HTML object>"
      ]
     },
     "metadata": {},
     "output_type": "display_data"
    }
   ],
   "source": [
    "%%html\n",
    "<style>\n",
    "div.exercise {\n",
    "    display: block;\n",
    "    background-color: #ffd7e2;\n",
    "    border-color: #ffd7e2;\n",
    "    border-left: 5px solid #ffd7e2;\n",
    "    padding: 0.5em;\n",
    "}\n",
    "div.optional {\n",
    "    display: block;\n",
    "    background-color: #d7e2ff;\n",
    "    border-color: #d7e2ff;\n",
    "    border-left: 5px solid #d7e2ff;\n",
    "    padding: 0.5em;\n",
    "}\n",
    "div.advanced {\n",
    "    display: block;\n",
    "    background-color: #fff4d7;\n",
    "    border-color: #fff4d7;\n",
    "    border-left: 5px solid #fff4d7;\n",
    "    padding: 0.5em;\n",
    "}\n",
    "</style>"
   ]
  },
  {
   "cell_type": "markdown",
   "metadata": {},
   "source": [
    "Do not alter this cell. LaTeX commands for frequently used terms.\n",
    "\n",
    "$$\\newcommand{\\tensor}[1]{\\underline{\\underline{\\mathbf{#1}}}}$$\n",
    "$$\\newcommand{\\vector}[1]{\\mathbf{#1}}$$\n",
    "$$\\newcommand{\\ex}{\\vector{\\hat{e}}_1}$$\n",
    "$$\\newcommand{\\ey}{\\vector{\\hat{e}}_2}$$\n",
    "$$\\newcommand{\\ez}{\\vector{\\hat{e}}_3}$$\n",
    "$$\\newcommand{\\x}{\\vector{x}}$$\n",
    "$$\\newcommand{\\v}{\\vector{v}}$$\n",
    "$$\\newcommand{\\u}{\\vector{u}}$$"
   ]
  },
  {
   "cell_type": "code",
   "execution_count": 2,
   "metadata": {},
   "outputs": [],
   "source": [
    "# Import packages for notebook here\n",
    "import numpy\n",
    "import matplotlib.pyplot as plt\n",
    "\n",
    "%matplotlib inline"
   ]
  },
  {
   "cell_type": "markdown",
   "metadata": {},
   "source": [
    "# Vector Transformation\n",
    "\n",
    "Vector magnitude and direction do not depend on basis. \n",
    "\n",
    "When defined on an orthonormal basis, like rectangular Cartesian, the transformation to other orthonormal basis is simple, with real coefficients.\n",
    "\n",
    "<p style='text-align: center;'> $ \\hat{e}_i \\cdot \\hat{e}_j = 0 \\hspace{1cm} \\text{if i} \\neq \\text{j} $</p>\n",
    "<p style='text-align: center;'> $ \\hat{e}_i \\cdot \\hat{e}_i = |\\hat{e}_i| = 1$ </p>\n",
    "\n",
    "_Check out Khan Academy lectures on orthonormal bases for more information._\n",
    "\n",
    "\n",
    "Physical parameters should not depend on coordinate frame.\n",
    "\n",
    "For vectors on an __orthonormal__ basis, the transformed vector __v'__ depends on __v__: \n",
    "\n",
    "<p style='text-align: center;'>\n",
    "$\\text{v'}_1 = \\alpha_{11} \\text{v}_1 + \\alpha_{12} \\text{v}_2$ \n",
    "<br>\n",
    "$\\text{v'}_2 = \\alpha_{21} \\text{v}_1 + \\alpha_{22} \\text{v}_2$ \n",
    "</p>\n",
    "\n",
    "Coefficients $\\alpha_{ij}$ depend on angle $\\phi$ between $\\text{x}_1$ and $\\text{x'}_1$ (or $\\text{x}_2$ and $\\text{x'}_2$)\n",
    "\n",
    "<table><tr>\n",
    "    <td> <img src = \"Figures/Lecture1.2/Fig2.png\" style = \"width: 8cm;\"/> </td>\n",
    "    <td> <img src = \"Figures/Lecture1.2/Fig3.png\" style = \"width: 10cm;\"/> </td>\n",
    "</tr><table>\n",
    "\n",
    "From the figures above, we can deduce that:    \n",
    "\n",
    "$\\hspace{6cm} \\text{v'}_1 = \\cos{\\phi} \\hspace{0.1cm} \\text{v}_1 + \\sin{\\phi} \\hspace{0.1cm} \\text{v}_2$ \n",
    "$\\hspace{4cm} \\text{v'}_2 = -\\sin{\\phi} \\hspace{0.1cm} \\text{v}_1 + \\cos{\\phi} \\hspace{0.1cm} \\text{v}_2$ \n",
    "\n",
    "This gives: \n",
    "\n",
    "$$\n",
    "\\mathbf{v'}=\n",
    "\\begin{bmatrix}\n",
    "\\alpha_{11} & \\alpha_{12} \\\\\n",
    "\\alpha_{21} & \\alpha_{22} \\\\\n",
    "\\end{bmatrix}\n",
    "\\mathbf{v}\n",
    "\\hspace{0.2cm}\n",
    "=\n",
    "\\hspace{0.2cm}\n",
    "\\begin{bmatrix}\n",
    "\\cos{\\phi} & \\sin{\\phi} \\\\\n",
    "-\\sin{\\phi} & \\cos{\\phi} \\\\\n",
    "\\end{bmatrix}\n",
    "\\mathbf{v}\n",
    "$$\n",
    "\n",
    "where\n",
    "$$\n",
    "\\alpha_{11} = \\hat{e}'_1 \\cdot \\hat{e}_1\n",
    "\\hspace{1.5cm}\n",
    "\\alpha_{12} = \\hat{e}'_1 \\cdot \\hat{e}_2\n",
    "$$\n",
    "\n",
    "$$\n",
    "\\alpha_{21} = \\hat{e}'_2 \\cdot \\hat{e}_1\n",
    "\\hspace{1.5cm}\n",
    "\\alpha_{22} = \\hat{e}'_2 \\cdot \\hat{e}_2\n",
    "$$\n"
   ]
  },
  {
   "cell_type": "markdown",
   "metadata": {},
   "source": [
    "# Transformation Orthogonal Bases\n",
    "\n",
    "<img src=\"Figures/Lecture1.2/Fig4.png\" style=\"width:10cm;float:right\"> \n",
    "\n",
    "\n",
    "Our new basis vector can be written in terms of the old basis vector: \n",
    "<p style='text-align: center;'>\n",
    "$ \\hat{e}'_i = \\sum_{j = 1,n} \\alpha_{ij} \\hat{e}_j $    \n",
    "</p>\n",
    "\n",
    "$ \\cdot \\hat{e}_1 $ on both sides yields: \n",
    "<p style='text-align: center;'>\n",
    "$ \\hat{e}'_i \\cdot \\hat{e}_1 =  \\alpha_{i1} $    \n",
    "</p>\n",
    "\n",
    "In other words: \n",
    "<p style='text-align: center;'>\n",
    "$ \\alpha_{ij} = \\hat{e}'_i \\cdot \\hat{e}_j $\n",
    "</p>\n",
    "\n",
    "For example, in the figure to the right: \n",
    "<p style='text-align: center;'>\n",
    "$ \\alpha_{11} = \\cos{\\theta} \\hspace{0.5cm} \\alpha_{31} = \\cos{\\alpha} \\hspace{0.5cm} \\alpha_{23} = \\cos{\\beta}$\n",
    "</p>\n",
    "Therefore: \n",
    "\n",
    "$$\n",
    "\\mathbf{v'}=\n",
    "\\begin{bmatrix}\n",
    "\\cos{\\phi} & \\sin{\\phi} \\\\\n",
    "-\\sin{\\phi} & \\cos{\\phi} \\\\\n",
    "\\end{bmatrix}\n",
    "\\mathbf{v}\n",
    "\\hspace{0.2cm}\n",
    "=\n",
    "\\hspace{0.2cm}\n",
    "\\begin{bmatrix}\n",
    "\\cos{\\phi} & \\cos{(90 - \\phi)} \\\\\n",
    "\\cos{(90 + \\phi)} & \\cos{\\phi} \\\\\n",
    "\\end{bmatrix}\n",
    "\\mathbf{v}\n",
    "$$\n",
    "\n",
    "Where $90 - \\phi$ is the angle between $x'_1$ and $x_2$ and $90 + \\phi$ is the angle between $x'_2$ and $x_1$. \n",
    "\n",
    "<img src=\"Figures/Lecture1.2/Fig1.png\" style=\"width:10cm;\"> "
   ]
  },
  {
   "cell_type": "markdown",
   "metadata": {},
   "source": [
    "<h2 style=\"color:red\"> A word of caution!</h2>\n",
    "<p style = \"text-align:center;\">\n",
    "<span style=\"color:red\">Vector represented on new basis</span> $\\;\\;\\;\\;\\;\\;\\;$ <span style=\"color:red;font-weight:bold;\">v'</span> = <span style=\"color:purple;font-weight:bold\">A</span> <span style=\"color:blue;font-weight:bold\">v</span> $\\;\\;\\;\\;\\;\\;\\;$ <span style=\"color:blue;\"> Vector represented on old basis</span>\n",
    "</p> \n",
    "\n",
    "<p style = \"text-align:center;\">\n",
    "<span style=\"color:red;font-weight:bold\">v'</span> = \n",
    "$\n",
    "\\begin{bmatrix}\n",
    "\\color{purple}{\\cos{\\phi}} & \\color{purple}{\\sin{\\phi}} \\\\\n",
    "\\color{purple}{-\\sin{\\phi}} & \\color{purple}{\\cos{\\phi}} \\\\\n",
    "\\end{bmatrix}\n",
    "$\n",
    "<span style=\"color:blue;font-weight:bold\">v</span>\n",
    "</p>           \n",
    "\n",
    "<p style = \"text-align:center;\">\n",
    "<span style=\"color:purple\">Clockwise rotation by $\\phi$ </span> $\\;\\;\\;\\;\\;$ <span style=\"color:purple;\">Matrix describing change of basis</span> $\\;\\;\\;\\;\\;\\;\\;$ <span style=\"color:purple;font-weight:bold;\"> New basis vectors are ROWS</span>\n",
    "</p> "
   ]
  },
  {
   "cell_type": "markdown",
   "metadata": {},
   "source": [
    "<p style = \"text-align:center;\">\n",
    "<span style=\"color:red\">New basis vector</span> $\\;\\;\\;\\;\\;\\;\\;$ <span style=\"color:red;font-weight:bold\"> $\\hat{e}'$</span> = <span style=\"color:purple;font-weight:bold\">$A^T$</span> <span style=\"color:blue;font-weight:bold\">$\\hat{e}$</span> $\\;\\;\\;\\;\\;\\;\\;$ <span style=\"color:blue;\"> Old basis vector</span>\n",
    "</p> \n",
    "\n",
    "<p style = \"text-align:center;\">\n",
    "<span style=\"color:red;font-weight:bold\">$\\hat{e}'$</span> = \n",
    "$\n",
    "\\begin{bmatrix}\n",
    "\\color{purple}{\\cos{\\phi}} & \\color{purple}{-\\sin{\\phi}} \\\\\n",
    "\\color{purple}{\\sin{\\phi}} & \\color{purple}{\\cos{\\phi}} \\\\\n",
    "\\end{bmatrix}\n",
    "$\n",
    "<span style=\"color:blue;font-weight:bold\">$\\hat{e}$</span>\n",
    "</p>           \n",
    "\n",
    "<p style = \"text-align:center;\">\n",
    "<span style=\"color:purple\">Anticlockwise rotation by $\\phi$ </span> $\\;\\;\\;\\;\\;$ <span style=\"color:purple;\">Matrix describing basis transformation</span> $\\;\\;\\;\\;\\;\\;\\;$ <span style=\"color:purple;font-weight:bold;\"> New basis vectors are COLUMNS</span>\n",
    "</p> "
   ]
  },
  {
   "cell_type": "markdown",
   "metadata": {},
   "source": [
    "# Vector Calculus \n",
    "\n",
    "Vector calculus is the field of mathematics that handles differentiation and integration of vector fields.\n",
    "<br>\n",
    "It allows us to describe the spatial variation in scalar and vector fields."
   ]
  },
  {
   "cell_type": "markdown",
   "metadata": {},
   "source": [
    "## Vector derivatives \n",
    "### Scalar (e.g time)\n",
    "\n",
    "<img src = \"Figures/Lecture1.2/Fig5.png\" style = \"width:10cm;float:right\"> \n",
    "\n",
    "Taking the derivative of a vector is: \n",
    "<p style = \"text-align:center;\">\n",
    "$$\n",
    "\\large{\\frac{d\\mathbf{v}}{dt} = \n",
    "\\begin{pmatrix}\n",
    "\\frac{d v_1}{dt} & \\frac{d v_2}{dt} & \\frac{d v_1}{dt} \\\\\n",
    "\\end{pmatrix}}\n",
    "$$\n",
    "</p>\n",
    "<br>\n",
    "From first principles, we know: \n",
    "\n",
    "$$\n",
    "\\large{\\frac{d\\mathbf{v}}{dt} = \\lim_{\\Delta t \\to 0} \\frac{\\mathbf{v}(t + \\Delta t) - \\mathbf{v}(t)}{\\Delta t}}\n",
    "$$\n",
    "\n",
    "The derivative of the vector usually has a different direction to __v__. \n",
    "<br>\n",
    "Remember that\n",
    "<p style = \"text-align:center;\">\n",
    "$ \\large{\\mathbf{v} = v_1 \\hat{\\mathbf{e}}_1 + v_2 \\hat{\\mathbf{e}}_2 + v_3 \\hat{\\mathbf{e}}_3} $\n",
    "</p>\n",
    "Therefore, taking the derivative gives: \n",
    "<p style = \"text-align:center;\">\n",
    "$ \\large{\\frac{d \\mathbf{v}}{dt} = \\frac{dv_1}{dt} \\hat{\\mathbf{e}}_1 + \\frac{dv_2}{dt} \\hat{\\mathbf{e}}_2 + \\frac{dv_3}{dt} \\hat{\\mathbf{e}}_3 + \\color{red}{v_1 \\frac{d\\mathbf{\\hat{e}_1}}{dt} + v_2 \\frac{d\\mathbf{\\hat{e}_2}}{dt} + v_3 \\frac{d\\mathbf{\\hat{e}_3}}{dt}}} $\n",
    "</p>\n",
    "\n",
    "<p style = \"text-align:center;\">\n",
    "<span style=\"color:red\">for Cartesian systems = 0</span>\n",
    "</p>"
   ]
  },
  {
   "cell_type": "markdown",
   "metadata": {},
   "source": [
    "### Del Operator\n",
    "\n",
    "$$\n",
    "\\large{\\nabla = \\hat{e}_1 \\frac{\\partial}{\\partial x_1} + \\hat{e}_2 \\frac{\\partial}{\\partial x_2} + \\hat{e}_3 \\frac{\\partial}{\\partial x_3} = \n",
    "\\begin{bmatrix}\n",
    "\\frac{\\partial}{\\partial x_1} & \\frac{\\partial}{\\partial x_2} & \\frac{\\partial}{\\partial x_3} \\\\\n",
    "\\end{bmatrix}}\n",
    "$$\n",
    "\n",
    "The Del operator has some properties of a vector, but not all. Namely, it is not commutative. \n",
    "<p style = \"text-align:center;\">\n",
    "$ \\large{\\mathbf{v} \\cdot \\nabla \\phi \\neq (\\nabla \\cdot \\mathbf{v}) \\phi} $\n",
    "</p>"
   ]
  },
  {
   "cell_type": "markdown",
   "metadata": {},
   "source": [
    "### Gradient\n",
    "\n",
    "<img src = \"Figures/Lecture1.2/Fig6.png\" style = \"width:12cm;\">\n",
    "\n",
    "<p style = \"text-align:center;\">\n",
    "\n",
    "The __gradient__ is a vector measure of change in scalar field with distance. \n",
    "$$ \n",
    "\\large{\\color{blue}{\\nabla \\phi = \\Biggl(\\frac{\\partial \\phi}{\\partial x_1}, \\frac{\\partial \\phi}{\\partial x_2}, \\frac{\\partial \\phi}{\\partial x_3}\\Biggr)}} \n",
    "$$\n",
    "    \n"
   ]
  },
  {
   "cell_type": "markdown",
   "metadata": {},
   "source": [
    "### Directional Derivatives: Space\n",
    "\n",
    "By considering the change in $\\phi$ over a small distance __ds__, we can deduce that \n",
    "<p style = \"text-align:center;\">\n",
    "$$\n",
    "\\large{d\\phi = \\frac{\\partial \\phi}{\\partial x_1} ds_1 + \\frac{\\partial \\phi}{\\partial x_2} ds_2  + \\frac{\\partial \\phi}{\\partial x_3} ds_3}\n",
    "$$\n",
    "\n",
    "$$\n",
    "\\large{d\\phi} = \\Biggl( \\frac{\\partial \\phi}{\\partial x_1}, \\frac{\\partial \\phi}{\\partial x_2}, \\frac{\\partial \\phi}{\\partial x_3} \\Biggr) \\cdot\n",
    "\\begin{pmatrix}\n",
    "ds_1 \\\\\n",
    "ds_2 \\\\\n",
    "ds_3 \\\\\n",
    "\\end{pmatrix}\n",
    "= \n",
    "\\nabla \\phi \\cdot \\mathbf{ds}\n",
    "$$\n",
    "\n",
    "<img src = \"Figures/Lecture1.2/Fig7.png\" style = \"width:14cm;\" /> \n",
    "    \n",
    "Try <span style=\"color:blue;font-weight:bold\">Exercise 5</span>"
   ]
  },
  {
   "cell_type": "markdown",
   "metadata": {},
   "source": [
    "## Vector Products with Derivatives\n",
    "\n",
    "### Divergence of A Vector \n",
    "\n",
    "Divergence of a vector field represents the net outward flux per unit volume, i.e the measure of source/sink of flow. It is a scalar quantity. \n",
    "<p style=\"text-align:center;\">\n",
    "$ \\large{\\nabla} \\cdot \\mathbf{v} = \\sum_{i = 1,3} \\frac{\\partial v_i}{\\partial x_i} = \\frac{\\partial v_1}{\\partial x_1} + \\frac{\\partial v_2}{\\partial x_2} + \\frac{\\partial v_3}{\\partial x_3} $\n",
    "</p>\n",
    "\n",
    "<img src = \"Figures/Lecture1.2/Fig8.png\" style = \"width:12cm;\">"
   ]
  },
  {
   "cell_type": "markdown",
   "metadata": {},
   "source": [
    "### Curl of A Vector \n",
    "\n",
    "The curl of a vector represents the amount of turn or spin (vorticity) in a vector field. This is a vector quantity. \n",
    "\n",
    "<p style=\"text-align:center;\">\n",
    "$ \\large{\\nabla \\times \\mathbf{v} = \n",
    "\\begin{pmatrix}\n",
    "\\frac{\\partial v_3}{\\partial x_2} - \\frac{\\partial v_2}{\\partial x_3} \\\\\n",
    "\\frac{\\partial v_1}{\\partial x_3} - \\frac{\\partial v_3}{\\partial x_1} \\\\\n",
    "\\frac{\\partial v_2}{\\partial x_1} - \\frac{\\partial v_1}{\\partial x_2} \\\\\n",
    "\\end{pmatrix}}\n",
    "$\n",
    "</p>\n",
    "\n",
    "<img src = \"Figures/Lecture1.2/Fig9.png\" style = \"width:12cm\">"
   ]
  },
  {
   "cell_type": "markdown",
   "metadata": {},
   "source": [
    "# Useful Calculus Theorems\n",
    "\n",
    "Take a volume _V_ enclosed by a surface _S_ within a vector field __v__ with continous partial derivatives.\n",
    "<br>\n",
    "Then the flow perpendicular to the boundary is: $\\large{\\;\\; \\mathbf{v} \\cdot \\mathbf{\\hat{n}} \\;\\;} $\n",
    "and the flow parallel to the boundary is: $\\large{\\;\\; \\mathbf{v} \\cdot \\mathbf{\\hat{t}} \\;\\;} $.\n",
    "<br>\n",
    "These can be used to simplify integration over volumes or closed surfaces as well as gain understanding of the meaning of divergence and curl.\n",
    "\n",
    "## Gauss Divergence Theorem\n",
    "\n",
    "<p style = \"text-align:center;\">\n",
    "    $ \\large{\\int_{V} \\nabla \\cdot \\mathbf{v} d\\mathbf{x} = \\oint_S \\mathbf{v} \\cdot \\mathbf{\\hat{n}} \\; ds} $\n",
    "</p>\n",
    "\n",
    "Imagine a very small sphere with radius _a_ and boundary _S_ around a point _P_. \n",
    "<img src = \"Figures/Lecture1.2/Fig10.png\" style = \"width:5cm;float:left\">\n",
    "\n",
    "<p style = \"text-align:center;\">\n",
    "$ \\large{(\\nabla \\cdot \\mathbf{v})_P \\frac{4}{3} \\pi a^3 = \\oint_{S_a} \\mathbf{v} \\cdot \\mathbf{\\hat{n}} \\; ds} $\n",
    "</p>\n",
    "<br>"
   ]
  },
  {
   "cell_type": "markdown",
   "metadata": {},
   "source": [
    "\n",
    "\n",
    "## Stokes Theorem \n",
    "\n",
    "<p style = \"text-align:center;\">\n",
    "    $ \\large{\\int_{V} \\nabla \\times \\mathbf{v} d\\mathbf{x} = \\oint_S \\mathbf{v} \\cdot \\mathbf{\\hat{t}} \\; ds} $\n",
    "</p>\n",
    "\n",
    "<img src = \"Figures/Fig11.png\" style = \"width:8cm;float:left\">\n",
    "<br>\n",
    "<br>\n",
    "<br>\n",
    "<br>\n",
    "The right-hand side of the equation gets larger if the velocities are more parallel to the boundary, or if the vector field is spinning in a consistent direction (i.e there is circulation around the boundary). "
   ]
  },
  {
   "cell_type": "markdown",
   "metadata": {},
   "source": [
    "Imagine a very small disk with radius _a_ and boundary $\\mathit{C_a}$ around a point _P_. \n",
    "\n",
    "<img src = \"Figures/Lecture1.2/Fig12.png\" style = \"width:5cm;float:left\">\n",
    "<br>\n",
    "<br>\n",
    "\n",
    "<p style = \"text-align:center;\">\n",
    "$ \\large{(\\nabla \\times \\mathbf{v})_P \\pi a^2 = \\oint_{C_a} \\mathbf{v} \\cdot \\mathbf{\\hat{t}} \\; ds} $\n",
    "</p>"
   ]
  },
  {
   "cell_type": "markdown",
   "metadata": {},
   "source": [
    "<div class=\"exercise\">\n",
    "\n",
    "### First exercise here"
   ]
  },
  {
   "cell_type": "markdown",
   "metadata": {},
   "source": [
    "<div class=\"exercise\">\n",
    "\n",
    "#### First exercise solution here (one level lower)"
   ]
  },
  {
   "cell_type": "markdown",
   "metadata": {},
   "source": [
    "<div class=\"optional\">\n",
    "\n",
    "### Optional exercise"
   ]
  },
  {
   "cell_type": "markdown",
   "metadata": {},
   "source": [
    "<div class=\"optional\">\n",
    "\n",
    "#### Optional exercise answer (one level lower)"
   ]
  },
  {
   "cell_type": "markdown",
   "metadata": {},
   "source": [
    "<div class=\"advanced\">\n",
    "\n",
    "### Advanced exercise"
   ]
  },
  {
   "cell_type": "markdown",
   "metadata": {},
   "source": [
    "<div class=\"advanced\">\n",
    "\n",
    "#### Advanced exercise answer (one level lower)\n",
    "Advanced or extension exercises don't need solutions."
   ]
  }
 ],
 "metadata": {
  "hide_input": false,
  "kernelspec": {
   "display_name": "Python 3 (ipykernel)",
   "language": "python",
   "name": "python3"
  },
  "language_info": {
   "codemirror_mode": {
    "name": "ipython",
    "version": 3
   },
   "file_extension": ".py",
   "mimetype": "text/x-python",
   "name": "python",
   "nbconvert_exporter": "python",
   "pygments_lexer": "ipython3",
   "version": "3.11.3"
  },
  "toc": {
   "base_numbering": 1,
   "nav_menu": {},
   "number_sections": true,
   "sideBar": true,
   "skip_h1_title": false,
   "title_cell": "Table of Contents",
   "title_sidebar": "Contents",
   "toc_cell": true,
   "toc_position": {},
   "toc_section_display": true,
   "toc_window_display": true
  }
 },
 "nbformat": 4,
 "nbformat_minor": 2
}
