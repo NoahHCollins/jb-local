{
 "cells": [
  {
   "cell_type": "markdown",
   "id": "0d9095cd-886b-47ac-86ce-2c56a74b3e93",
   "metadata": {},
   "source": [
    "# 7.1 Solving Navier-Stokes Numerically\n",
    "\n",
    "Lecture 7.1  \n",
    "Stephen Neethling"
   ]
  },
  {
   "cell_type": "markdown",
   "id": "4fc5e7c7-ae4e-4f20-bd67-256c81641c56",
   "metadata": {},
   "source": [
    "## Table of Contents\n",
    "```{contents}\n",
    "```"
   ]
  },
  {
   "cell_type": "markdown",
   "id": "39d4d283-ea05-4189-a02f-c76399803707",
   "metadata": {},
   "source": [
    "## Outline\n",
    "- Discuss some of the relevant features of the Navier-Stokes equation\n",
    "- Derive and discuss the fully implicit solution to the NS equation\n",
    "- Discuss a semi-implicit method for solving the equation (Pressure projection method)\n",
    "- Implement the pressure projection method\n",
    "- Demonstrate and discuss the solution of some example problems"
   ]
  },
  {
   "cell_type": "markdown",
   "id": "3fa23793-55ee-4612-9333-d9949c140620",
   "metadata": {},
   "source": [
    "## Learning Objectives\n",
    "\n",
    "- Derive an implicit discretisation for the NS equation\n",
    "- Derive a pressure projection discretisation for solving the NS equation\n",
    "- Derive appropriate boundary conditions for the problem\n",
    "- Learn how to implement a solver for the Pressure Poisson problem\n",
    "- Learn how to implement an explicit solver for the momentum\n",
    "equation, including the appropriate use of up-winding\n",
    "- Combine the solvers into a single Navier-Stokes solver capable of\n",
    "solving a range of fluid flow problems"
   ]
  },
  {
   "cell_type": "code",
   "execution_count": 6,
   "id": "e3e71dba",
   "metadata": {},
   "outputs": [],
   "source": [
    "# Import packages for notebook here\n",
    "import numpy as np\n",
    "import matplotlib.pyplot as plt\n",
    "\n",
    "%matplotlib inline"
   ]
  },
  {
   "cell_type": "markdown",
   "id": "d23a31b5-c49f-4169-b366-b1db7ccf95ab",
   "metadata": {},
   "source": [
    "## The Navier-Stokes Equation\n",
    "\n",
    "- Momentum balance:\n",
    "\n",
    "$$ \\rho \\frac{D\\mathbf{u}}{Dt} = - \\nabla P + \\nabla \\cdot \\mathbf{\\tau} + \\rho \\mathbf{g} $$  \n",
    "\n",
    "*Material derivative:* $\\frac{D\\mathbf{u}}{Dt} = \\frac{\\partial \\mathbf{u}}{\\partial t} + \\mathbf{u} \\cdot \\nabla \\mathbf{u}$  \n",
    "*or equivalently:* $\\frac{D\\mathbf{u}}{Dt} = \\frac{\\partial \\mathbf{u}}{\\partial t} + \\nabla \\cdot \\mathbf{u} \\mathbf{u} $  \n",
    "\n",
    "- Mass balance (continuity equation):\n",
    "\n",
    "$$ \\frac{\\partial \\rho}{ \\partial t} + \\nabla \\cdot ( \\rho \\mathbf{u} ) = 0 $$"
   ]
  },
  {
   "cell_type": "markdown",
   "id": "bcae5823-9c97-437b-831e-b9b6a2e11ccc",
   "metadata": {},
   "source": [
    "### Assumptions for this Lecture\n",
    "\n",
    "- We will only be considering incompressible flow – constant density: $\\nabla \\cdot \\mathbf{u} = 0$  \n",
    "- We will start by considering Newtonian Flow:  \n",
    "Shear stress is proportional to strain rate  \n",
    "\n",
    "$$ \\mathbf{\\tau} = 2 \\mu \\mathbf{S} $$  \n",
    "\n",
    "$$ \\mathbf{S} = \\frac{1}{2} (\\nabla \\mathbf{u} + \\nabla \\mathbf{u}^T)$$\n",
    "\n",
    "- This assumes viscosity is isotropic and also ignores the bulk viscosity, which\n",
    "is associated with changes in the volume/density of the fluid (we are\n",
    "making an incompressible assumption here).  \n",
    "Bulk viscosity can be important in, for instance shocks"
   ]
  },
  {
   "cell_type": "markdown",
   "id": "5140c30e-b883-4d35-9826-04cbc32b6311",
   "metadata": {},
   "source": [
    "### Incompressible Newtonian Fluid\n",
    "\n",
    "- In an incompressible Newtonian fluid the gradient of viscous stress\n",
    "can be further simplified if the viscosity is constant and the system is\n",
    "incompressible:\n",
    "\n",
    "$$ \\nabla \\cdot \\mathbf{\\tau} = \\mu \\nabla \\cdot ( \\nabla \\mathbf{u} + \\nabla \\mathbf{u}^T ) = \\mu \\nabla^2 \\mathbf{u} $$  \n",
    "\n",
    "- Note that the incompressible assumption implies that:\n",
    "\n",
    "$$ \\nabla \\cdot \\mathbf{u} = 0 $$"
   ]
  },
  {
   "cell_type": "markdown",
   "id": "c125d7c6-c5f5-4ebb-9d8f-c7ca5af9693e",
   "metadata": {},
   "source": [
    "#### Side note: Dynamic and Kinematic Viscosity\n",
    "\n",
    "Be careful when talking about viscosity as to what is meant  \n",
    "\n",
    "Dynamic viscosity (sometimes called absolute viscosity)\n",
    "- 𝜇 (units: Pa.s)  \n",
    "- Proportionality between shear stress and strain rate  \n",
    "\n",
    "Kinematic viscosity\n",
    "- $ \\nu = \\frac{\\mu}{\\rho}$ (units $m^2/s$)\n",
    "- Equivalent to a diffusivity for momentum\n"
   ]
  },
  {
   "cell_type": "markdown",
   "id": "16578458-6e13-48a3-9e1b-f1c7e994c5f7",
   "metadata": {},
   "source": [
    "### Incompressible Navier-Stokes Equation\n",
    "\n",
    "In 3D this is 4 PDEs with 4 dependent variables (3 velocities and pressure) –\n",
    "therefore solvable  \n",
    "\n",
    "Momentum balance: $\\rho \\frac{\\partial \\mathbf{u}}{\\partial t} + \\rho \\mathbf{u} \\cdot \\nabla \\mathbf{u} = - \\nabla P + \\mu \\nabla^2 \\mathbf{u} + \\rho \\mathbf{g}$  \n",
    "\n",
    "Incompressible continuity: $\\nabla \\cdot \\mathbf{u} = 0$\n",
    "\n",
    "Complexity:\n",
    "- Non-linear  \n",
    "    - The momentum advection term is non-lnear  \n",
    "    - Additional non-linearity can occur if the rheology is non-Newtonian or if the system is compressible\n",
    "- Coupled PDEs\n",
    "\n",
    "At first glance the momentum equations seem easy to discretise\n",
    "- If it was not for the pressure you could simply integrate them forward\n",
    "in time\n",
    "- The problem is that such an integration would not result in velocities\n",
    "that obey the continuity equation\n",
    "- What we need to do is integrate the momentum equations forward in\n",
    "time, but have a pressure field that evolves to ensure that continuity\n",
    "is obeyed\n"
   ]
  },
  {
   "cell_type": "markdown",
   "id": "2af43b3e-7906-4a12-ba40-a42f7a1a6dd5",
   "metadata": {},
   "source": [
    "#### A couple of notes\n",
    "Representing the data\n",
    "- In the subsequent slides I will quite often represent the data as a vector:\n",
    "     - E.g. the velocities at time step 𝑛 will be represented as $\\mathbf{u^n}$\n",
    "     - Within this vector will be stored each velocity component at every discrete point within the system\n",
    "     - It is always possible to store higher dimensional data as 1D vector\n",
    "     \n",
    "Gravity\n",
    "- In the subsequent derivations I am going to ignore the gravity term\n",
    "- For an incompressible single phase system the gravity term can always be combined into the pressure term\n",
    "     - This is not true in either a multiphase system or a compressible system where gravity would need to be explicitly\n",
    "considered\n",
    "- If 𝑃 is the actual pressure, then the gravity term can be eliminated by using a new pressure $ P^* $ that includes the hydrostatic contribution:  \n",
    "\n",
    "$$ P^* = P - \\rho \\mathbf{x \\cdot g}$$\n",
    "\n",
    "- Where $\\mathbf{x}$ is the location (i.e. $\\nabla (\\mathbf{x \\cdot g}) = \\mathbf{g}$"
   ]
  },
  {
   "cell_type": "markdown",
   "id": "12eb4c57-f10b-44c0-b66c-bd648fa1de07",
   "metadata": {},
   "source": [
    "## Method 1: Implicit Matrix Solution for all Variables"
   ]
  },
  {
   "cell_type": "markdown",
   "id": "5743fe9a-8fc9-477a-bb39-c1636a2598aa",
   "metadata": {},
   "source": [
    "- One way to achieve continuity is to simultaneously solve for the velocity and pressure\n",
    "values\n",
    "- Using a Crank-Nicolson implicit scheme (2nd order accurate in time)\n",
    "    - Crank-Nicolson carries out the spatial derivatives using an average of the current and future time step\n",
    "    \n",
    "$$ \\frac{\\mathbf{u}^{n+1} - \\mathbf{u}^n}{\\Delta t} + \\mathbf{A(\\tilde{u})} \\frac{1}{2} (\\mathbf{u}^{n+1} + \\mathbf{u}^n) - \\mathbf{K} \\frac{1}{2} (\\mathbf{u}^{n+1} - \\mathbf{u}^n) + \\mathbf{C \\hspace{0.1cm} P^{n+1}} = \\mathbf{0} $$  \n",
    "\n",
    "$$ \\mathbf{C}^T \\mathbf{u}^{n+1} = 0 $$  \n",
    "\n",
    "- $\\mathbf{K, C}$ and $\\mathbf{C^T}$ are the matrices for the  discretisation of the viscosity (Laplacian), gradient operator and divergence respectively  \n",
    "- $\\mathbf{A(\\tilde{u})}$ is the matrix containing the discretisation for the momentum advection term.  \n",
    "    - Note that the matrix for the momentum advection term depends on the velocity. This is what make the problem non-linear\n",
    "    \n",
    "- The equations on the previous slide can be rearranged into a single matrix where\n",
    "the velocities and pressures at the next time step are a function of the current\n",
    "velocities:  \n",
    "\n",
    "$$ \\left( \\begin{array} \\\\\n",
    "\\frac{1}{\\Delta t} \\mathbf{I} + \\frac{1}{2} (\\mathbf{A(\\tilde{u}) - K}) & \\mathbf{C} \\\\\n",
    "\\mathbf{C^T} & \\mathbf{0} \\\\\n",
    "\\end{array} \\right)\n",
    "\\left( \\begin{array} \\\\\n",
    "\\mathbf{u^{n+1}} \\\\\n",
    "\\mathbf{P^{n+1}} \\\\\n",
    "\\end{array} \\right) = \n",
    "\\left( \\begin{array} \\\\\n",
    "\\left( \\frac{1}{\\Delta t} \\mathbf{I} + \\frac{1}{2} (\\mathbf{A(\\tilde{u}) - K}) \\right) \\mathbf{u}^n \\\\  \n",
    "\\mathbf{0} \\\\\n",
    "\\end{array} \\right)\n",
    "$$\n",
    "\n",
    "-  The next decision is the choice use for the velocity in the momentum advection term\n",
    "    - The easiest, but least accurate is to use the velocity from the current time step, $\\mathbf{u}^n$\n",
    "    - More accurate would be to use the same average as used in the rest of the Crank-Nicolson scheme, $\\frac{1}{2}(\\mathbf{u}^{n+1} + \\mathbf{u}^n)$. This is more accurate, by the problem is that it requires iteration and multiple assembly and solves of the matrix\n",
    "- The big problem with this method is that it is computationally expensive because the matrix to be solved is large and difficult to solve because\n",
    "\n",
    "\n",
    "\n"
   ]
  },
  {
   "cell_type": "markdown",
   "id": "f370d008-8422-4bcc-9d2f-38a4c1912db8",
   "metadata": {},
   "source": [
    "## Method 2: Split the Pressure and Velocity Solves\n",
    "\n",
    "- Firstly, we need an equation for the pressure solve\n",
    "- We can achieve this by taking the divergence of the momentum equations:  \n",
    "\n",
    "$$ \\nabla \\cdot \\left( \\frac{\\partial \\mathbf{u}}{\\partial t} + \\mathbf{u} + \\nabla \\mathbf{u} \\right) = \\nabla \\cdot \\left( - \\frac{1}{\\rho} \\nabla P + \\nu \\nabla^2 \\mathbf{u} \\right)$$\n",
    "\n",
    "- This can be simplified using the fact that the divergence of the Laplacian of the velocity and the divergence of the rate of change of velocity are both commutable and therefore zero given continuity:\n",
    "\n",
    "$$ \\nabla \\cdot (\\nabla^2 \\mathbf{u}) = \\nabla^2(\\nabla \\cdot \\mathbf{u}) = 0$$  \n",
    "\n",
    "$$ \\nabla \\cdot \\left( \\frac{\\partial \\mathbf{u}}{\\partial t} \\right) = \\frac{\\partial}{\\partial t} ( \\nabla \\cdot \\mathbf{u} ) = 0$$"
   ]
  },
  {
   "cell_type": "markdown",
   "id": "176b5ad2-dc73-4464-b3df-35e04b7f2d8f",
   "metadata": {},
   "source": [
    "## Pressure Poisson Equation\n",
    "\n",
    "- This results in the following equation:\n",
    "\n",
    "$$ \\nabla^2 P = - \\rho \\nabla \\cdot ( \\mathbf{u} \\cdot \\nabla \\mathbf{u}) $$  \n",
    "\n",
    "- This is known as the pressure Poisson equation. It is very similar to the Laplace equation we solved in the previous lecture, except that it has a non-zero RHS\n",
    "    - This equation is therefore quite easy to solve and generally well behaved in terms of its convergence\n",
    "- In 2D this can be further simplified and expanded to:\n",
    "\n",
    "$$ \\frac{\\partial^2 P}{\\partial x^2} + \\frac{\\partial^2 P}{\\partial y^2} = - \\rho \\left( \\left( \\frac{\\partial u}{\\partial x} \\right)^2 + 2 \\frac{\\partial u}{\\partial y} \\frac{\\partial v}{\\partial x} + \\left(\\frac{\\partial v}{\\partial y} \\right)^2\\right)$$\n"
   ]
  },
  {
   "cell_type": "markdown",
   "id": "27362434-6cfb-4bb0-9a48-678e1ae540a2",
   "metadata": {},
   "source": [
    "### Finite Difference approximation of Pressure Poisson Equation\n",
    "\n",
    "- We can do a finite difference approximation of the this equation\n",
    "    - I will assume that $\\Delta x = \\Delta y$\n",
    "    \n",
    "$$ P_{i+1,j} + P_{i-1,j} + P_{i,j+1} + P_{i,j-1} - 4 P_{i,j} $$  \n",
    "\n",
    "$$ = -\\rho \\left( (u_{i+1,j} - u_{i-1,j} )^2 + 2(u_{i,j+1} - u_{i,j-1}) (v_{i+1,j} - v_{i+1,j} ) + (v_{i,j+1} - v_{i,j-1} )^2 \\right) $$  \n",
    "\n",
    "- We could now simply use an explicit calculation of the new velocities using a discretisation of the momentum equation together with the current velocity and pressure equations and then use the new velocities to calculate the new pressures\n",
    "- Would work for a while, but numerical errors will mean that continuity violations will grow with time\n"
   ]
  },
  {
   "cell_type": "markdown",
   "id": "ec911ae8-c7c8-4232-acd1-1a56ee0410c4",
   "metadata": {},
   "source": [
    "## Pressure Projection\n",
    "\n",
    "- In this method we will calculate an intermediate velocity and then use this velocity to calculate the pressure gradient required to make the velocity at the next step divergence free\n",
    "- Start by calculating a velocity $ \\mathbf{u^* } $ that ignores the contribution from the pressure gradient (note that this is an explicit forward Euler approximation):\n",
    "\n",
    "$$ \\frac{ \\mathbf{u^* } - \\mathbf{u^n} }{\\Delta t} + \\mathbf{A}( \\mathbf{ \\tilde{u} } )( \\mathbf{u}^n) - \\mathbf{K} ( \\mathbf{u}^n ) = \\mathbf{0} $$  \n",
    "\n",
    "- From the full equation we therefore know that:\n",
    "\n",
    "$$ \\frac{\\mathbf{u}^{n+1} - \\mathbf{u}^*}{\\Delta t} = \\frac{-1}{\\rho} \\nabla \\mathbf{P}^{n+1} $$  \n",
    "\n",
    "$$ \\mathbf{u}^{n+1} = \\mathbf{u}^* - \\frac{\\Delta t}{\\rho} \\nabla \\mathbf{P}^{n+1} $$  \n",
    "\n",
    "- If we take the divergence of both sides:\n",
    "\n",
    "$$ \\nabla \\cdot \\mathbf{u}^{n+1} = \\nabla \\cdot  \\mathbf{u}^* - \\frac{\\Delta t}{\\rho} \\nabla^2 \\mathbf{P}^{n+1} $$  \n",
    "\n",
    "- What we are trying to enforce is that the final velocity is divergence free $( \\nabla \\cdot \\mathbf{u}^{n+1} = 0 )$  \n",
    "\n",
    "$$ \\nabla^2 \\mathbf{P}^{n+1} = \\frac{\\rho}{\\Delta t} \\nabla \\cdot \\mathbf{u}^* $$  \n",
    "\n",
    "We therefore have the following calculation sequence:\n",
    "- Calculate the intermediate velocity explicitly:\n",
    "\n",
    "$$ \\mathbf{u}^* = \\mathbf{u}^n - \\Delta t \\mathbf{A} (\\mathbf{u}^n)(\\mathbf{u}^n) + \\Delta t \\mathbf{K} (\\mathbf{u}^n) = \\mathbf{0} $$\n",
    "\n",
    "- Calculate the pressure implicitly using the following pressure Poisson equation (remember to impose any pressure boundary conditions):\n",
    "\n",
    "$$ \\nabla^2 \\mathbf{P}^{n+1} = \\frac{\\rho}{\\Delta t} \\nabla \\cdot \\mathbf{u}^* $$\n",
    "\n",
    "- Calculate the velocity at the new time step (also remember to impose any velocity boundary conditions):\n",
    "\n",
    "$$ \\mathbf{u}^{n+1} = \\mathbf{u}^* - \\frac{\\Delta t}{\\rho} \\mathbf{P}^{n+1} $$"
   ]
  },
  {
   "cell_type": "markdown",
   "id": "945eddc4-bf21-429a-aca4-002840dd0772",
   "metadata": {},
   "source": [
    "### Pressure Projection- Finite Difference (2D)\n",
    "\n",
    "- Viscous term:\n",
    "\n",
    "$$ \\large \\mathbf{K}(\\mathbf{u}^n) = v \\left( \\begin{array} \\\\\n",
    "\\frac{u^n_{i+1,j} + u^n_{i-1,j} - 2 u^n_{i,j}}{\\Delta x^2} + \\frac{u^n_{i,j+1} + u^n_{i,j-1} - 2 u^n_{i,j}}{\\Delta y^2} \\\\\n",
    "\\frac{v^n_{i+1,j} + v^n_{i-1,j} - 2 v^n_{i,j}}{\\Delta x^2} + \\frac{v^n_{i,j+1} + v^n_{i,j-1} - 2 v^n_{i,j}}{\\Delta y^2} \\\\\n",
    "\\end{array} \\right)\n",
    "$$\n",
    "\n",
    "- Momentum advection term:\n",
    "    - Note that we need to use upwind discretisations of velocity to be stable at high Reynolds numbers\n",
    "    \n",
    "$$\\large \\mathbf{A} ( \\mathbf{u}^n )( \\mathbf{u}^n ) = \\left( \\begin{array} \\\\\n",
    "\\left( u^n_{i,j} \n",
    "\\begin{cases} \n",
    "    \\frac{u^n_{i,j} - u^n_{i-1,j}}{\\Delta x} & \\text{if }~~ u^n_{i,j} > 0 \\\\\n",
    "    \\frac{u^n_{i+1,j} - u^n_{i,j}}{\\Delta x} & \\text{if }~~ u^n_{i,j} < 0 \\\\\n",
    "\\end{cases} \\right) + \n",
    "\\left( v^n_{i,j} \n",
    "\\begin{cases} \n",
    "    \\frac{u^n_{i,j} - u^n_{i,j-1}}{\\Delta y} & \\text{if }~~ v^n_{i,j} > 0 \\\\\n",
    "    \\frac{u^n_{i,j+1} - u^n_{i,j}}{\\Delta y} & \\text{if }~~ v^n_{i,j} < 0 \\\\\n",
    "\\end{cases} \\right) \\\\\n",
    "\\left( u^n_{i,j} \n",
    "\\begin{cases} \n",
    "    \\frac{u^n_{i,j} - v^n_{i-1,j}}{\\Delta x} & \\text{if }~~ u^n_{i,j} > 0 \\\\\n",
    "    \\frac{v^n_{i+1,j} - v^n_{i,j}}{\\Delta x} & \\text{if }~~ u^n_{i,j} < 0 \\\\\n",
    "\\end{cases} \\right) + \n",
    "\\left( v^n_{i,j} \n",
    "\\begin{cases} \n",
    "    \\frac{v^n_{i,j} - v^n_{i,j-1}}{\\Delta y} & \\text{if }~~ v^n_{i,j} > 0 \\\\\n",
    "    \\frac{v^n_{i,j+1} - v^n_{i,j}}{\\Delta y} & \\text{if }~~ v^n_{i,j} < 0 \\\\\n",
    "\\end{cases} \\right) \\\\\n",
    "\\end{array} \\right)\n",
    "$$\n",
    "\n",
    "- Laplacian of the Pressure:\n",
    "\n",
    "$$ \\nabla^2 \\mathbf{P}^{n+1} = \\frac{P^{n+1}_{i+1,j} + P^{n+1}_{i-1,j} - 2 P^{n+1}_{i,j}}{\\Delta x^2} + \\frac{P^{n+1}_{i,j+1} + P^{n+1}_{i,j-1} - 2 P^{n+1}_{i,j}}{\\Delta y^2} $$\n",
    "\n",
    "- Gradient of the Pressure:\n",
    "\n",
    "$$ \\large \\nabla \\mathbf{P}^{n+1} = \n",
    "\\left( \\begin{array} \\\\\n",
    "\\frac{P^{n+1}_{i+1,j} - P^{n+1}_{i-1,j}}{2 \\Delta x} \\\\\n",
    "\\frac{P^{n+1}_{i,j+1} - P^{n+1}_{i,j-1}}{2 \\Delta y} \\\\\n",
    "\\end{array} \\right)\n",
    "$$\n",
    "\n",
    "- Divergence of the intermediate velocity:\n",
    "- Centeral difference  \n",
    "    \n",
    "$$\\large \\nabla \\cdot \\mathbf{u}^* = \\frac{u^*_{i+1,j} - u^*_{i-1,j}}{2 \\Delta x} + \\frac{v^*_{i,j+1} - v^*_{i,j-1}}{2 \\Delta y}$$\n",
    "\n",
    "- Upwind\n",
    "\n",
    "$$\\large \\nabla \\cdot \\mathbf{u}^* = \n",
    "\\begin{cases}\n",
    "\\frac{u^*_{i,j} - u^*_{i-1,j}}{\\Delta x} & \\text{if }~~ u^*_{i,j} > 0 \\\\\n",
    "\\frac{u^*_{i+1,j} - u^*_{i,j}}{\\Delta x} & \\text{if }~~ u^*_{i,j} < 0 \\\\\n",
    "\\end{cases} +\n",
    "\\begin{cases}\n",
    "\\frac{v^*_{i,j} - v^*_{i,j-1}}{\\Delta y} & \\text{if }~~ v^*_{i,j} > 0 \\\\\n",
    "\\frac{v^*_{i,j+1} - v^*_{i,j}}{\\Delta y} & \\text{if }~~ v^*_{i,j} < 0 \\\\\n",
    "\\end{cases}\n",
    "$$\n",
    "\n",
    "- Central difference is more accurate, but can cause problems especially at very high Reynolds numbers\n",
    "- Upwinding is less accurate, but is more stable\n",
    "- I will generally use central difference approximations for the RHS of the pressure Poisson equation\n"
   ]
  },
  {
   "cell_type": "markdown",
   "id": "c4095743-8860-4c16-be7f-7b9c5e6f49b4",
   "metadata": {},
   "source": [
    "## Solid Boundaries in Fluid Dynamics\n",
    "\n",
    "**No Slip Boundary Condition**\n",
    "- A useful assumption for most solid boundaries\n",
    "    - Together with no flux through the boundary this implies a zero velocity vector at the boundary\n",
    "- Not completely true at the very smallest scales\n",
    "    - Some molecular slip may need to be included for micro or nano scale fluid flows\n",
    "    - Good approximation for macroscopic flows\n",
    "- We will be using no slip conditions in all the examples in this lecture\n",
    "\n",
    "**Velocity Boundary Layers**\n",
    "- Some flows will have velocity boundary layers against solid walls\n",
    "     - No slip at the wall, but rapid increase towards free stream velocity away from the wall\n",
    "     - Boundary layers often thin compared to the scale of the system\n",
    "- Especially true for turbulent flows\n",
    "     - Can also occur in entry regions for laminar flows\n",
    "     - More on turbulent flow in the next lecture\n",
    "     \n",
    "**Modelling Systems with Boundary Layers**\n",
    "- Could simply have enough resolution near the wall to resolve the wall\n",
    "     - Can be computationally very expensive especially in large scale simulations\n",
    "- Simplest approximation is that there is full slip at the boundary\n",
    "     - Not a bad approximation in very turbulent flows, but implies that there are no shear stresses on the wall\n",
    "- Can use a sub-resolution model to impose a stress at the boundary that is a function of the velocity at the boundary\n",
    "     - More complex models will include predictions for the velocity profile in this boundary region and a more complex inter-relationship between the stress at the wall and the velocity profile in the resolved near wall region"
   ]
  },
  {
   "cell_type": "markdown",
   "id": "c7ce2574-aed9-4428-8099-ddbea1b20bf7",
   "metadata": {},
   "source": [
    "## Pressure Condition at No-Slip Boundary\n",
    "\n",
    "- To solve the system we need boundary conditions for the pressure and the velocity\n",
    "- Lets consider a vertical wall and the momentum balance in the direction normal to the wall:\n",
    "\n",
    "$$\\require{cancel} \\cancel{{\\frac{\\partial u}{\\partial t}}} + \\cancel{u{\\frac{\\partial u}{\\partial x}}} + \\cancel{v{\\frac{\\partial u}{\\partial y}}} + \\cancel{w{\\frac{\\partial u}{\\partial z}}} = - \\frac{1}{\\rho} \\frac{\\partial P}{\\partial x} + \\frac{\\mu}{\\rho} \\left( \\frac{\\partial^2 u}{\\partial x^2} + \\cancel{{\\frac{\\partial^2 u}{\\partial y^2}}} + \\cancel{{\\frac{\\partial^2 u}{\\partial z^2}}} \\right)$$  \n",
    "\n",
    "$$ \\frac{\\partial P}{\\partial x} = \\mu {\\frac{\\partial^2 u}{\\partial x^2}} $$\n",
    "\n",
    "- This says that the total normal stress at the boundary should be zero. For no slip boundaries the shear stress component into the boundary will be small (or zero for fully developed flows)\n",
    "- The most commonly used pressure boundaries for these walls is thus:\n",
    "\n",
    "$$ \\large \\frac{\\partial P}{\\partial n} = 0 $$"
   ]
  },
  {
   "cell_type": "markdown",
   "id": "cdd34316-5c65-476d-a846-b550fd762d5d",
   "metadata": {},
   "source": [
    "## The Code (with explicit loops)\n",
    "- I am firstly going to show the code with explicit loops and if statements\n",
    "     - Hopefully make what is being done easier to understand\n",
    "- This is exactly how I would code this in a compiled language like C/C++\n",
    "- Unfortunately Python is an interpreted language and very inefficient\n",
    "in its implementation of for loops and conditions\n",
    "    - Vectorised portions of the code are executed using libraries written in C++\n",
    "and so are fast"
   ]
  },
  {
   "cell_type": "markdown",
   "id": "d97a57c2-e99e-438a-b3a7-4fd11668901f",
   "metadata": {},
   "source": [
    "### Calculating the Intermediate Velocities"
   ]
  },
  {
   "cell_type": "code",
   "execution_count": 3,
   "id": "4356eead",
   "metadata": {},
   "outputs": [
    {
     "data": {
      "text/plain": [
       "'\\ndef calculate_intermediate_velocity(nu, u, v, u_old, v_old, dt, dx, dy):\\n\"\" Calculate the intermediate velocities.\\n\"\"\\nimax = len(u)\\njmax = np.size(u)//imax\\nfor i in range(1,imax-1,1):\\nfor j in range(1,jmax-1,1):\\n#viscous (diffusive) term first\\nu[i,j] = u_old[i,j] + dt * nu * ((u_old[i+1,j]+u_old[i-1,j]-2.*u_old[i,j])/(dx**2)\\n+(u_old[i,j+1]+u_old[i,j-1]-2.*u_old[i,j])/(dy**2))\\nv[i,j] = v_old[i,j] + dt * nu * ((v_old[i+1,j]+v_old[i-1,j]-2.*v_old[i,j])/(dx**2)\\n+(v_old[i,j+1]+v_old[i,j-1]-2.*v_old[i,j])/(dy**2))\\n#add the momentum advection terms using upwinding\\nif (u_old[i,j]>0.0):\\nu[i,j] -= dt*(u_old[i,j]*(u_old[i,j]-u_old[i-1,j])/dx)\\nv[i,j] -= dt*(u_old[i,j]*(v_old[i,j]-v_old[i-1,j])/dx)\\nelse:\\nu[i,j] -= dt*(u_old[i,j]*(u_old[i+1,j]-u_old[i,j])/dx)\\nv[i,j] -= dt*(u_old[i,j]*(v_old[i+1,j]-v_old[i,j])/dx)\\nif (v_old[i,j]>0.0):\\nu[i,j] -= dt*(v_old[i,j]*(u_old[i,j]-u_old[i,j-1])/dx)\\nv[i,j] -= dt*(v_old[i,j]*(v_old[i,j]-v_old[i,j-1])/dx)\\nelse:\\nu[i,j] -= dt*(v_old[i,j]*(u_old[i,j+1]-u_old[i,j])/dx)\\nv[i,j] -= dt*(v_old[i,j]*(v_old[i,j+1]-v_old[i,j])/dx)\\nreturn u, v\\n'"
      ]
     },
     "execution_count": 3,
     "metadata": {},
     "output_type": "execute_result"
    }
   ],
   "source": [
    "\n",
    "def calculate_intermediate_velocity(nu, u, v, u_old, v_old, dt, dx, dy):\n",
    "\"\"\" Calculate the intermediate velocities.\n",
    "\"\"\"\n",
    "imax = len(u)\n",
    "jmax = np.size(u)//imax\n",
    "for i in range(1,imax-1,1):\n",
    "for j in range(1,jmax-1,1):\n",
    "#viscous (diffusive) term first\n",
    "u[i,j] = u_old[i,j] + dt * nu * ((u_old[i+1,j]+u_old[i-1,j]-2.*u_old[i,j])/(dx**2)\n",
    "+(u_old[i,j+1]+u_old[i,j-1]-2.*u_old[i,j])/(dy**2))\n",
    "v[i,j] = v_old[i,j] + dt * nu * ((v_old[i+1,j]+v_old[i-1,j]-2.*v_old[i,j])/(dx**2)\n",
    "+(v_old[i,j+1]+v_old[i,j-1]-2.*v_old[i,j])/(dy**2))\n",
    "#add the momentum advection terms using upwinding\n",
    "if (u_old[i,j]>0.0):\n",
    "u[i,j] -= dt*(u_old[i,j]*(u_old[i,j]-u_old[i-1,j])/dx)\n",
    "v[i,j] -= dt*(u_old[i,j]*(v_old[i,j]-v_old[i-1,j])/dx)\n",
    "else:\n",
    "u[i,j] -= dt*(u_old[i,j]*(u_old[i+1,j]-u_old[i,j])/dx)\n",
    "v[i,j] -= dt*(u_old[i,j]*(v_old[i+1,j]-v_old[i,j])/dx)\n",
    "if (v_old[i,j]>0.0):\n",
    "u[i,j] -= dt*(v_old[i,j]*(u_old[i,j]-u_old[i,j-1])/dx)\n",
    "v[i,j] -= dt*(v_old[i,j]*(v_old[i,j]-v_old[i,j-1])/dx)\n",
    "else:\n",
    "u[i,j] -= dt*(v_old[i,j]*(u_old[i,j+1]-u_old[i,j])/dx)\n",
    "v[i,j] -= dt*(v_old[i,j]*(v_old[i,j+1]-v_old[i,j])/dx)\n",
    "return u, v"
   ]
  },
  {
   "cell_type": "markdown",
   "id": "b8330a4f-4319-4170-a9ca-808d5b398f43",
   "metadata": {},
   "source": [
    "### Setting up and Solving the Pressure Poisson Equation"
   ]
  },
  {
   "cell_type": "code",
   "execution_count": 4,
   "id": "d8369ce4",
   "metadata": {},
   "outputs": [
    {
     "data": {
      "text/plain": [
       "'def calculate_ppm_RHS(rho, u, v, dt, dx, dy):\\n\"\" Calculate the RHS of the\\nPoisson equation resulting from the projection method.\\nUse central differences for the first derivatives of u and v.\\n\"\"\\nimax = len(p)\\njmax = np.size(p)//imax\\nRHS = np.zeros_like(X)\\nfor i in range(1,imax-1,1):\\nfor j in range(1,jmax-1,1):\\nRHS[i, j] = rho * ((1.0/dt) * ( (u[i+1, j] - u[i-1, j]) / (2*dx) + (v[i, j+1] - v[i, j-1]) / (2*dy)))\\nreturn RHS\\ndef pressure_poisson_jacobi(p, dx, dy, RHS, rtol = 1.e-5, logs = False):\\n\"\" Solve the pressure Poisson equation (PPE)\\nusing Jacobi iteration assuming mesh spacing of\\ndx and dy (we assume at the moment that dx=dy)\\nand the RHS function given by RHS.\\nAssumes imposition of a Neumann BC on all boundaries.\\nReturn the pressure field.\\n\"\"\\n# our code below is only currently for the case dx=dy\\nassert dx==dy\\n# iterate\\ntol = 10.*rtol\\nit = 0\\np_old = np.copy(p)\\nimax = len(p)\\n\\njmax = np.size(p)//imax\\nwhile tol > rtol:\\nit += 1\\nfor i in range(1,imax-1,1):\\nfor j in range(1,jmax-1,1):\\np[i, j] = 0.25*(p_old[i+1, j] + p_old[i-1, j] + p_old[i, j+1] + p_old[i,j-1] - (dx**2)*RHS[i, j])\\n# apply zero pressure gradient Neumann boundary conditions\\nfor i in range(imax):\\np[i,0] = p[i,1]\\np[i,jmax-1] = p[i,jmax-2]\\nfor j in range(jmax):\\np[0,j] = p[1,j]\\np[imax-1,j] = p[imax-2,j]\\n# fix pressure level - choose an arbitrary node to set p to\\n# be zero, avoid the corners and set it to an interior location\\np[1,1] = 0\\n# relative change in pressure\\ntol = sl.norm(p - p_old)/np.maximum(1.0e-10,sl.norm(p))\\n#swap arrays without copying the data\\ntemp = p_old\\np_old = p\\np = temp\\nif logs: print(\\'pressure solve iterations = {:4d}\\'.format(it))\\nreturn p\\n'"
      ]
     },
     "execution_count": 4,
     "metadata": {},
     "output_type": "execute_result"
    }
   ],
   "source": [
    "def calculate_ppm_RHS(rho, u, v, dt, dx, dy):\n",
    "\"\"\" Calculate the RHS of the\n",
    "Poisson equation resulting from the projection method.\n",
    "Use central differences for the first derivatives of u and v.\n",
    "\"\"\"\n",
    "imax = len(p)\n",
    "jmax = np.size(p)//imax\n",
    "RHS = np.zeros_like(X)\n",
    "for i in range(1,imax-1,1):\n",
    "for j in range(1,jmax-1,1):\n",
    "RHS[i, j] = rho * ((1.0/dt) * ( (u[i+1, j] - u[i-1, j]) / (2*dx) + (v[i, j+1] - v[i, j-1]) / (2*dy)))\n",
    "return RHS\n",
    "def pressure_poisson_jacobi(p, dx, dy, RHS, rtol = 1.e-5, logs = False):\n",
    "\"\" Solve the pressure Poisson equation (PPE)\n",
    "using Jacobi iteration assuming mesh spacing of\n",
    "dx and dy (we assume at the moment that dx=dy)\n",
    "and the RHS function given by RHS.\n",
    "Assumes imposition of a Neumann BC on all boundaries.\n",
    "Return the pressure field.\n",
    "\"\"\n",
    "# our code below is only currently for the case dx=dy\n",
    "assert dx==dy\n",
    "# iterate\n",
    "tol = 10.*rtol\n",
    "it = 0\n",
    "p_old = np.copy(p)\n",
    "imax = len(p)\n",
    "\n",
    "jmax = np.size(p)//imax\n",
    "while tol > rtol:\n",
    "it += 1\n",
    "for i in range(1,imax-1,1):\n",
    "for j in range(1,jmax-1,1):\n",
    "p[i, j] = 0.25*(p_old[i+1, j] + p_old[i-1, j] + p_old[i, j+1] + p_old[i,j-1] - (dx**2)*RHS[i, j])\n",
    "# apply zero pressure gradient Neumann boundary conditions\n",
    "for i in range(imax):\n",
    "p[i,0] = p[i,1]\n",
    "p[i,jmax-1] = p[i,jmax-2]\n",
    "for j in range(jmax):\n",
    "p[0,j] = p[1,j]\n",
    "p[imax-1,j] = p[imax-2,j]\n",
    "# fix pressure level - choose an arbitrary node to set p to\n",
    "# be zero, avoid the corners and set it to an interior location\n",
    "p[1,1] = 0\n",
    "# relative change in pressure\n",
    "tol = sl.norm(p - p_old)/np.maximum(1.0e-10,sl.norm(p))\n",
    "#swap arrays without copying the data\n",
    "temp = p_old\n",
    "p_old = p\n",
    "p = temp\n",
    "if logs: print('pressure solve iterations = {:4d}'.format(it))\n",
    "return p"
   ]
  },
  {
   "cell_type": "markdown",
   "id": "119fb7dc-6f55-4a47-b1b4-f7c0dc07b09c",
   "metadata": {},
   "source": [
    "### Calculate Updated Velocity using Pressure Gradient"
   ]
  },
  {
   "cell_type": "code",
   "execution_count": null,
   "id": "c4ec1172",
   "metadata": {},
   "outputs": [],
   "source": [
    "def project_velocity(rho, u, v, dt, dx, dy, p):\n",
    "\"\"\" Update the velocity to be divergence free using the pressure.\n",
    "\"\"\"\n",
    "imax = len(p)\n",
    "jmax = np.size(p)//imax\n",
    "for i in range(1,imax-1,1):\n",
    "for j in range(1,jmax-1,1):\n",
    "u[i, j] = u[i, j] - dt * (1./rho) * (\n",
    "(p[i+1, j] - p[i-1, j])/(2*dx) )\n",
    "v[i, j] = v[i, j] - dt * (1./rho) * (\n",
    "(p[i, j+1] - p[i, j-1])/(2*dy) )\n",
    "return u, v"
   ]
  },
  {
   "cell_type": "markdown",
   "id": "2d968afa-bf1b-450a-8ba8-7a303d66f051",
   "metadata": {},
   "source": [
    "### Combine the Previous Functions to solve NS"
   ]
  },
  {
   "cell_type": "code",
   "execution_count": null,
   "id": "3d8080f0",
   "metadata": {},
   "outputs": [],
   "source": [
    "def solve_NS(u, v, p, rho, nu, dt, t_end, dx, dy, rtol = 1.e-5, logs = False):\n",
    "\"\"\" Solve the incompressible Navier-Stokes equations\n",
    "using a lot of the numerical choices and approaches we've seen\n",
    "earlier in this lecture.\n",
    "\"\"\"\n",
    "t = 0\n",
    "u_old = u.copy()\n",
    "v_old = v.copy()\n",
    "while t < t_end:\n",
    "t += dt\n",
    "if logs: print('\\nTime = {:.8f}'.format(t))\n",
    "# calculate intermediate velocities\n",
    "u, v = calculate_intermediate_velocity(nu, u, v, u_old, v_old, dt, dx, dy)\n",
    "# PPM\n",
    "# calculate RHS for the pressure Poisson problem\n",
    "p_RHS = calculate_ppm_RHS(rho, u, v, dt, dx, dy)\n",
    "# compute pressure - note that we use the previous p as an initial guess to the solution\n",
    "p = pressure_poisson_jacobi(p, dx, dy, p_RHS, 1.e-5, logs)\n",
    "# project velocity\n",
    "u, v = project_velocity(rho, u, v, dt, dx, dy, p)\n",
    "if logs:\n",
    "print('norm(u) = {0:.8f}, norm(v) = {1:.8f}'.format(sl.norm(u),sl.norm(v)))\n",
    "print('Courant number: {0:.8f}'.format(np.max(np.sqrt(u**2+v**2)) * dt / dx ))\n",
    "# relative change in u and v\n",
    "\n",
    "tolu = sl.norm(u - u_old)/np.maximum(1.0e-10,sl.norm(u))\n",
    "tolv = sl.norm(v - v_old)/np.maximum(1.0e-10,sl.norm(v))\n",
    "if tolu < rtol and tolv < rtol: break\n",
    "#swap pointers without copying data\n",
    "temp = u_old\n",
    "u_old = u\n",
    "u = temp\n",
    "temp = v_old\n",
    "v_old = v\n",
    "v = temp\n",
    "return u, v, p"
   ]
  },
  {
   "cell_type": "markdown",
   "id": "78e85da2-f326-4e02-8713-18668e2d6019",
   "metadata": {},
   "source": [
    "## Test Example\n",
    "\n",
    "- Going to solve the code for the specific case of a lid driven cavity\n",
    "- No inflow or outflow\n",
    "- Top boundary has an applied velocity of 1\n",
    "     - No slip w.r.t. this movement\n",
    "- All other boundaries are stationary with no slip\n",
    "- Box of size 1x1\n",
    "\n",
    "$$ \\large \\rho = 1, \\mu = v = 0.1 $$\n",
    "\n",
    "- This gives a Reynold’s number based on the lid velocity of 10\n"
   ]
  },
  {
   "cell_type": "markdown",
   "id": "9856db2d-4170-45b2-953a-3148b384bea7",
   "metadata": {},
   "source": [
    "### Note on the Pressure Calculation \n",
    "- In problems such as this where all the pressure boundaries are Neumann\n",
    "boundaries (gradient boundaries) there is a potential issue with the\n",
    "pressure calculations:\n",
    "-  Flow only depends on the gradient of the pressure and therefore adding a\n",
    "constant to all the pressure values does not change the solution\n",
    "    - System is under-specified by one degree of freedom\n",
    "    - A naïve iteration can therefore drift and never converge\n",
    "- A solution to this problem is to set pressure at one point in the system\n",
    "    - For more direct matrix solution methods for systems like this the removal of what is\n",
    "known as the nullspace is required\n"
   ]
  },
  {
   "cell_type": "markdown",
   "id": "aa2a9300-062d-4d6d-97ac-a1da6ac211d4",
   "metadata": {},
   "source": [
    "### Call the Function to Solve Lid Driven Cavity"
   ]
  },
  {
   "cell_type": "code",
   "execution_count": 8,
   "id": "d4a9f976",
   "metadata": {},
   "outputs": [
    {
     "data": {
      "text/plain": [
       "'\\n# physical parameters\\nrho = 1\\nnu = 1./10.\\n# define spatial mesh\\n# Size of rectangular domain\\nLx = 1\\nLy = Lx\\n# Number of grid points in each direction, including boundary nodes\\nNx = 51\\nNy = Nx\\n# hence the mesh spacing\\ndx = Lx/(Nx-1)\\ndy = Ly/(Ny-1)\\n# read the docs to see the ordering that mgrid gives us\\nX, Y = np.mgrid[0:Nx:1, 0:Ny:1]\\nX = dx*X\\nY = dy*Y\\n# the following is an alternative to the three lines above\\n#X, Y = np.mgrid[0: Lx + 1e-10: dx, 0: Ly + 1e-10: dy]\\n# but without the need to add a \"small\" increment to ensure\\n# the Lx and Ly end points are included\\n# time stepping parameters\\ndt = 2.e-4\\nt_end = 2.0\\n\\n# initialise independent variables\\nu = np.zeros_like(X)\\nv = np.zeros_like(X)\\np = np.zeros_like(X)\\n# Apply Dirichlet BCs to u and v - the code below doesn\\'t touch\\n# these so we can do this once outside the time loop\\nu[:, -1]=1 # set velocity on cavity lid equal to 1\\nu[:, 0]=0\\nu[0, :]=0\\nu[-1, :]=0\\nv[:, -1]=0\\nv[:, 0]=0\\nv[0, :]=0\\nv[-1, :]=0\\nimport time\\nstart = time.time()\\nu, v, p = solve_IN(u, v, p, rho, nu, dt, t_end, dx, dy, rtol=1.e-6, logs = True)\\nend = time.time()\\nprint(\\'Time taken by calculation = \\', end - start)\\n'"
      ]
     },
     "execution_count": 8,
     "metadata": {},
     "output_type": "execute_result"
    }
   ],
   "source": [
    "# physical parameters\n",
    "rho = 1\n",
    "nu = 1./10.\n",
    "# define spatial mesh\n",
    "# Size of rectangular domain\n",
    "Lx = 1\n",
    "Ly = Lx\n",
    "# Number of grid points in each direction, including boundary nodes\n",
    "Nx = 51\n",
    "Ny = Nx\n",
    "# hence the mesh spacing\n",
    "dx = Lx/(Nx-1)\n",
    "dy = Ly/(Ny-1)\n",
    "# read the docs to see the ordering that mgrid gives us\n",
    "X, Y = np.mgrid[0:Nx:1, 0:Ny:1]\n",
    "X = dx*X\n",
    "Y = dy*Y\n",
    "# the following is an alternative to the three lines above\n",
    "#X, Y = np.mgrid[0: Lx + 1e-10: dx, 0: Ly + 1e-10: dy]\n",
    "# but without the need to add a \"small\" increment to ensure\n",
    "# the Lx and Ly end points are included\n",
    "# time stepping parameters\n",
    "dt = 2.e-4\n",
    "t_end = 2.0\n",
    "\n",
    "# initialise independent variables\n",
    "u = np.zeros_like(X)\n",
    "v = np.zeros_like(X)\n",
    "p = np.zeros_like(X)\n",
    "# Apply Dirichlet BCs to u and v - the code below doesn't touch\n",
    "# these so we can do this once outside the time loop\n",
    "u[:, -1]=1 # set velocity on cavity lid equal to 1\n",
    "u[:, 0]=0\n",
    "u[0, :]=0\n",
    "u[-1, :]=0\n",
    "v[:, -1]=0\n",
    "v[:, 0]=0\n",
    "v[0, :]=0\n",
    "v[-1, :]=0\n",
    "import time\n",
    "start = time.time()\n",
    "u, v, p = solve_IN(u, v, p, rho, nu, dt, t_end, dx, dy, rtol=1.e-6, logs = True)\n",
    "end = time.time()\n",
    "print('Time taken by calculation = ', end - start)"
   ]
  },
  {
   "cell_type": "markdown",
   "id": "588c68c2-462a-4237-836d-946d325959e0",
   "metadata": {},
   "source": [
    "### Solution for Re = 10\n",
    "\n",
    "```{figure} Images/Lecture7.1/solution.PNG\n",
    ":width: 75%\n",
    "```\n"
   ]
  },
  {
   "cell_type": "markdown",
   "id": "c705c6ed-67fd-414e-9ba1-8958bc983e9b",
   "metadata": {},
   "source": [
    "### Comparison to High Resolution Simulations for Re = 10\n",
    "\n",
    "```{figure} Images/Lecture7.1/comparison.PNG\n",
    ":width: 75%\n",
    "```\n",
    "\n",
    "Benchmark date: MARCHI, Carlos Henrique; SUERO, Roberta and ARAKI, Luciano Kiyoshi. The lid-driven square cavity flow: numerical solution\n",
    "with a 1024 x 1024 grid. J. Braz. Soc. Mech. Sci. & Eng. 2009, vol.31, n.3, pp.186-198. http://dx.doi.org/10.1590/S1678-58782009000300004."
   ]
  },
  {
   "cell_type": "markdown",
   "id": "22cd256f-bc72-440e-932d-f5d3f57e8f62",
   "metadata": {},
   "source": [
    "### Solution for Re = 100\n",
    "\n",
    "```{figure} Images/Lecture7.1/solution100.PNG\n",
    ":width: 75%\n",
    "```"
   ]
  },
  {
   "cell_type": "markdown",
   "id": "9d2a7bc3-2236-4f31-aff4-7fba1ddae163",
   "metadata": {},
   "source": [
    "### Comparison to High Resolution Simulations for Re = 100\n",
    "\n",
    "```{figure} Images/Lecture7.1/comparison100.PNG\n",
    ":width: 75%\n",
    "```\n",
    "\n",
    "Benchmark date: Ghia, U., Ghia, K. N. & Shin, C. T. High-Re solutions for incompressible flow using the Navier-Stokes equations and a multigrid\n",
    "method. J. Comput. Phys. 48, 387–411 (1982)."
   ]
  },
  {
   "cell_type": "markdown",
   "id": "111c8060-adf7-49c5-a398-119068860e02",
   "metadata": {},
   "source": [
    "## Pressure Driven Steady Flow between Parallel Plates\n",
    "\n",
    "- An analytical solution for steady state can be derived easily either from the Navier-Stoke equation or by considering a force balance on a unit of fluid:\n",
    "    - No time dependency\n",
    "    - Only non-zero velocity components are in the x direction\n",
    "    - Ignore body forces\n",
    "    \n",
    "$$ \\large \\frac{dP}{dx} = - \\frac{\\Delta P}{L} = \\mu \\frac{d^2 u_x}{dy^2} $$\n",
    "\n",
    "- Integrate and note that $u_x = 0$ at $y = h$ and $y = -h$:\n",
    "\n",
    "$$ \\large u_x = \\frac{\\Delta P}{2 \\mu L} (h^2 = y^2) $$\n",
    "\n",
    "```{figure} Images/Lecture7.1/pipeflow.PNG\n",
    ":width: 75%\n",
    "```"
   ]
  },
  {
   "cell_type": "markdown",
   "id": "08a3f901-88ce-4234-a19f-76a9caca3fff",
   "metadata": {},
   "source": [
    "### Pressure Boundary Conditions\n",
    "- Pressure boundary for the pressure itself is a Dirichlet boundary in\n",
    "- which the pressure is set at the boundary\n",
    "     - Note that as a pressure is being specified, there is no issue with drift in\n",
    "pressure and so no arbitrary pressure values need to be set\n",
    "- For the velocity, the easiest boundary to impose is to assume that the\n",
    "fluid flow through the boundary is in the normal direction to\n",
    "boundary\n",
    "     - This implies that the velocity components in the other direction/s are zero\n",
    "     - This therefore also implies that for an incompressible the gradient in the\n",
    "velocity normal to the boundary is zero\n",
    "\n",
    "$$ \\frac{\\partial v_n}{\\partial n} = 0 $$\n"
   ]
  },
  {
   "cell_type": "markdown",
   "id": "15f91812-fa8b-4bd9-aecb-0811a6296892",
   "metadata": {},
   "source": [
    "### Solution for $\\Delta P = 10 ( Re \\approx 120) $\n",
    "\n",
    "```{figure} Images/Lecture7.1/deltasolution.PNG\n",
    ":width: 75%\n",
    "```"
   ]
  },
  {
   "cell_type": "markdown",
   "id": "efffc87b-fcd4-4000-adfc-196d3f666ca1",
   "metadata": {},
   "source": [
    "### Comparison to Theory for $\\Delta P = 10 ( Re \\approx 120) $\n",
    "\n",
    "```{figure} Images/Lecture7.1/deltasolution.PNG\n",
    ":width: 75%\n",
    "```"
   ]
  },
  {
   "cell_type": "markdown",
   "id": "488caf6b-572a-4d53-9b83-f48531831b79",
   "metadata": {},
   "source": [
    "### Non-uniform Addition $\\Delta P = 0.5$\n",
    "\n",
    "- To make the solution more interesting I have made half the inlet a solid wall and half a pressure boundary\n",
    "\n",
    "```{figure} Images/Lecture7.1/addition0.5.PNG\n",
    ":width: 75%\n",
    "```"
   ]
  },
  {
   "cell_type": "markdown",
   "id": "3d939ff3-b120-4b38-8027-ab5144b0cc12",
   "metadata": {},
   "source": [
    "### Non-uniform Addition $\\Delta P = 5$\n",
    "\n",
    "```{figure} Images/Lecture7.1/addition5.PNG\n",
    ":width: 75%\n",
    "```"
   ]
  },
  {
   "cell_type": "markdown",
   "id": "a21676f6-47df-46b5-b147-b4f26dac0050",
   "metadata": {},
   "source": [
    "## Staggered Pressure and Velocity Grid\n",
    "\n",
    "-The scheme introduced in this lecture is a widely used basis for carrying\n",
    "out Navier-Stokes simulations\n",
    "- It is, though, a very bare bones implementation to illustrate the method without making it too complex to follow\n",
    "- In particular, I have co-located the pressure and velocity nodes\n",
    "    - In complex flows, especially at higher Reynolds numbers, this can cause instability in\n",
    "the pressure solve\n",
    "     - This instability is characterised by a checkerboard of high and low pressure values\n",
    "     - Hints of this instability can be seen in the non-uniform inlet solution for ∆𝑃 = 5\n",
    "     - A way to avoid this is to have the pressure and velocity on separate grids\n",
    "that are staggered w.r.t. one another\n",
    "- You need to take care as to the finite differencing on such a grid\n",
    "     - In finite element discretisations, the equivalent issue can be resolved by having\n",
    "different orders for the velocity and pressure elements\n",
    "         - More on finite elements in a later lecture"
   ]
  },
  {
   "cell_type": "markdown",
   "id": "d77ff28e-d4f5-43b4-8c24-e41bbdebee3f",
   "metadata": {},
   "source": [
    "## Next Lecture\n",
    "\n",
    "- Turbulent flow\n",
    "\n",
    "- Non-Newtonian Rheologies"
   ]
  }
 ],
 "metadata": {
  "kernelspec": {
   "display_name": "Python 3 (ipykernel)",
   "language": "python",
   "name": "python3"
  },
  "language_info": {
   "codemirror_mode": {
    "name": "ipython",
    "version": 3
   },
   "file_extension": ".py",
   "mimetype": "text/x-python",
   "name": "python",
   "nbconvert_exporter": "python",
   "pygments_lexer": "ipython3",
   "version": "3.9.7"
  }
 },
 "nbformat": 4,
 "nbformat_minor": 5
}
