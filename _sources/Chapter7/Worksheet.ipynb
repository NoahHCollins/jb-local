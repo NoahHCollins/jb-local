{
 "cells": [
  {
   "cell_type": "markdown",
   "id": "be30aefe-e60f-459c-b75b-e2f61e3ade5c",
   "metadata": {},
   "source": [
    "# Worksheet"
   ]
  },
  {
   "cell_type": "markdown",
   "id": "4f56ac07-4abe-4067-9628-b33f430bc32d",
   "metadata": {},
   "source": [
    "## Question 1\n",
    "\n",
    "Solve for flow around a bend by modifying the code that we developed in class. Implement pressure\n",
    "boundary conditions on the op half of the left hand boundary and the right hand half of the bottom\n",
    "boundary (implementing it on the entire boundary causes an issue because there will be an infinite\n",
    "pressure gradient in the corner). Have no slip boundary conditions on all other boundaries. \n",
    "\n",
    "Note: If the behaviour is not good, try and reduce the Courant number (and also possibly the\n",
    "maximum time step) to improve stability."
   ]
  },
  {
   "cell_type": "markdown",
   "id": "0460edae-368a-46b2-b253-7132ce5287ff",
   "metadata": {},
   "source": [
    "## Question 2\n",
    "\n",
    "Investigate how the flow varies as a function of the pressure drop. Calculate a Reynolds number for\n",
    "the flow based on the average inflow velocity. How does the average inflow velocity compare to the\n",
    "average outflow velocity (i.e. how good is continuity over the system)?  \n",
    "\n",
    "How does the symmetry of the flow field change as the pressure drop/Reynolds number is varied?  \n",
    "\n",
    "Why does the symmetry change with the Reynolds number?\n"
   ]
  },
  {
   "cell_type": "markdown",
   "id": "96cae3ae-869b-4efb-82db-967652358211",
   "metadata": {},
   "source": [
    "## Question 3\n",
    "\n",
    "Run the same simulation at a number of different resolutions. Use a very high resolution simulation\n",
    "as the “truth”. Calculate the L2 norm (the square root of the sum of the squared differences) as the\n",
    "error metric. Remember that the error can only be calculated at points that exist in both simulations\n",
    "and that the L2 norm varies with the number of points compared and so reduce all of the matrices to\n",
    "the resolution of the lowest resolution simulation in order to do the comparison.  \n",
    "\n",
    "Calculate the order of convergence by plotting the log of the error against the log of dx"
   ]
  }
 ],
 "metadata": {
  "kernelspec": {
   "display_name": "Python 3 (ipykernel)",
   "language": "python",
   "name": "python3"
  },
  "language_info": {
   "codemirror_mode": {
    "name": "ipython",
    "version": 3
   },
   "file_extension": ".py",
   "mimetype": "text/x-python",
   "name": "python",
   "nbconvert_exporter": "python",
   "pygments_lexer": "ipython3",
   "version": "3.11.3"
  }
 },
 "nbformat": 4,
 "nbformat_minor": 5
}
