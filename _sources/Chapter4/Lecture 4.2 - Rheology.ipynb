{
 "cells": [
  {
   "cell_type": "markdown",
   "id": "a867c958-5621-4559-ab4f-bfc6e6384b08",
   "metadata": {},
   "source": [
    "# 4.2 Rheology\n",
    "\n",
    "Lecture 4.2  \n",
    "Saskia Goes, s.goes@imperial.ac.uk\n"
   ]
  },
  {
   "cell_type": "markdown",
   "id": "cb1d5910-a62c-4092-8bf4-029fd2558183",
   "metadata": {},
   "source": [
    "## Table of Contents\n",
    "```{contents}\n",
    "```"
   ]
  },
  {
   "cell_type": "markdown",
   "id": "849923f4-dca7-4e65-813b-3ec95e5f6e64",
   "metadata": {},
   "source": [
    "## Learning Objectives\n",
    "\n",
    "- Understand basic properties of elastic and viscous\n",
    "rheology and understand how the choice of rheology\n",
    "leads to different forms of the momentum\n",
    "conservation equation  \n",
    "- Using tensor analysis to obtain relations between the\n",
    "main isotropic elastic parameters"
   ]
  },
  {
   "cell_type": "markdown",
   "id": "19ca07e5-104e-4677-a667-8176502b6b31",
   "metadata": {},
   "source": [
    "## Rheology\n",
    "\n",
    "deformation ($\\mathbf{\\varepsilon}$) = *rheology* $\\cdot$ stress ($\\mathbf{\\sigma}$)\n",
    "\n",
    "Rheology describes the material response to stress, depends on material, pressure, temperature, time, deformation history, and enviroment (volatiles, water).\n",
    "\n",
    "- experiments under simple stress conditions\n",
    "- *elastic, viscous, brittle, plastic*\n",
    "- strain evolution under constant stress,\n",
    "stress-strain rate diagrams\n",
    "- thermodynamics + experimental parameters\n",
    "- ab-initio calculations"
   ]
  },
  {
   "cell_type": "markdown",
   "id": "ce2bfa2e-f5b1-4ea4-a3c0-67c7ace1c781",
   "metadata": {},
   "source": [
    "## Recap: Fluid - Solid\n",
    "\n",
    "What is a solid?  \n",
    "- A solid acquires finite deformation under stress \n",
    "- *stress* $\\mathbf{\\sigma}$ ~ *strain* $\\mathbf{\\varepsilon}$\n",
    "\n",
    "What is a fluid?\n",
    "- A material that flows in response to applied stress\n",
    "- *stress* $\\mathbf{\\sigma}$ ~ *strain rate*  $D$\n",
    "\n",
    "```{figure} Images/Lecture4.2/fluid-vs-solid.PNG\n",
    ":width: 50%\n",
    "```"
   ]
  },
  {
   "cell_type": "markdown",
   "id": "a5f2294c-84a6-4b74-ba0f-fb0a8982ac01",
   "metadata": {},
   "source": [
    "## Elasticity\n",
    "\n",
    "- linear response to load applied\n",
    "- instantaneous\n",
    "- completely recoverable\n",
    "- below threshold (yielding) stress\n",
    "- dominates behaviour of coldest part of tectonic plates on time scales of up to 100 m.y. => fault loading\n",
    "- on time scale of seismic waves, the whole Earth is elastic\n",
    "- $\\sigma_{ij} = C_{ijkl} \\epsilon_{kl}$ - Hooke's law  \n",
    "$C_{ijkl}$ - rank 4 elasticity tensor, $3^4$ elements, up to 21 independent\n",
    "\n",
    "```{figure} Images/Lecture4.2/stress-strain.PNG\n",
    ":width: 50%\n",
    "```"
   ]
  },
  {
   "cell_type": "markdown",
   "id": "5bd3bf29-cd10-443b-9389-95c110a41e0e",
   "metadata": {},
   "source": [
    "### Elasticity Tensor\n",
    "\n",
    "- $C_{ijkl}$, $3^4 = 81$ elements (for $n = 3$)\n",
    "- symmetry of $\\sigma_{ij}$ and $\\varepsilon_{kl}$  \n",
    "$\\Longrightarrow$ only 36 independent elements  \n",
    "\n",
    "$$P = \\mathbf{\\sigma :D} \\approx \\mathbf{\\sigma} : D \\mathbf{\\varepsilon} / Dt = DU / Dt$$  \n",
    "\n",
    "- conservation of elastic energy $U = \\mathbf{\\sigma :} \\varepsilon = \\mathbf{C} : \\varepsilon : \\varepsilon \\geq 0$  \n",
    "$\\Longrightarrow C_{ijkl} = C_{klij} $  \n",
    "$\\Longrightarrow$ only 21 independent elements - most general form of $\\mathbf{C}$\n",
    "\n",
    "- other symmetries further reduce the number of independent elements\n",
    "\n",
    "*3 isotropic rank 4 tensors:* $\\delta_{ij}\\delta_{kl}, \\delta_{ik}\\delta_{jl}, \\delta_{il} \\delta_{jk}$\n",
    "\n",
    "For example, for *isotropic media*, only 2 independent elements ($\\lambda, \\mu$):\n",
    "\n",
    "$$ \\sigma_{ij} = \\lambda \\delta_{ij} \\delta_{kl} \\varepsilon_{kl} + \\alpha \\delta_{ik} \\delta_{jl} \\varepsilon_{kl} + \\beta \\delta_{il} + \\delta_{jk} \\varepsilon_{kl}$$\n",
    "\n",
    "$$ = \\lambda \\delta_{ij} \\varepsilon_{kk} + \\alpha \\varepsilon_{ij} + \\beta \\varepsilon_{ji} $$\n",
    "\n",
    "$$ = \\lambda \\delta_{ij} \\theta + (\\alpha + \\beta ) \\varepsilon_{ij} $$\n",
    "\n",
    "$$ \\Longrightarrow \\alpha_{ij} = \\alpha \\theta \\delta_{ij} + 2 \\mu \\varepsilon_{ij} $$"
   ]
  },
  {
   "cell_type": "markdown",
   "id": "a1b90823-96bb-43a0-ae5f-f0858aefae97",
   "metadata": {},
   "source": [
    "### Hooke's Law for Isotropic Material\n",
    "\n",
    "2 independent coefficients\n",
    "\n",
    "*Lamé constants*  \n",
    "$\\mathbf{\\lambda}$ and $\\mathbf{\\mu}$: $\\sigma_{ij} = \\lambda \\varepsilon_{kk} \\delta_{ij} + 2 \\mu \\varepsilon_{ij}$\n",
    "\n",
    "*Bulk and shear modulus*  \n",
    "$\\mathbf{K}$ and $\\mathbf{G}$:  \n",
    "$ -p = K \\theta $ - *isotropic* &nbsp; &nbsp; &nbsp; &nbsp; &nbsp; $-p = \\sigma_{kk} /3 $  \n",
    "$ \\sigma_{ij}^{'} = G \\varepsilon_{ij}^{'} $ - *deviatronic* &nbsp; &nbsp; &nbsp; &nbsp; $ \\theta = \\varepsilon_{kk}$\n",
    "\n",
    "Detemine relation to Lamé constants in Exercise 5\n",
    "\n",
    "*Young's modulus and Poisson's ratio*  \n",
    "$\\mathbf{E}$ and $\\mathbf{v} : E = \\sigma_{11} / \\varepsilon_{11}, v = -\\varepsilon_{33} / \\varepsilon_{11}$ (uniaxial stress)   \n",
    "\n",
    "Determine in *optional* Exercise 6"
   ]
  },
  {
   "cell_type": "markdown",
   "id": "3b8d3836-b001-409d-8c89-fb443e56456c",
   "metadata": {},
   "source": [
    "### Wave Equation\n",
    "\n",
    "For infinitesimal deformation:  \n",
    "spatial coordinates ≈ material coordinates\n",
    "\n",
    "$v_i$ (spatial) $\\approx \\partial u_i / \\partial t$  \n",
    "$a_i$ (spatial) $\\approx \\partial v_i / \\partial t = \\partial^2 u_i / \\partial t^2$\n",
    "\n",
    "Equation of motion:  $f_i + \\partial \\sigma_{ij} / \\partial x_{j} = \\rho \\partial^2 u_i / \\partial t^2$ (1)  \n",
    "Elastic rheology: $\\sigma_{ij} = \\lambda \\varepsilon_{kk} \\delta_{ij} + 2 \\mu \\varepsilon_{ij}$ (2)  \n",
    "Substitute (2) in (1) if (infinitesimal) deformation is\n",
    "consequence of force balance\n",
    "\n",
    "$$ \\partial \\sigma_{ij} / \\partial x_{j} = \\lambda \\partial \\varepsilon_{kk} / \\partial x_i + \\mu \\partial (\\partial u_i / \\partial x_j + \\partial u_j / \\partial x_i) / \\partial x_j $$  \n",
    "$$ = \\lambda \\partial(\\partial u_k / \\partial x_k) / \\partial x_i + \\mu \\partial^2 u_i / \\partial^2 x_j + \\mu \\partial ( \\partial u_j / \\partial x_j) \\partial x_i$$  \n",
    "\n",
    "$$ \\mathbf{\\nabla \\cdot \\sigma} = (\\lambda +  \\mu) \\nabla (\\nabla \\cdot \\mathbf{u}) + \\mu \\nabla^2 \\mathbf{u}$$\n",
    "\n",
    "Using: $\\nabla^2 \\mathbf{u} = \\nabla (\\nabla \\cdot \\mathbf{u}) - \\nabla \\times \\nabla \\times \\mathbf{u}$\n",
    "\n",
    "$$ \\Longrightarrow \\rho \\partial^2 \\mathbf{u} / \\partial t^2 = \\mathbf{f} + (\\lambda + 2 \\mu) \\nabla (\\nabla \\cdot \\mathbf{u}) - \\mu \\nabla \\times \\nabla \\times \\mathbf{u} $$\n",
    "\n",
    "Where $(\\lambda + 2 \\mu) \\nabla (\\nabla \\cdot \\mathbf{u})$ represents compressional deformation,  \n",
    "and $\\mu \\nabla \\times \\nabla \\times \\mathbf{u}$ represents shear deformation\n",
    "\n",
    "```{figure} Images/Lecture4.2/ps-waves.PNG\n",
    ":width: 50%\n",
    "```\n"
   ]
  },
  {
   "cell_type": "markdown",
   "id": "20972d27-8d4f-4695-9bad-cd097f8d2cc7",
   "metadata": {},
   "source": [
    "## Viscous flow\n",
    "\n",
    "- steady state flow at constant stress\n",
    "- permanent deformation § linear (Newtonian) or non-linear (e.g., Powerlaw) relation between strain rate and stress\n",
    "- isotropic stress does not cause flow\n",
    "- *on timescales > years base tectonic plates and mantle deform predominantly viscously -> plate motions, postseismic deformation, but also glaciers, magmas*\n",
    "\n",
    "```{figure} Images/Lecture4.2/viscous-flow.PNG\n",
    ":width: 50%\n",
    "```"
   ]
  },
  {
   "cell_type": "markdown",
   "id": "6e72b30b-6414-468a-95c1-6f2b1771e668",
   "metadata": {},
   "source": [
    "## Hydrostatics \n",
    "\n",
    "Fluids can not support shear stresses  \n",
    "i.e. if in rest/rigid body motion: $\\mathbf{\\sigma \\cdot \\hat{n} = \\lambda \\hat{n}}$  \n",
    "and this normal stress is the same on any plane: $\\mathbf{\\sigma} = -p \\mathbf{I}$  \n",
    "\n",
    "*p* is *hydrostatic pressure*\n",
    "In force balance:  \n",
    "$\\nabla \\cdot \\mathbf{\\sigma + f} = 0$  \n",
    "$-\\nabla p = - \\mathbf{f}$  \n",
    "\n",
    "In gravity field $\\frac{\\partial p}{\\partial z} = \\rho g \\Longrightarrow p_2 - p_1 = \\rho g h$  \n",
    "where $h = z_2 - z_1$"
   ]
  },
  {
   "cell_type": "markdown",
   "id": "879e38af-a026-4349-821c-97a5f3d9b2ff",
   "metadata": {},
   "source": [
    "## Newtonian Fluids\n",
    "\n",
    "In general motion: $\\mathbf{\\sigma} = -p \\mathbf{I} + \\mathbf{\\sigma^{'}}$  \n",
    "\n",
    "In Newtonian fluids, deviatoric stress varies ***linearly*** with ***strain rate,*** $\\mathbf{D}$  \n",
    "\n",
    "$$ D_{ij} = ( \\partial v_i / \\partial x_j + \\partial v_j / \\partial x_i ) / 2 $$  \n",
    "\n",
    "For *isotropic*, Newtonian fluids, 2 *material parameters:*  \n",
    "\n",
    "Viscous stress tensor, $\\sigma_{ij}^{'} = \\zeta D_{kk} \\delta_{ij} + 2 \\eta D_{ij}$\n",
    "\n",
    "where $\\zeta$ is ***bulk viscosity*** and $\\eta$ ***(shear) viscosity***, $\\Delta = D_{kk} = \\nabla \\cdot \\mathbf{v}$$  \n",
    "\n",
    "$$ \\mathbf{\\sigma} = ( -p + \\varsigma \\Delta) \\mathbf{I} + 2 \\eta \\mathbf{D} $$\n",
    "\n",
    "$p$ does not always mean normal stress: $\\sigma_{kk} = -3p + (3 \\zeta + 2 \\eta) D_{kk}$\n",
    "\n",
    "Consider a Newtonian shear flow with velocity field $v_1 ( x_2 ) , v_2 = v_3 = 0$  \n",
    "\n",
    "What is $\\mathbf{D}$? What is $\\mathbf{\\sigma}$?\n",
    "\n",
    "**Exercise 7**\n",
    "\n",
    "Illustrates that $\\eta$ represents resistance to shearing"
   ]
  },
  {
   "cell_type": "markdown",
   "id": "06bcb0b7-2dfe-41af-91ca-5a4e79c6c111",
   "metadata": {},
   "source": [
    "### Navier-Stokes for Incompressible Newtonian Flow\n",
    "\n",
    "For incompressible fluids $\\Delta = 0$, so that: $\\mathbf{\\sigma} = -p \\mathbf{I} + 2 \\eta \\mathbf{D}$  \n",
    "\n",
    "Force balance: $\\nabla \\cdot \\underline{\\underline{\\sigma}} + \\mathbf{f} = \\rho \\frac{D\\mathbf{v}}{Dt}$  \n",
    "\n",
    "Show that:  \n",
    "\n",
    "$$ \\frac{\\partial \\sigma_{ij}}{\\partial x_j} = -\\frac{\\partial p}{\\partial x_i} + \\eta \\frac{\\partial^2 v_i}{\\partial x_j \\partial x_j} $$\n",
    "\n",
    "Assuming constant $\\eta$  \n",
    "\n",
    "$$ \\sigma_{ij} = -p \\delta_{ij} + \\eta \\left( \\frac{\\partial v_i}{\\partial x_j} + \\frac{\\partial v_j}{\\partial x_i} \\right) $$\n",
    "\n",
    "Hence,  \n",
    "\n",
    "$$ \\frac{\\partial \\sigma_{ij}}{\\partial x_i} = -\\frac{\\partial p}{\\partial x_i} + \\eta \\left( \\frac{\\partial^2 v_i}{\\partial x_j \\partial x_j} + \\underline{\\frac{\\partial^2 v_j}{\\partial x_i \\partial x_i}} \\right) $$\n",
    "\n",
    "${\\frac{\\partial^2 v_j}{\\partial x_i \\partial x_i}} = 0$, as $\\frac{\\partial v_j}{\\partial x_j} = \\Delta = 0$\n",
    "\n",
    "$$ \\large \\nabla \\cdot \\underline{\\underline{\\sigma}} = -\\nabla p  +\\eta \\nabla^2 \\mathbf{v} $$\n",
    "\n",
    "For incompressible fluids $\\delta = 0$, so that: $\\mathbf{\\sigma} = -p \\mathbf{I} + 2 \\eta \\mathbf{D}$  \n",
    "\n",
    "Force balance: $\\nabla \\cdot \\underline{\\underline{\\sigma}} + \\mathbf{f} = \\rho \\frac{D \\mathbf{v}}{Dt}$\n",
    "\n",
    "Navier Stokes equation of motion: $ - \\nabla p + \\eta \\nabla^2 \\mathbf{v} + \\mathbf{f} = \\rho \\left[ \\frac{\\partial \\mathbf{v}}{\\partial t} + \\mathbf{v \\cdot \\nabla v} \\right]$, Assuming constant $\\eta$\n",
    "\n",
    "Together with continuity, 4 equations, 4 unknowns ($p, v_x, v_y, v_z$)\n",
    "\n",
    "$$ \\nabla \\cdot \\mathbf{v} = 0 $$"
   ]
  },
  {
   "cell_type": "markdown",
   "id": "43406894-00e0-47ae-aa9f-a48cbf2db616",
   "metadata": {},
   "source": [
    "### Navier-Stokes for Compressible Newtonian Flow\n",
    "\n",
    "For incompressible fluids $\\Delta = 0$, so that: $\\mathbf{\\sigma} = (-p + \\varsigma \\Delta) \\mathbf{I} + 2 \\eta \\mathbf{D}$  \n",
    "\n",
    "Force balance: $\\nabla \\cdot \\underline{\\underline{\\sigma}} + \\mathbf{f} = \\rho \\frac{D\\mathbf{v}}{Dt}$  \n",
    "\n",
    "$$\\sigma_{ij} = -p \\delta_{ij} + \\zeta \\frac{\\partial v_k}{\\partial x_k} \\delta_{ij} + \\eta \\left( \\frac{\\partial v_i}{\\partial x_j} + \\frac{\\partial v_j}{\\partial x_i} \\right)$$\n",
    "\n",
    "Assuming constant $\\eta, \\zeta$\n",
    "\n",
    "$$ \\frac{\\partial \\sigma_{ij}}{\\partial x_j} = -\\frac{\\partial p}{\\partial x_i} + \\zeta \\frac{\\partial^2 v_j}{\\partial x_i \\partial x_j} + \\eta \\left( \\frac{\\partial^2 v_i}{\\partial x_j \\partial x_j} + \\frac{\\partial^2 v_j}{\\partial x_i \\partial x_j} \\right)$$\n",
    "\n",
    "$$ \\frac{\\partial \\sigma_{ij}}{\\partial x_j} = -\\frac{\\partial p}{\\partial x_i} + (\\zeta + \\eta) \\frac{\\partial}{\\partial x_i} \\frac{\\partial v_j}{\\partial x_j} + \\eta \\frac{\\partial^2 v_i}{\\partial x_j \\partial x_j}$$\n",
    "\n",
    "$$\\large \\nabla \\cdot \\underline{\\underline{\\sigma}} = - \\nabla p + (\\zeta + \\eta) \\nabla (\\nabla \\cdot \\mathbf{v} ) + \\eta \\nabla^\" \\mathbf{v} $$\n",
    "\n",
    "Navier Stokes equation of motion:\n",
    "\n",
    "$$ - \\nabla p + (\\zeta + \\eta) \\nabla \\Delta + \\eta \\nabla^2 \\mathbf{v} + \\mathbf{f} = \\rho \\left[ \\frac{\\partial v}{\\partial t} + \\nabla \\mathbf{v \\cdot v} \\right] $$\n",
    "\n",
    "Again assuming constant $\\eta, \\zeta$\n",
    "\n",
    "+Conservation of mass:\n",
    "\n",
    "$$ \\frac{D \\rho}{D t} + \\rho \\nabla \\cdot \\mathbf{v} = 0 $$\n",
    "\n",
    "+Energy eqauation\n",
    "\n",
    "+Equation of state for $\\rho (T,P)$\n",
    "\n",
    "6 equations, 6 unknowns ($p, v_x, v_y, v_z, \\rho, T$)"
   ]
  },
  {
   "cell_type": "markdown",
   "id": "d70deb6b-1588-4546-9c33-14f3ee886d07",
   "metadata": {},
   "source": [
    "## Recap\n",
    "- Conservation equations\n",
    "- Energy equation\n",
    "- Rheology\n",
    "- Elasticity and Wave Equation\n",
    "- Newtonian Viscosity and Navier Stokes\n",
    "\n",
    "*More reading on the topics covered in this lecture can be found in, for\n",
    "example: Lai et al. Ch 4.14-4-16, 6.18, Ch 5.1-5.6, Ch 6.1-6.7; Reddy\n",
    "parts of Ch 5 & Ch 6*"
   ]
  },
  {
   "cell_type": "markdown",
   "id": "43e8c3a2-d0ce-4026-8777-40e66e84997d",
   "metadata": {},
   "source": [
    "## Try Yourself\n",
    "\n",
    "For this part of the lecture, first try Exercise 5 and 7 in chapter4.ipynb  \n",
    "\n",
    "Then complete any remaining exercises in chapter4.ipynb:  \n",
    "Exercise 1, 2, 3, 4, 5, 7, 8  \n",
    "• Additional practise: in the text  \n",
    "• Advanced practise: Exercise 6  "
   ]
  },
  {
   "cell_type": "markdown",
   "id": "d6ad0512-417e-45de-83cf-a0d90008d62e",
   "metadata": {},
   "source": [
    "## Coursework 1\n",
    "\n",
    "- In-class test, pen-paper, not open book.\n",
    "- Wednesday 25 January 10:00-11:30\n",
    "- Will be based on analytical content of all lectures, in\n",
    "particular lectures 1-5\n",
    "- Understand material covered in lectures and slides,\n",
    "practise class exercises (with answers)\n",
    "- Study guide released next week"
   ]
  },
  {
   "cell_type": "markdown",
   "id": "12f10352-ba3c-499a-a393-40e9cb8a9583",
   "metadata": {
    "tags": []
   },
   "source": [
    "## Outline of Course\n",
    "\n",
    "**Part 1: Analytical background**  \n",
    "1. Intro vector/tensor calculus (SG)  \n",
    "2. Stress tensor (SG)\n",
    "3. Kinematics and strain (SG)\n",
    "4. Conservation equations (SG) $\\leftarrow$ covered up to here\n",
    "5. Dimensional Analysis (SN)\n",
    "\n",
    "**Part 2: Numerical techniques (advanced)**  \n",
    "6. Interpolation and quadrature (MP)  \n",
    "7. Ordinary differential equations (MP)  \n",
    "8. Partial differential equations and finite difference (MP)  \n",
    "\n",
    "**Part 3: Numerical solutions** \n",
    "9. Potential flow (SN)  \n",
    "10. Navier-Stokes (SN)  \n",
    "11. Nonlinear rheology and turbulence (SN)  \n",
    "12. Finite Element Method (MP)  "
   ]
  }
 ],
 "metadata": {
  "kernelspec": {
   "display_name": "Python 3 (ipykernel)",
   "language": "python",
   "name": "python3"
  },
  "language_info": {
   "codemirror_mode": {
    "name": "ipython",
    "version": 3
   },
   "file_extension": ".py",
   "mimetype": "text/x-python",
   "name": "python",
   "nbconvert_exporter": "python",
   "pygments_lexer": "ipython3",
   "version": "3.11.3"
  }
 },
 "nbformat": 4,
 "nbformat_minor": 5
}
