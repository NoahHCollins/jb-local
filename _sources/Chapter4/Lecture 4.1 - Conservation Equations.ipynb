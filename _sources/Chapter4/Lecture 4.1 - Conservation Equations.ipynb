{
 "cells": [
  {
   "cell_type": "markdown",
   "id": "2f4dd32a-0345-4d25-9df6-e0ef07e9efeb",
   "metadata": {},
   "source": [
    "# 4.1 Conservation Equations\n",
    "\n",
    "Lecture 4.1  \n",
    "Saskia Goes, s.goes@imperial.ac.uk\n"
   ]
  },
  {
   "cell_type": "markdown",
   "id": "f4a32992-a3a9-4751-81ea-06b4c60bfd85",
   "metadata": {},
   "source": [
    "## Table of Contents\n",
    "```{contents}\n",
    "```"
   ]
  },
  {
   "cell_type": "markdown",
   "id": "78cfb9c4-c4bd-4053-a46b-ba1c601cff36",
   "metadata": {},
   "source": [
    "## Learning Objectives\n",
    "\n",
    "- Learn main conservation equations used in\n",
    "continuum mechanics modelling and understand\n",
    "what different terms in these equations represent\n",
    "- Be able to solve conservation equations for basic\n",
    "analytical solutions given boundary/initial\n",
    "conditions."
   ]
  },
  {
   "cell_type": "markdown",
   "id": "975546be-32ff-4cc4-8f32-d54d071e8fa4",
   "metadata": {},
   "source": [
    "## Continuum Mechanics Equations\n",
    "**General:**\n",
    "1. *Kinematics* – describing deformation and velocity without\n",
    "considering forces\n",
    "2. *Dynamics* – equations that describe force balance, conservation\n",
    "of linear and angular momentum\n",
    "3. *Thermodynamics* – relations temperature, heat flux, stress,\n",
    "entropy\n",
    "\n",
    "**Material Specific:**\n",
    "\n",
    "4. *Constitutive equations* - relations describing how material\n",
    "properties vary as a function of T,P, stress, ect. Such material\n",
    "properties govern dynamics (e.g. density), response to stress\n",
    "(viscosity, elastic parameters), heat transport (thermal\n",
    "conductivity, diffusivity) "
   ]
  },
  {
   "cell_type": "markdown",
   "id": "c16e5828-3fa9-4dba-aaa5-295aff560aea",
   "metadata": {},
   "source": [
    "## Thermodynamics: Conservation of Energy\n",
    "\n",
    "- First law of thermodynamics\n",
    "- Preservation of energy, i.e any change in kinetic or\n",
    "internal energy is balanced by work done and heat\n",
    "used/produced\n",
    "\n",
    "$$ \\frac{D(K+U)}{Dt} = W + Q $$\n",
    "\n",
    "Where:  \n",
    "$K$ - kinetic energy  \n",
    "$U$ - internal energy  \n",
    "$W$ - power input  \n",
    "$Q$ - heat input  \n",
    "\n",
    "Let's start with the form that describes preservation of thermal energy, in 2-D"
   ]
  },
  {
   "cell_type": "markdown",
   "id": "8551d0a9-307f-412c-a920-24f9455afb45",
   "metadata": {},
   "source": [
    "### Fourier's Law for conduction\n",
    "\n",
    "$$q = -k \\frac{dT}{dx}$$\n",
    "\n",
    "- Heat flux, q, = heat/area =\n",
    "energy/time/area,\n",
    "unit: $J/s/m^2$ = $W/m^2$\n",
    "- Heat flux proportional to\n",
    "temperature gradient\n",
    "- Minus sign because heat\n",
    "flows from hot to cold\n",
    "- Constant of proportionality:\n",
    "thermal conductivity, $k$,\n",
    "unit: $W/m/K$\n",
    "\n",
    "```{figure} Images/Lecture4.1/conduction.png\n",
    ":width: 50%\n",
    "```"
   ]
  },
  {
   "cell_type": "markdown",
   "id": "30eb4db8-1272-4e0c-82c9-aa23cd2f14fa",
   "metadata": {},
   "source": [
    "### 1-D Steady State Conduction\n",
    "\n",
    "- net heat flow per unit area per unit time:\n",
    "\n",
    "$$q (x + \\delta x) - q(x)$$\n",
    "\n",
    "$$q (x + \\delta x) = q(x) + \\delta x \\frac{dq}{dx} + ...$$\n",
    "\n",
    "$$q(x + \\delta x) - q(x) \\approx \\delta x \\frac{dq}{dx}$$\n",
    "\n",
    "$$\\partial x \\frac{dq}{dx} = \\delta x \\left[ \\frac{d}{dx}\\left(-k \\frac{dT}{dx}\\right) \\right]$$\n",
    "\n",
    "$$\\delta x \\frac{dq}{dx} = \\delta x \\left[-k \\frac{d^2T}{dx^2} \\right]$$\n",
    "\n",
    "```{figure} Images/Lecture4.1/1d_steady_conduction.png\n",
    ":width: 50%\n",
    "```\n",
    "\n",
    "- heat produced = $\\rho H \\delta x = A \\delta x$  \n",
    "$H$ - heat production rate per unit mass ($W/kg$)  \n",
    "$A$ - heat production per unit volume ($W/m^3$)\n",
    "\n",
    "$$ -k \\frac{d^2T}{dx^2} = \\rho H = A$$"
   ]
  },
  {
   "cell_type": "markdown",
   "id": "90f0dde6-891f-4b64-9944-7e371c870b54",
   "metadata": {},
   "source": [
    "### 2-D Energy Equation\n",
    "\n",
    "*Spatial, constant r, CP, k, incompressible, no heat sources*\n",
    "\n",
    "```{figure} Images/Lecture4.1/control_vol.png\n",
    ":width: 75%\n",
    "```\n",
    "\n",
    "- Change in heat content: \n",
    "\n",
    "$$\\frac{\\partial(\\rho C_p T)}{\\partial t}\\delta x \\delta y$$\n",
    "\n",
    "- Advection:\n",
    "\n",
    "$$ \\left[ \\frac{\\partial(\\rho C_p u T)}{\\partial x} + \\frac{\\partial(\\rho C_p u T)}{\\partial y} \\right] \\delta x \\delta y$$\n",
    "\n",
    "*simplifies by conservation of mass*\n",
    "\n",
    "$$ \\rho C_P \\left[ u \\frac{\\partial T}{\\partial x} + v \\frac{\\partial T}{\\partial y} \\right] \\delta x \\delta y$$\n",
    "\n",
    "- Conduction:\n",
    "\n",
    "$$ -k \\left( \\frac{\\partial^2 T}{\\partial x^2} + \\frac{\\partial^2 T}{\\partial y^2}\\right) \\delta x \\delta y $$\n",
    "\n",
    "**Bringing it all together**\n",
    "\n",
    "$$ \\rho C_P \\left[\\frac{\\partial T}{\\partial t} + u \\frac{\\partial T}{\\partial x} + v \\frac{\\partial T}{\\partial y} \\right] = k \\left( \\frac{\\partial^2 T}{\\partial x^2} + \\frac{\\partial^2 T}{\\partial y^2}\\right)$$\n",
    "\n",
    "$$ \\rho C_P \\left[\\frac{\\partial T}{\\partial t} + \\mathbf{u} \\cdot \\nabla T \\right] = k \\nabla^2 T$$"
   ]
  },
  {
   "cell_type": "markdown",
   "id": "321553be-b79d-4912-82b8-0ea6fcd4ecbc",
   "metadata": {},
   "source": [
    "### Energy Equation\n",
    "\n",
    "- Material derivative internal heat\n",
    "\n",
    "$$ \\rho C_P \\left[\\frac{\\partial T}{\\partial t} + \\mathbf{u} \\cdot \\nabla T \\right] = \\rho C_P \\frac{DT}{Dt} \\Rightarrow \\frac{D(\\rho C_P T)}{Dt} $$  \n",
    "\n",
    "Allowing for spatial variations of material parameters\n",
    "\n",
    "- Heat input\n",
    "\n",
    "$$ k \\nabla^2 T \\Rightarrow \\nabla \\cdot k \\nabla T + A $$\n",
    "\n",
    "$\\nabla \\cdot k \\nabla T$ - Conduction,  \n",
    "$A$ - Internal heat production\n",
    "\n",
    "- Work done\n",
    "\n",
    "Change in *motion* (kinetic energy) and *internal deformation*\n",
    "\n",
    "Net effect of $W - \\frac{DK}{Dt}$ becomes $\\mathbf{\\sigma : D}$, where $\\mathbf{D}$ is strain rate\n",
    "\n"
   ]
  },
  {
   "cell_type": "markdown",
   "id": "d77aa24a-2727-452b-b0b7-1953f74a5c65",
   "metadata": {},
   "source": [
    "### Conservation of heat\n",
    "\n",
    "$$ D (\\rho C_P T)/Dt = \\nabla \\cdot k \\nabla T + A + \\mathbf{\\sigma:D} + (\\alpha T\\mathbf{v} \\cdot \\nabla P + ....)$$\n",
    "\n",
    "$D (\\rho C_P T)/Dt$ - Change in temperature with time  \n",
    "$\\nabla \\cdot k \\nabla T$ - Heat transfer by conduction (and radiation)  \n",
    "$A$ - heat production (including latent heat)  \n",
    "$\\mathbf{\\sigma:D}$ - heat generated by internal deformation  \n",
    "$\\alpha T\\mathbf{v} \\cdot \\nabla P$ - heat generated by adiabatic compression  \n",
    "$....$ - Other heat sources, e.g. letent heat  \n"
   ]
  },
  {
   "cell_type": "markdown",
   "id": "b2141ed3-cf00-4773-8fe9-174c7f76c5b3",
   "metadata": {},
   "source": [
    "## Conservation Equations"
   ]
  },
  {
   "cell_type": "markdown",
   "id": "fb89be98-7a29-47f1-b81c-0497f408a6d2",
   "metadata": {},
   "source": [
    "- Conservation of mass  \n",
    "Kinematics \n",
    "\n",
    "$$\\frac{D\\rho}{Dt} + \\rho \\nabla \\cdot \\mathbf{v} = 0$$\n",
    "\n",
    "- Conservation of momentum  \n",
    "Dynamics  \n",
    "Newton's second law  \n",
    "Angular momentum  \n",
    "\n",
    "$$ \\rho \\frac{D\\mathbf{v}}{Dt} = \\nabla \\cdot \\underline{\\underline{\\sigma}} + \\mathbf{f} $$\n",
    "\n",
    "$$ \\mathbf{ \\sigma = \\sigma^T} $$\n",
    "\n",
    "- Conservation of energy\n",
    "First law of thermodynamics\n",
    "\n",
    "$$ \\frac{D \\rho C_P T)}{Dt} = \\nabla \\cdot k \\nabla T + A + \\mathbf{\\sigma : D} $$\n",
    "\n",
    "- Entropy inequality\n",
    "Which law is this?\n",
    "*Rate of entropy increase of a particle $\\geq$ entropy supply*"
   ]
  },
  {
   "cell_type": "markdown",
   "id": "f0739c62-f9a6-4607-ad3b-03a375eddcae",
   "metadata": {},
   "source": [
    "### 1-D advection-diffusion solution\n",
    "\n",
    "$$ -v_z \\frac{\\partial T}{\\partial z} = \\kappa \\frac{\\partial^2 T}{\\partial z^2}$$\n",
    "\n",
    "$$ \\kappa = \\frac{k}{\\rho C_P} $$\n",
    "\n",
    "Take $f(z) = \\frac{\\partial T}{\\partial z}$ and $c = \\frac{v_z}{\\kappa}$\n",
    "\n",
    "Then $\\frac{\\partial f}{\\partial z} = -cf(z)$, which yeilds $f(z) = f(0) e^{-cz}$\n",
    "\n",
    "i.e. $\\large \\frac{\\partial T}{\\partial z}(z) = A e^{-v_z z/ \\kappa}$, $\\large T(z) = B - \\frac{A}{v_z / \\kappa} e^{-v_z z/ \\kappa}$ where $A, B$ are integration constants\n",
    "\n",
    "```{figure} Images/Lecture4.1/advection.png\n",
    ":width: 50%\n",
    "```\n",
    "\n",
    "For constant temperature boundary conditions $T(z=0) = 0$ and $T(z=L) = T_L$\n",
    "$\\Rightarrow$  \n",
    "Integration gives: $\\large T(z) = T_L \\left[ \\frac{1 - e^{-v_z z/ \\kappa}}{1 - e^{-v_z L/ \\kappa}}\\right]$\n",
    "\n",
    "*What shape if diffusion dominates, if advection increases?*\n",
    "\n",
    "```{figure} Images/Lecture4.1/temp_graph.png\n",
    ":width: 50%\n",
    "```\n",
    "\n",
    "Peclet number, measure of relative importance advection/diffusion: $\\large Pe = \\frac{v_z L}{\\kappa} = \\frac{[(m/s)m]}{[m^2 / s]}$\n",
    "\n",
    "```{figure} Images/Lecture4.1/colour_graph.png\n",
    ":width: 50%\n",
    "```"
   ]
  },
  {
   "cell_type": "markdown",
   "id": "08e346b8-cc89-4448-9828-ce4f06dec6fd",
   "metadata": {},
   "source": [
    "### Take a break \n",
    "- Use Exercise 3 in chapter4.ipynb to\n",
    "look at the shape of the solutions\n",
    "- Exercise 4 for afternoon workshop"
   ]
  }
 ],
 "metadata": {
  "kernelspec": {
   "display_name": "Python 3 (ipykernel)",
   "language": "python",
   "name": "python3"
  },
  "language_info": {
   "codemirror_mode": {
    "name": "ipython",
    "version": 3
   },
   "file_extension": ".py",
   "mimetype": "text/x-python",
   "name": "python",
   "nbconvert_exporter": "python",
   "pygments_lexer": "ipython3",
   "version": "3.11.3"
  }
 },
 "nbformat": 4,
 "nbformat_minor": 5
}
