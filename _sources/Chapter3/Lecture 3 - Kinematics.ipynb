{
 "cells": [
  {
   "cell_type": "markdown",
   "metadata": {},
   "source": [
    "# 3.1 Kinematics   <a class=\"tocSkip\">\n",
    "\n",
    "Lecture 3\n",
    "\n",
    "Saskia Goes, s.goes@imperial.ac.uk"
   ]
  },
  {
   "cell_type": "markdown",
   "metadata": {},
   "source": [
    "## Learning Objectives \n",
    "\n",
    "1. Be able to use material and spatial descriptions of variables and their time derivatives. \n",
    "2. Be able to compute infinitesimal strain (strain rate) tensor given a displacement (velocity) field. \n",
    "3. Know meaning of the different components of infinitesimal strain (rate) tensor. \n",
    "4. Be able to find principal strain (rates) and strain (rate) invariants and know what they represent. \n",
    "5. Understand difference between infinitesimal and finite strain."
   ]
  },
  {
   "cell_type": "code",
   "execution_count": 6,
   "metadata": {
    "code_folding": [
     0
    ]
   },
   "outputs": [
    {
     "data": {
      "text/html": [
       "<style>\n",
       "div.exercise {\n",
       "    display: block;\n",
       "    background-color: #ffd7e2;\n",
       "    border-color: #ffd7e2;\n",
       "    border-left: 5px solid #ffd7e2;\n",
       "    padding: 0.5em;\n",
       "}\n",
       "div.optional {\n",
       "    display: block;\n",
       "    background-color: #d7e2ff;\n",
       "    border-color: #d7e2ff;\n",
       "    border-left: 5px solid #d7e2ff;\n",
       "    padding: 0.5em;\n",
       "}\n",
       "div.advanced {\n",
       "    display: block;\n",
       "    background-color: #fff4d7;\n",
       "    border-color: #fff4d7;\n",
       "    border-left: 5px solid #fff4d7;\n",
       "    padding: 0.5em;\n",
       "}\n",
       "</style>\n"
      ],
      "text/plain": [
       "<IPython.core.display.HTML object>"
      ]
     },
     "metadata": {},
     "output_type": "display_data"
    }
   ],
   "source": [
    "%%html\n",
    "<style>\n",
    "div.exercise {\n",
    "    display: block;\n",
    "    background-color: #ffd7e2;\n",
    "    border-color: #ffd7e2;\n",
    "    border-left: 5px solid #ffd7e2;\n",
    "    padding: 0.5em;\n",
    "}\n",
    "div.optional {\n",
    "    display: block;\n",
    "    background-color: #d7e2ff;\n",
    "    border-color: #d7e2ff;\n",
    "    border-left: 5px solid #d7e2ff;\n",
    "    padding: 0.5em;\n",
    "}\n",
    "div.advanced {\n",
    "    display: block;\n",
    "    background-color: #fff4d7;\n",
    "    border-color: #fff4d7;\n",
    "    border-left: 5px solid #fff4d7;\n",
    "    padding: 0.5em;\n",
    "}\n",
    "</style>"
   ]
  },
  {
   "cell_type": "markdown",
   "metadata": {},
   "source": [
    "Do not alter this cell. LaTeX commands for frequently used terms.\n",
    "\n",
    "$$\\newcommand{\\tensor}[1]{\\underline{\\underline{\\mathbf{#1}}}}$$\n",
    "$$\\newcommand{\\vector}[1]{\\mathbf{#1}}$$\n",
    "$$\\newcommand{\\ex}{\\vector{\\hat{e}}_1}$$\n",
    "$$\\newcommand{\\ey}{\\vector{\\hat{e}}_2}$$\n",
    "$$\\newcommand{\\ez}{\\vector{\\hat{e}}_3}$$\n",
    "$$\\newcommand{\\x}{\\vector{x}}$$\n",
    "$$\\newcommand{\\v}{\\vector{v}}$$\n",
    "$$\\newcommand{\\u}{\\vector{u}}$$"
   ]
  },
  {
   "cell_type": "code",
   "execution_count": 7,
   "metadata": {},
   "outputs": [],
   "source": [
    "# Import packages for notebook here\n",
    "import numpy\n",
    "import matplotlib.pyplot as plt\n",
    "\n",
    "\n",
    "%matplotlib inline"
   ]
  },
  {
   "cell_type": "markdown",
   "metadata": {},
   "source": [
    "```{contents}\n",
    "```"
   ]
  },
  {
   "attachments": {},
   "cell_type": "markdown",
   "metadata": {},
   "source": [
    "There are two main ways to describe motion: __Material__ (Lagrangian) and __Spatial__ (Eulerian).  \n",
    "<br> \n",
    "In the __material__ description, the behavior of individual particles is observed as they move and interact within a fluid or solid mateiral. Each particle is identified by its unique properties such as position, velocity, acceleration and the way these particles interact with each other is understood by monitoring these properties over time. This is often the preferred description for solids.\n",
    "\n",
    "```{figure} /Chapter3/Images/Lecture3/Fig1.PNG\n",
    ":width: 75%\n",
    "```    \n",
    "\n",
    "\"Particle\" at point $\\xi$ at a reference time $t_0$, moves to point $\\mathbf{x}'$ at a later time _t_. Field _P_ described as a function of $\\xi$ and _t_. "
   ]
  },
  {
   "attachments": {},
   "cell_type": "markdown",
   "metadata": {},
   "source": [
    "In the __spatial__ description, the behaviour of the body is observed at fixed points in space over time, rather than tracking the individual particles or elements in the fluid. Imagine placing an imaginary grid or network of points throughout the fluid and analyse how the fluid properties, such as velocity, pressure, and density, vary at each point in the grid as time progresses. This is often the preferred description for fluids. \n",
    "\n",
    "```{figure} /Chapter3/Images/Lecture3/Fig2.PNG\n",
    ":width: 75%\n",
    "```     \n",
    "\n",
    "_In the example flow, velocity at point $\\mathbf{x}$, does not change with time, but velocity that a particle originally in the same position $\\xi$ experiences with time does change._ "
   ]
  },
  {
   "cell_type": "markdown",
   "metadata": {},
   "source": [
    "## Material Time Derivative\n",
    "\n",
    "The time derivative is the rate of change (with time) of a quantity for a material particle. \n",
    "\n",
    "In the <u> material description </u>, the time derivative of P is: $\\hspace{0.1cm} \\large{\\frac{DP}{Dt}} = \\Bigl(\\frac{\\partial P}{\\partial t}\\Bigr)_\\xi \\hspace{2cm}$ _Note here P($\\xi, t$)_\n",
    "\n",
    "In the <u> spatial description </u>, the time derivative of P is: $\\hspace{0.1cm} \\large{\\frac{DP}{Dt}} = \\Bigl(\\frac{\\partial P}{\\partial t}\\Bigr)_\\xi = \\Bigl(\\frac{\\partial P}{\\partial t}\\Bigr)_x + \\frac{\\partial P}{\\partial t_i} \\Bigl(\\frac{\\partial x'_i}{\\partial t}\\Bigr)_\\xi \\hspace{1cm}$ _Note here P($\\mathbf{x}, t$)_\n",
    "\n",
    "where $\\large{\\Bigl(\\frac{\\partial \\mathbf{x}'}{\\partial t}\\Bigr)_\\xi}= \\frac{D\\mathbf{x}}{Dt}$ where the velocity of the particle is denoted by $\\xi$. <br>\n",
    "$\\hspace{1cm} \\mathit{Material} \\hspace{0.7cm} \\mathit{Spatial} $\n",
    "\n",
    "$$\n",
    "\\frac{DP}{Dt} = \\frac{\\partial P}{\\partial t} + \\mathbf{v} \\cdot \\nabla P\n",
    "$$\n",
    "\n",
    "_This definition works in any coordinate frame_."
   ]
  },
  {
   "attachments": {},
   "cell_type": "markdown",
   "metadata": {},
   "source": [
    "### Example: Acceleration\n",
    "\n",
    "In the spatial description: $ \\large{\\mathbf{a}} = \\frac{D\\mathbf{v}}{Dt} = \\frac{\\partial v}{\\partial t} + \\mathbf{v} \\cdot \\nabla \\mathbf{v}$\n",
    "\n",
    "Let's determine the acceleration of a particle in a spatial velocity field:\n",
    "\n",
    "$$\n",
    "v_i = \\frac{kx_i}{(1 + kt)}\n",
    "$$\n",
    "\n",
    "For $a_1$:\n",
    "\n",
    "$$\n",
    "\\frac{\\partial v_1}{\\partial t} = -\\frac{kx_1 (k)}{(1 + kt)^2} = -\\frac{k^2 x_1}{(1 + kt)^2}\n",
    "$$\n",
    "\n",
    "$$\n",
    "v_1 \\frac{\\partial v_1}{\\partial x_1} = \\frac{kx_1}{(1 + kt)} \\frac{k}{(1 + kt)} = \\frac{k^2 x_1}{(1 + kt)^2} \n",
    "$$\n",
    "\n",
    "$$\n",
    "v_2 \\frac{\\partial v_1}{\\partial x_2} = 0\n",
    "$$\n",
    "\n",
    "Hence: \n",
    "\n",
    "$$\n",
    "a_1 = \\frac{Dv_1}{Dt} = \\frac{\\partial v_1}{\\partial t} + v_1 \\frac{\\partial v_1}{\\partial x_1} = -\\frac{k^2 x_1}{(1 + kt)^2} + \\frac{k^2 x_1}{(1 + kt^2)} = 0\n",
    "$$\n",
    "\n",
    "$$\n",
    "\\text{Velocity Field at} \\hspace{0.1cm} t = 0 \\hspace{0.1cm} (k = 1) \n",
    "$$\n",
    "\n",
    "```{figure} /Chapter3/Images/Lecture3/Fig3.png\n",
    ":width: 75%\n",
    "```    \n",
    "\n",
    "<p style = \"text-align:center\" >\n",
    "   Contours for magnitude, arrow direction and size\n",
    "</p>\n",
    "   <br>\n",
    "\n",
    "$$\n",
    "\\text{Spatial velocity field}: \\hspace{0.2cm} \\large{v_i} = \\frac{kx_i}{1 + kt} \\hspace{2cm} \\text{Acceleration}:  \\hspace{0.2cm} \\large{a_i} = \\frac{Dv_i}{Dt} = \\frac{\\partial v_i}{\\partial t} + v_j \\frac{\\partial v_i}{\\partial x_j} = 0\n",
    "$$\n",
    "\n",
    "\n"
   ]
  },
  {
   "attachments": {},
   "cell_type": "markdown",
   "metadata": {},
   "source": [
    "$$\n",
    "\\text{Velocity Field at} t = 2 \\hspace{0.1cm} (k = 1)$\n",
    "$$\n",
    "\n",
    "```{figure} /Chapter3/Images/Lecture3/Fig4.PNG\n",
    ":width: 75%\n",
    "```    \n",
    "\n",
    "<p style = \"text-align:center\" >\n",
    "    marker positions at constant time intervals between [0:2]\n",
    "</p>"
   ]
  },
  {
   "cell_type": "markdown",
   "metadata": {},
   "source": [
    "<div class=\"optional\">\n",
    "\n",
    "$$\n",
    "\\text{Force balance}: \\mathbf{F} = m \\mathbf{a} \\hspace{0.1cm} \\text{or per unit volume }\\mathbf{f} = \\rho \\mathbf{a} \\hspace{0.1cm} \\text{becomes}:\n",
    "$$\n",
    "        \n",
    "$$\n",
    "    \\large{\\mathbf{f}} = \\rho \\frac{D \\mathbf{v}}{Dt} = \\rho \\Biggl(\\frac{\\partial \\mathbf{v}}{\\partial t} + \\mathbf{v} \\cdot \\nabla \\mathbf{v}\\Biggr)\n",
    "$$\n",
    "</p>    "
   ]
  },
  {
   "attachments": {},
   "cell_type": "markdown",
   "metadata": {},
   "source": [
    "## Displacement \n",
    "\n",
    "Motion of a continuum can be described by: path lines $\\mathbf{x}' = \\mathbf{x}'(\\xi, t)$ or by displacement fields $\\mathbf{u}(\\xi, t) = \\mathbf{x}'(\\xi, t) - \\xi$ .\n",
    "\n",
    "```{figure} /Chapter3/Images/Lecture3/Fig5.PNG\n",
    ":width: 75%\n",
    "```     \n",
    "\n",
    "### Pathlines \n",
    "\n",
    "Let's determine the pathline for the $x'_1$ component of the particle's position for the spatial velocity field of the earlier acceleration example. \n",
    "\n",
    "$$\n",
    "v_i = \\frac{kx_i}{1 + kt}\n",
    "$$\n",
    "\n",
    "We can see that: \n",
    "\n",
    "$$\n",
    "v_i = \\frac{\\partial x'_i}{\\partial t} = \\frac{kx_i}{1 + kt} \n",
    "$$\n",
    "\n",
    "$$\n",
    "\\int_{\\xi_i}^{x'_i} \\frac{1}{kx_i} dx_i = \\int_{0}^{1} \\frac{1}{1 + kt} dt  \n",
    "$$\n",
    "\n",
    "$$\n",
    "\\frac{1}{k} [\\ln x'_i - \\ln \\xi_i] = \\frac{1}{k}[\\ln(1 + kt) - \\ln(1)]\n",
    "$$\n",
    "\n",
    "$$\n",
    "x'_i(\\xi, t) = (1 + kt)\\xi_i \n",
    "$$\n",
    "\n",
    "From this we can see that: \n",
    "\n",
    "$$\n",
    "\\text{Material displacement field}: \\hspace{0.2cm} u'_i = kt\\xi_i \\hspace{1.5cm} \\text{Material velocity field}:  \\hspace{0.2cm} v'_i = v_i = k\\xi_i\n",
    "$$\n"
   ]
  },
  {
   "cell_type": "markdown",
   "metadata": {},
   "source": [
    "Displacement of a body can result in __rigid body motion__ or __deformation of the body__.\n",
    "\n",
    "## Rigid Body Motion\n",
    "\n",
    "The motion through which a body shifts from one point to another is known as a <u> translation</u> . When a rigid body moves in a translational motion, the line segment between any two particles of the body remains parallel.\n",
    "\n",
    "$$\n",
    "\\mathbf{x}' = \\xi + \\mathbf{c}(t), \\text{with} \\mathbf{c}(0) = 0\n",
    "$$\n",
    "\n",
    "$$\n",
    "\\Rightarrow \\mathbf{u}' = \\mathbf{x}(t) - \\xi, \\hspace{0.1cm} \\text{each point is the same} \\hspace{0.2cm} \\mathbf{u}(t) = \\mathbf{c}(t)\n",
    "$$\n",
    "\n",
    "<u> Rotation</u> is a rigid body motion when a solid body moves in a circular path around a fixed point or fixed axis. It is represented mathematically by: \n",
    "\n",
    "$$\n",
    "\\mathbf{x' - b} = \\mathbf{R}(t)(\\xi - \\mathbf{b})\n",
    "$$\n",
    "\n",
    "Where $\\mathbf{R}(t)$ is the rotation tensor, with $\\mathbf{R(0) = I}$, $\\mathbf{b}$ is the point of rotation. $\\mathbf{R}(t)$ is an orthogonal transformation, meaning it preserves the lengths and angles of the body. ($\\mathbf{R^T R = I}, \\text{det}(\\mathbf{R}) = 1)$.\n",
    "\n",
    "<br>\n",
    "If $\\mathbf{u}$ depends on both $\\mathbf{x}$ and $\\mathbf{t}$, then the body has undergone internal deformation. "
   ]
  },
  {
   "attachments": {},
   "cell_type": "markdown",
   "metadata": {},
   "source": [
    "### Example: Displacement\n",
    "\n",
    "Let's look at the velocity field from earlier. $\\large{v_i} = \\frac{kx_i}{1 + kt}$\n",
    "\n",
    "$$\n",
    "t = 0 \\hspace{7.5cm} t = 2\n",
    "$$\n",
    "\n",
    "```{figure} /Chapter3/Images/Lecture3/Fig6.png\n",
    ":width: 75%\n",
    "```    \n",
    "\n",
    "We can see that the body undergoes translation and deformation. \n",
    "    "
   ]
  },
  {
   "attachments": {},
   "cell_type": "markdown",
   "metadata": {},
   "source": [
    "## Deformation Tensor \n",
    "\n",
    "For small __dr__ \n",
    "\n",
    "```{figure} /Chapter3/Images/Lecture3/Fig7.png\n",
    ":width: 75%\n",
    "```    \n",
    "\n",
    "$$\n",
    "P_1 \\hspace{0.2cm} \\text{at} \\hspace{0.2cm} \\mathbf{r} \\Rightarrow P'_1 \\hspace{0.2cm} \\text{at} \\hspace{0.2cm} \\mathbf{r + u(r)}\n",
    "$$\n",
    "\n",
    "$$\n",
    "P_2 \\hspace{0.2cm} \\text{at} \\hspace{0.2cm} \\mathbf{r + dr} \\Rightarrow  P'_2 \\hspace{0.2cm} \\text{at} \\hspace{0.2cm} \\mathbf{r + dr + u(r + dr)}\n",
    "$$\n",
    "\n",
    "$$\n",
    "\\mathbf{dr}' = P_2 - P_1 = \\mathbf{dr + [u(r + dr) - u(r)] = dr + du(r) = dr + dr \\cdot \\nabla u(r)}  \n",
    "$$\n",
    "\n",
    "$$\n",
    "\\text{Deformation of} \\hspace{0.1cm} P_2 \\hspace{0.1cm} - \\hspace{0.1cm} P_1 \\hspace{0.1cm} \\text{described by} \\hspace{0.1cm} du_i = dx_j \\frac{\\partial u_i}{\\partial x_j} \n",
    "$$\n",
    "\n",
    "$$\n",
    "\\mathbf{du = dr \\cdot \\nabla u = \\nabla^T u \\cdot dr}\n",
    "$$"
   ]
  },
  {
   "cell_type": "markdown",
   "metadata": {},
   "source": [
    "$$\n",
    "\\large{du_i} = dx_j \\frac{\\partial u_j}{\\partial x_j}\\hspace{0.2cm} :  \\hspace{1cm} \n",
    "\\begin{pmatrix}\n",
    "du_1 \\\\\n",
    "du_2 \\\\\n",
    "du_3 \\\\\n",
    "\\end{pmatrix} = \n",
    "\\begin{pmatrix}\n",
    "dx_1 & dx_2 & dx_3 \\\\\n",
    "\\end{pmatrix}\n",
    "\\begin{bmatrix}\n",
    "\\frac{\\partial u_1}{\\partial x_1} & \\frac{\\partial u_2}{\\partial x_1} & \\frac{\\partial u_3}{\\partial x_1} \\\\\n",
    "\\frac{\\partial u_1}{\\partial x_2} & \\frac{\\partial u_2}{\\partial x_2} & \\frac{\\partial u_3}{\\partial x_2} \\\\\n",
    "\\frac{\\partial u_1}{\\partial x_3} & \\frac{\\partial u_2}{\\partial x_3} & \\frac{\\partial u_3}{\\partial x_3} \\\\\n",
    "\\end{bmatrix}\n",
    "$$"
   ]
  },
  {
   "cell_type": "markdown",
   "metadata": {},
   "source": [
    "$$\n",
    "\\large{\\frac{\\partial u_i}{\\partial x_j}} = \\frac{1}{2} \\Biggl(\\frac{\\partial u_i}{\\partial x_j} + \\frac{\\partial u_j}{\\partial x_i}\\Biggr) + \\frac{1}{2} \\Biggl(\\frac{\\partial u_i}{\\partial x_j} + \\frac{\\partial u_j}{\\partial x_i}\\Biggr)\n",
    "$$\n",
    "\n",
    "$$\n",
    "\\large{\\nabla \\mathbf{u^T = \\color{red}{\\frac{1}{2} (\\nabla u + \\nabla u^T)} + \\color{purple}{\\frac{1}{2} (\\nabla u - \\nabla u^T)}}}   \n",
    "$$\n",
    "\n",
    "$$\n",
    "\\large{\\hspace{1cm} \\color{red}{\\varepsilon_{ij}} \\hspace{4cm} \\color{purple}{\\omega_{ij}}}\n",
    "$$\n",
    "    "
   ]
  },
  {
   "cell_type": "markdown",
   "metadata": {},
   "source": [
    "Total deformation is: \n",
    "1. Rigid body transformation - $\\mathbf{u(r)}$\n",
    "2. Rigid body rotation - $\\mathbf{\\color{purple}{\\omega} \\hspace{0.1cm} dr}$\n",
    "3. Internal deformation, strain - $\\mathbf{\\color{red}{\\varepsilon} \\hspace{0.1cm} dr}$ - Result of stresses "
   ]
  },
  {
   "cell_type": "markdown",
   "metadata": {},
   "source": [
    "## Infinitesimal Strain and Rotation Tensors\n",
    "\n",
    "$$\n",
    "\\large{\\color{red}{\\varepsilon}} = \n",
    "\\begin{bmatrix}\n",
    "\\frac{\\partial u_1}{\\partial x_1} & \\frac{1}{2} \\Biggl(\\frac{\\partial u_2}{\\partial x_1} + \\frac{\\partial u_1}{\\partial x_2}\\Biggr) & \\frac{1}{2} \\Biggl(\\frac{\\partial u_3}{\\partial x_1} + \\frac{\\partial u_1}{\\partial x_3}\\Biggr) \\\\\n",
    "\\frac{1}{2} \\Biggl(\\frac{\\partial u_1}{\\partial x_2} + \\frac{\\partial u_2}{\\partial x_1}\\Biggr) & \\frac{\\partial u_2}{\\partial x_2} & \\frac{1}{2} \\Biggl(\\frac{\\partial u_3}{\\partial x_2} + \\frac{\\partial u_2}{\\partial x_3}\\Biggr) \\\\\n",
    "\\frac{1}{2} \\Biggl(\\frac{\\partial u_1}{\\partial x_3} + \\frac{\\partial u_3}{\\partial x_2}\\Biggr) & \\frac{1}{2} \\Biggl(\\frac{\\partial u_2}{\\partial x_3} + \\frac{\\partial u_3}{\\partial x_2}\\Biggr) & \\frac{\\partial u_3}{\\partial x_3} \\\\\n",
    "\\end{bmatrix}\n",
    "$$\n",
    "\n",
    "$$\n",
    "\\large{\\color{purple}{\\omega}} = \n",
    "\\begin{bmatrix}\n",
    "0 & \\frac{1}{2} \\Biggl(\\frac{\\partial u_2}{\\partial x_1} - \\frac{\\partial u_1}{\\partial x_2}\\Biggr) & \\frac{1}{2} \\Biggl(\\frac{\\partial u_3}{\\partial x_1} - \\frac{\\partial u_1}{\\partial x_3}\\Biggr) \\\\\n",
    "\\frac{1}{2} \\Biggl(\\frac{\\partial u_1}{\\partial x_2} - \\frac{\\partial u_2}{\\partial x_1}\\Biggr) & 0 & \\frac{1}{2} \\Biggl(\\frac{\\partial u_3}{\\partial x_2} - \\frac{\\partial u_3}{\\partial x_2}\\Biggr) \\\\\n",
    "\\frac{1}{2} \\Biggl(\\frac{\\partial u_1}{\\partial x_3} - \\frac{\\partial u_3}{\\partial x_1}\\Biggr) & \\frac{1}{2} \\Biggl(\\frac{\\partial u_2}{\\partial x_3} - \\frac{\\partial u_3}{\\partial x_2}\\Biggr) & 0 \\\\\n",
    "\\end{bmatrix} \n",
    "$$"
   ]
  },
  {
   "attachments": {},
   "cell_type": "markdown",
   "metadata": {},
   "source": [
    "### <u> Diagonal</u> Infinitesimal Strain Tensor Elements \n",
    "\n",
    "For a line segment $\\mathbf{dr} =  (dx_1, 0, 0)$ deforming in a displacement field $ \\mathbf{u} = (u_1, 0, 0) $\n",
    "\n",
    "```{figure} /Chapter3/Images/Lecture3/Fig8.png\n",
    ":width: 75%\n",
    "```     \n",
    "\n",
    "The new length: $ dx'_1 \\approx dx_1 + (\\partial u_1 / \\partial x_1 )dx_1 = dx_1 + \\varepsilon_{11} dx_1$\n",
    "\n",
    "$$ \n",
    "\\Rightarrow \\large{\\varepsilon_{11}} = [dx'_1 - dx_1]/dx_1 \n",
    "$$\n",
    "\n",
    "$$\n",
    "\\text{the relative change in length of a line, element, originally in the} \\hspace{0.1cm} x_1 \\hspace{0.1cm} \\text{direction}\n",
    "$$\n",
    "\n",
    "We can similarly find the strain elem\n",
    "The relative change in volume $(V' - V)/V$ of a cube $V =dx_1 dx_2 dx_3 \\approx \\varepsilon_{11} +  \\varepsilon_{22} + \\varepsilon_{33} = \\varepsilon_{ii} = \\text{tr}(\\varepsilon) = \\nabla \\cdot \\mathbf{u} $  "
   ]
  },
  {
   "attachments": {},
   "cell_type": "markdown",
   "metadata": {},
   "source": [
    "### <u> Off-Diagonal</u> Infinitesimal Strain Tensor Elements \n",
    "\n",
    "```{figure} /Chapter3/Images/Lecture3/Fig9.png\n",
    ":width: 75%\n",
    "```       \n",
    "\n",
    "$$\n",
    "\\varepsilon_{12} = \\varepsilon_{21} = \\frac{(\\alpha_1 + \\alpha_2)}{2} \\hspace{0.5cm}\n",
    "\\large{\\begin{cases}\n",
    "\\alpha_1 \\approx \\sin \\alpha_1 = \\frac{(\\partial u_2/\\partial x_1) dx_1}{dx_1} = \\frac{\\partial u_2}{\\partial x_1}  \\\\\n",
    "\\alpha_2 \\approx \\frac{(\\partial u_1/ \\partial x_2) dx_2}{dx_2} = \\frac{\\partial u_1}{\\partial x_2} \\\\\n",
    "\\end{cases}}\n",
    "$$\n",
    "\n",
    "$2 \\varepsilon_{12}$ is the change in angle between $dx_1$ and $dx_2$, orginally 90 degrees . "
   ]
  },
  {
   "attachments": {},
   "cell_type": "markdown",
   "metadata": {},
   "source": [
    "### Infinitesimal Rotation Tensor Elements \n",
    "\n",
    "```{figure} /Chapter3/Images/Lecture3/Fig10.png\n",
    ":width: 75%\n",
    "```      \n",
    "\n",
    "$$\n",
    "\\large{\\omega_{12}} = - \\hspace{0.1cm} \\omega_{21} = \\Biggl[\\frac{(\\partial u_2/\\partial x_1) - (\\partial u_1/\\partial x_2)}{2}\\Biggr] = \\frac{(\\alpha_1 - \\alpha_2)}{2} \n",
    "$$\n",
    "\n",
    "$\\omega_{12}$ is the common rigid rotation angle of vectors in the $dx_1 - dx_2$ plane (around $x_3$). "
   ]
  },
  {
   "cell_type": "markdown",
   "metadata": {},
   "source": [
    "<div class = \"advanced\" >    \n",
    "    \n",
    "### Extra: Rotation tensor and Rotation vector  \n",
    "    \n",
    "For an antisymmetric tensor __W__, a corresponding ___dual___ or ___axial vector___ __w__ can be found such that: \n",
    "    \n",
    "$$\n",
    "\\mathbf{W \\cdot a = w \\times a}\n",
    "$$\n",
    "\n",
    "<p style = \"text-align:center\" >\n",
    "    Vector $\\mathbf{w}$ relates to the component of $\\mathbf{W}$ as: \n",
    "</p>\n",
    "\n",
    "$$\n",
    "\\mathbf{w} = - W_{23} \\mathbf{\\hat{e}_1} + W_{13} \\mathbf{\\hat{e}_2}  - W_{12} \\mathbf{\\hat{e}_3}\n",
    "$$\n",
    "    \n",
    "For the rotation tensor, an equivalent rotation vector exists: \n",
    "\n",
    "$$\n",
    "\\mathbf{\\omega \\cdot dx} = r_\\omega \\times \\mathbf{dx} \\hspace{1cm} \\text{where} \\hspace{1cm} r_\\omega = \\frac{1}{2} \\nabla \\times \\mathbf{u}\n",
    "$$\n",
    "    \n",
    "Note that $\\omega$ only describes the overall rigid body roation, not the total rotation of each individual segment __dx__, which is also influenced by $ \\varepsilon $. "
   ]
  },
  {
   "attachments": {},
   "cell_type": "markdown",
   "metadata": {},
   "source": [
    "### Example Displacement - Infinitesimal Strain\n",
    "\n",
    "\n",
    "```{figure} /Chapter3/Images/Lecture3/Fig11.png\n",
    ":width: 75%\n",
    "```    \n",
    "\n",
    "<p style = \"text-align:center\" >\n",
    "    Displacement: \n",
    "</p>    \n",
    "\n",
    "$$ \n",
    "u_x = 0.1 x^2 \n",
    "\\hspace{0.5cm}\n",
    "u_y = 0.4 xy\n",
    "$$    "
   ]
  },
  {
   "attachments": {},
   "cell_type": "markdown",
   "metadata": {},
   "source": [
    "```{figure} /Chapter3/Images/Lecture3/Fig12.png\n",
    ":width: 75%\n",
    "```    \n",
    "\n",
    "We can then find the strain elements by: \n",
    "\n",
    "$$\n",
    "\\varepsilon_{xx} = \\frac{\\partial u_x}{\\partial x}\n",
    "\\hspace{1.5cm}\n",
    "\\varepsilon_{yx} = \\varepsilon_{xy} = \\frac{1}{2} \\Bigl[\\frac{\\partial u_y}{\\partial x} + \\frac{\\partial u_x}{\\partial y}\\Bigr] \n",
    "\\hspace{1.5cm}\n",
    "\\varepsilon_{yy} = \\frac{\\partial u_y}{\\partial y}\n",
    "$$"
   ]
  },
  {
   "attachments": {},
   "cell_type": "markdown",
   "metadata": {},
   "source": [
    "```{figure} /Chapter3/Images/Lecture3/Fig14.png\n",
    ":width: 75%\n",
    "```    "
   ]
  },
  {
   "attachments": {},
   "cell_type": "markdown",
   "metadata": {},
   "source": [
    "The deformation after the finite strain can be shown graphically as: \n",
    "\n",
    "```{figure} /Chapter3/Images/Lecture3/Fig13.png\n",
    ":width: 75%\n",
    "```    "
   ]
  },
  {
   "cell_type": "markdown",
   "metadata": {},
   "source": [
    "Additionally, we can calculate the infinitesimal rotation elements: \n",
    "\n",
    "$$\n",
    "\\omega_{xx} = 0 \\hspace{1.5cm} \\omega_{yy} = 0 \\hspace{1.5cm} \\omega_{xy} = -\\hspace{0.1cm}\\omega_{yx} = \\frac{1}{2} \\Bigl[\\frac{\\partial u_y}{\\partial x} - \\frac{\\partial u_x}{\\partial y}\\Bigr]\n",
    "$$"
   ]
  },
  {
   "attachments": {},
   "cell_type": "markdown",
   "metadata": {},
   "source": [
    "We can similarly find the divergence and curl of the velocity field:\n",
    "\n",
    "```{figure} /Chapter3/Images/Lecture3/Fig15.png\n",
    ":width: 75%\n",
    "```       \n",
    "\n",
    "$$\n",
    "\\nabla \\cdot \\mathbf{u} =\n",
    "\\frac{\\partial u_x}{\\partial x} + \\frac{\\partial u_y}{\\partial y} \n",
    "\\hspace{2.2cm}\n",
    "\\nabla \\times \\mathbf{u} = \\Bigl(\\frac{\\partial u_x}{\\partial x} + \\frac{\\partial u_y}{\\partial y} \\Bigr)\n",
    "$$\n"
   ]
  },
  {
   "cell_type": "markdown",
   "metadata": {},
   "source": [
    "### Infinitesimal Strain Tensor Properties \n",
    "\n",
    "To transform the strain tensor to an arbritary coordinate frame: \n",
    "\n",
    "$$\n",
    "\\varepsilon_{nn} = \\varepsilon_{11} \\cos^2{\\phi} + \\varepsilon_{12} \\sin{\\phi}\\cos{\\phi}  + \\varepsilon_{21} \\sin{\\phi}\\cos{\\phi} + \\varepsilon_{12} \\sin^2{\\phi}  \n",
    "$$\n",
    "\n",
    "$$\n",
    "\\varepsilon_{ns} = \\varepsilon_{11} \\sin{\\phi}\\cos{\\phi} + \\varepsilon_{21} \\sin^2{\\phi}  - \\varepsilon_{12} \\cos^2{\\phi}  - \\varepsilon_{22} \\sin{\\phi} \\cos{\\phi} \n",
    "$$\n",
    "\n",
    "$ \\varepsilon_1, \\hspace{0.1cm} \\varepsilon_2, \\hspace{0.1cm} \\varepsilon_3 $ represent the _principal strains_. These are the maximum and minimum length changes of an elemental volume. \n",
    "\n",
    "$ \\text{tr}(\\varepsilon) = \\theta $ is the sum of the normal strains and is equal to the volume change. \n",
    "The deviatoric strain $ \\varepsilon'_{ij} = \\varepsilon - \\frac{\\theta}{3} \\delta_{ij} $. This stress leads to the change in shape of the object, and no change in volume. \n",
    "\n",
    "$\\text{tr}(\\varepsilon') = 0$, does not imply that $ \\varepsilon'_{ij}$ = 0 for $ i = j $.\n",
    "\n",
    "$\\varepsilon = 0$ for $i = j$ does not ensure no shape change. "
   ]
  },
  {
   "cell_type": "markdown",
   "metadata": {},
   "source": [
    "## Strain Elements \n",
    "\n",
    "$$\n",
    "\\varepsilon = \n",
    "\\begin{bmatrix}\n",
    "\\varepsilon_{11} & \\varepsilon_{12} & \\varepsilon_{13} \\\\\n",
    "\\varepsilon_{21} & \\varepsilon_{22} & \\varepsilon_{23} \\\\\n",
    "\\varepsilon_{31} & \\varepsilon_{32} & \\varepsilon_{33} \\\\\n",
    "\\end{bmatrix}\n",
    "$$\n",
    "\n",
    "$$\n",
    "\\mathbf{\\hat{e}_1 \\cdot \\varepsilon \\cdot \\hat{e}_1} = \\varepsilon_{11} \n",
    "$$\n",
    "\n",
    "$$\n",
    "\\mathbf{\\hat{e}_1 \\cdot \\varepsilon \\cdot \\hat{e}_2} = \\varepsilon_{12} \n",
    "$$\n",
    "\n",
    "$\\mathbf{ \\varepsilon \\cdot \\hat{p} = dp'}$ is the change in the unit vector $\\mathbf{\\hat{p}}$ after the deformation by $\\varepsilon$. \n",
    "\n",
    "$\\mathbf{\\hat{p}} \\cdot \\varepsilon \\cdot \\mathbf{\\hat{p}}$ is the elongation by $\\varepsilon$ of the unit vector $\\mathbf{\\hat{p}}$ in the direction $\\mathbf{\\hat{p}}$\n",
    "<br>\n",
    "\n",
    "Which is the same as $\\mathbf{\\hat{p} \\cdot dp' = |dp'| \\cos{\\alpha}}$."
   ]
  },
  {
   "cell_type": "markdown",
   "metadata": {},
   "source": [
    "## Strain Rate Tensor \n",
    "\n",
    "In a similar way as a strain tensor, a tensor that describes the rate of change of deformation can be defined from the __velocity gradient__.\n",
    "\n",
    "$$\n",
    "\\frac{D}{Dt}\\mathbf{dr} = \\nabla \\mathbf{v}\n",
    "$$\n",
    "\n",
    "$$\n",
    "\\large{\\nabla} \\mathbf{v} = \n",
    "\\begin{bmatrix}\n",
    "\\frac{\\partial v_1}{\\partial x_1} & \\frac{\\partial v_2}{\\partial x_1} & \\frac{\\partial v_3}{\\partial x_1} \\\\\n",
    "\\frac{\\partial v_1}{\\partial x_2} & \\frac{\\partial v_2}{\\partial x_2} & \\frac{\\partial v_3}{\\partial x_2} \\\\\n",
    "\\frac{\\partial v_1}{\\partial x_3} & \\frac{\\partial v_2}{\\partial x_3} & \\frac{\\partial v_3}{\\partial x_3}\n",
    "\\end{bmatrix}\n",
    "$$\n",
    "\n",
    "$$\n",
    "\\nabla \\mathbf{v} = \\color{red}{\\frac{1}{2} (\\nabla \\mathbf{v} + \\nabla \\mathbf{v}^T)} + \\color{purple}{\\frac{1}{2} (\\nabla \\mathbf{v} - \\nabla \\mathbf{v}^T)}\n",
    "$$\n",
    "\n",
    "$$\n",
    "\\nabla \\mathbf{v = \\color{red}{D} + \\color{purple}{W}}\n",
    "$$\n",
    "\n",
    "The velocity gradient tensor is the sum of the $\\color{red}{\\text{strain rate}}$ and $\\color{purple}{\\text{vorticity}}$ tensors. "
   ]
  },
  {
   "attachments": {},
   "cell_type": "markdown",
   "metadata": {},
   "source": [
    "Over small increments, we can assume that a constant displacement gradient is encountered. \n",
    "\n",
    "```{figure} /Chapter3/Images/Lecture3/Fig13.png\n",
    ":width: 75%\n",
    "```    "
   ]
  },
  {
   "attachments": {},
   "cell_type": "markdown",
   "metadata": {},
   "source": [
    "```{figure} /Chapter3/Images/Lecture3/Fig16.png\n",
    ":width: 75%\n",
    "```    "
   ]
  },
  {
   "attachments": {},
   "cell_type": "markdown",
   "metadata": {},
   "source": [
    "```{figure} /Chapter3/Images/Lecture3/Fig17.png\n",
    ":width: 75%\n",
    "```    "
   ]
  }
 ],
 "metadata": {
  "hide_input": false,
  "kernelspec": {
   "display_name": "Python 3",
   "language": "python",
   "name": "python3"
  },
  "language_info": {
   "codemirror_mode": {
    "name": "ipython",
    "version": 3
   },
   "file_extension": ".py",
   "mimetype": "text/x-python",
   "name": "python",
   "nbconvert_exporter": "python",
   "pygments_lexer": "ipython3",
   "version": "3.6.7"
  },
  "toc": {
   "base_numbering": 1,
   "nav_menu": {},
   "number_sections": true,
   "sideBar": true,
   "skip_h1_title": false,
   "title_cell": "Table of Contents",
   "title_sidebar": "Contents",
   "toc_cell": true,
   "toc_position": {},
   "toc_section_display": true,
   "toc_window_display": true
  }
 },
 "nbformat": 4,
 "nbformat_minor": 2
}
