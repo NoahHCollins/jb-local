{
 "cells": [
  {
   "cell_type": "markdown",
   "id": "64471bce-a2d8-4b9d-93f3-a9bb3b22c6c8",
   "metadata": {},
   "source": [
    "# 3. Kinematics and Strain"
   ]
  },
  {
   "cell_type": "markdown",
   "id": "6ea53e7a-b2ef-40b4-917c-f3ba2f693023",
   "metadata": {},
   "source": [
    "Chapter 3 of this course will cover kinematics and strain. By the end of this chapter you should be able to:\n",
    "\n",
    "- Be able to use material and spatial descriptions of variables and their time derivatives.\n",
    "- Be able to compute infinitesimal strain (strain rate) tensor given a displacement (velocity) field.\n",
    "- Know meaning of the different components of infinitesimal strain (rate) tensor.\n",
    "- Be able to find principal strain (rates) and strain (rate) invariants and know what they represent.\n",
    "- Understand difference between infinitesimal and finite strain.\n",
    "\n",
    "The chapter will consist of one lecture, with practice exercises\n",
    "\n",
    "```{tableofcontents}\n",
    "```"
   ]
  }
 ],
 "metadata": {
  "kernelspec": {
   "display_name": "Python 3 (ipykernel)",
   "language": "python",
   "name": "python3"
  },
  "language_info": {
   "codemirror_mode": {
    "name": "ipython",
    "version": 3
   },
   "file_extension": ".py",
   "mimetype": "text/x-python",
   "name": "python",
   "nbconvert_exporter": "python",
   "pygments_lexer": "ipython3",
   "version": "3.11.3"
  }
 },
 "nbformat": 4,
 "nbformat_minor": 5
}
