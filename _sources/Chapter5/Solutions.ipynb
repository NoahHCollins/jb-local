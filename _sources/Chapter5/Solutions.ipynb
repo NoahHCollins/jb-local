{
 "cells": [
  {
   "cell_type": "markdown",
   "metadata": {},
   "source": [
    "# Solutions  <a class=\"tocSkip\">\n",
    "\n",
    "Note: With dimensional analysis, there is no single correct answer to these questions. These solutions are thus ___A___ set of answers, not __THE__ set of answers. The best way to check answers is to see that they are actually dimensionless.  "
   ]
  },
  {
   "cell_type": "markdown",
   "metadata": {},
   "source": [
    "## Question  1\n",
    "\n",
    "a) There are 5 variables ($d, \\gamma, g, \\rho_h, \\rho_l$) and 3 dimensions (M,L,T) and so __TWO__ dimensionless groups are required. \n",
    "\n",
    "b) Doing it the proper Buckingham Pi way: \n",
    "\n",
    "$$\n",
    "\\begin{matrix}\n",
    "\\hspace{0.8cm} \\gamma \\hspace{0.2cm}& g \\hspace{0.2cm}& \\rho_h \\hspace{0.2cm}& \\rho_l \\hspace{0.2cm} & d  \\\\\n",
    "\\end{matrix}\n",
    "$$\n",
    "\n",
    "$$\n",
    "\\begin{matrix}\n",
    "M \\\\\n",
    "L \\\\\n",
    "T \\\\\n",
    "\\end{matrix}\n",
    "\\hspace{0.1cm}\n",
    "\\begin{pmatrix}\n",
    "1 & 1 & 0 & 0 & 0 \\\\\n",
    "-3 & -1 & 1 & 1 & 1 \\\\\n",
    "0 & -1 & 0 & -1 & -2 \\\\\n",
    "\\end{pmatrix}\n",
    "$$\n",
    "\n",
    "Setting $x_y = 1$ and $x_{\\rho t} = 0$ results in the following dimensionless group  \n",
    "\n",
    "The resulting dimensionless group is: \n",
    "\n",
    "$$\n",
    "\\large{N = \\frac{\\gamma}{\\rho_h g d^2}}\n",
    "$$\n",
    "\n",
    "(This is actually the inverse of the Bond number)\n",
    "\n",
    "c) This dimensionless group represents the ratio of the capillary force to the gravitational force."
   ]
  },
  {
   "cell_type": "markdown",
   "metadata": {},
   "source": [
    "## Question 2\n",
    "\n",
    "$$\n",
    "\\begin{matrix}\n",
    "\\hspace{0.8cm} A \\hspace{0.1cm}& \\rho \\hspace{0.1cm}& C_P \\hspace{0.1cm}& h \\hspace{0.1cm} & Q \\hspace{0.1cm}& \\Delta T \\hspace{0.1cm}& V  \\\\\n",
    "\\end{matrix}\n",
    "$$\n",
    "\n",
    "$$\n",
    "\\begin{matrix}\n",
    "M \\\\\n",
    "L \\\\\n",
    "T \\\\\n",
    "\\Theta \\\\\n",
    "\\end{matrix}\n",
    "\\hspace{0.1cm}\n",
    "\\begin{pmatrix}\n",
    "0 & 1 & 0 & 1 & 1 & 0 & 0 \\\\\n",
    "2 & -3 & 2 & 0 & 2 & 0 & 3 \\\\\n",
    "0 & 0 & -2 & -3 & -3 & 0 & -1 \\\\\n",
    "0 & 0 & -1 & -1 & 0 & 1 & 0 \\\\\n",
    "\\end{pmatrix}\n",
    "$$\n",
    "\n",
    "a) 7 variables and 4 base units mean that there are 3 dimensionless groups \n",
    "\n",
    "b) With some rearranging we can get:\n",
    "\n",
    "$$\n",
    "Q^* = \\frac{Q}{hA\\Delta T}\n",
    "\\hspace{1.5cm}\n",
    "V^* = \\frac{V\\rho C_p \\Delta T}{Q}\n",
    "\\hspace{1.5cm}\n",
    "\\Delta T^* = \\frac{\\rho^2 C_p^3 \\Delta T}{h^2}\n",
    "$$\n",
    "\n",
    "The last one is not very nice and you can probably find a nicer one."
   ]
  },
  {
   "cell_type": "markdown",
   "metadata": {},
   "source": [
    "## Question 3\n",
    "\n",
    "a) \n",
    "\n",
    "$$\n",
    "\\frac{\\partial \\phi}{\\partial t} = \\frac{2 k_1}{\\lambda} \\phi \\frac{\\partial \\phi}{\\partial z} + \\frac{k_2}{2 \\sqrt{\\lambda}\\sqrt{\\phi}} \\Bigl(\\frac{\\partial \\phi}{\\partial z}\\Bigr)^2 + \\frac{k_2 \\sqrt{\\phi}}{\\sqrt{\\lambda}} \\frac{\\partial^2 \\phi}{\\partial z^2}\n",
    "$$\n",
    "\n",
    "where $k_1 = \\frac{\\rho g}{3 \\mu C_{PB}}$ and $ k_2 = \\frac{\\gamma \\sqrt{3 - \\frac{\\pi}{2}}}{6 \\mu C_{PB}}$  \n",
    "\n",
    "b) \n",
    "\n",
    "$\\large{z^* = z\\sqrt{\\frac{\\rho g}{\\gamma}}}$\n",
    "\n",
    "$\\large{t^* = t \\frac{\\sqrt{\\gamma \\rho g}}{\\mu}}$\n",
    "\n",
    "Other ways of non-dimensionalising the problem are possible.\n",
    "\n",
    "c) \n",
    "\n",
    "$$\n",
    "\\frac{\\partial \\phi}{\\partial t^*} = B_o \\frac{2}{3 k_\\lambda C_{PR}} \\phi \\frac{\\partial \\phi}{\\partial z^*} + \\frac{\\sqrt{3 - \\frac{\\pi}{2}}}{6 C_{PR} \\sqrt{k_\\lambda}} \\sqrt{B_o} \\Bigl( \\frac{1}{2 \\sqrt{\\phi}} \\Bigl(\\frac{\\partial \\phi}{\\partial z^*}\\Bigr)^2 + \\sqrt{2} \\frac{\\partial^2 \\phi}{\\partial z^{*2}} \\Bigr)\n",
    "$$\n",
    "\n",
    "Where $\\large{B_o = \\frac{\\rho g d_b^2}{\\gamma}}$  "
   ]
  },
  {
   "cell_type": "markdown",
   "metadata": {},
   "source": [
    "## Question 4\n",
    "\n",
    "a + b)\n",
    "\n",
    "Simply replace the derivatives with their approximations an also note that $\\phi$ should be replaced with $\\phi_{i,j}$\n",
    "\n",
    "$$\n",
    "\\phi_{i,j} = \\phi_{i,j} + \\Delta t^* \\Biggl( B_o \\frac{2}{3k_\\lambda C_{PB}} \\phi_{i,j}  \\frac{\\phi_{i + 1,j} - \\phi_{i - 1,j}}{2\\Delta z^*} + \\frac{\\sqrt{3 - \\frac{\\pi}{2}}}{6 C_{PB}\\sqrt{k_\\lambda}} \\sqrt{B_o} \\Bigl(\\frac{1}{2 \\sqrt{\\phi_{i,j}}} \\Bigl(\\frac{\\phi_{i + 1, j} - \\phi_{i - 1,j}}{2\\Delta z^*}\\Bigr)^2 + \\sqrt{\\phi_{i,j}} \\frac{\\phi_{i + 1,j} - 2\\phi_{i,j} + \\phi_{i - 1,j}}{\\Delta z^{*2}}\\Bigr)\\Biggr)\n",
    "$$"
   ]
  },
  {
   "cell_type": "markdown",
   "metadata": {},
   "source": [
    "c) For finding the time step:\n",
    "\n",
    "$$\n",
    "D_{max} = \\frac{\\sqrt{3 - \\frac{\\pi}{2}}}{6 C_{PB} \\sqrt{k_\\lambda}} \\sqrt{B_o} \\sqrt{\\phi_{max}}\n",
    "$$\n",
    "\n",
    "$$\n",
    "v_{max} = max \\Biggl( B_o \\frac{2}{3 k_\\lambda C_{PB}} \\phi_{max}, \\frac{\\sqrt{3 - \\frac{\\pi}{2}}}{6 C_{PB} \\sqrt{k_\\lambda}} \\sqrt{B_o} \\frac{1}{2 \\sqrt{\\phi_{max}}} \\frac{\\partial \\phi}{\\partial z^*_{max}} \\Biggl)\n",
    "$$\n",
    "\n",
    "The maximum gradient occurs on the first timestep, which given the resolution, is $\\large{\\frac{\\partial \\phi}{\\partial z^*_{max}} = \\frac{\\phi_{max} - \\phi_{min}}{\\Delta z^*}} $. Ignoring this gradient condition won't actually cause proper divergence, but can add wiggles in the formation of the capillary boundary layer. \n",
    "\n",
    "$\\phi_{max} = 0.3$ and $\\phi_{min} = 0.01$ as the liquid contents cannot go outside these limits if the code is working correctly. "
   ]
  }
 ],
 "metadata": {
  "hide_input": false,
  "kernelspec": {
   "display_name": "Python 3",
   "language": "python",
   "name": "python3"
  },
  "language_info": {
   "codemirror_mode": {
    "name": "ipython",
    "version": 3
   },
   "file_extension": ".py",
   "mimetype": "text/x-python",
   "name": "python",
   "nbconvert_exporter": "python",
   "pygments_lexer": "ipython3",
   "version": "3.6.7"
  },
  "toc": {
   "base_numbering": 1,
   "nav_menu": {},
   "number_sections": true,
   "sideBar": true,
   "skip_h1_title": false,
   "title_cell": "Table of Contents",
   "title_sidebar": "Contents",
   "toc_cell": true,
   "toc_position": {},
   "toc_section_display": true,
   "toc_window_display": true
  }
 },
 "nbformat": 4,
 "nbformat_minor": 2
}
