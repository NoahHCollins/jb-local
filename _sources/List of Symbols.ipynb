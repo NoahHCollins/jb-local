{
 "cells": [
  {
   "cell_type": "markdown",
   "id": "12574723",
   "metadata": {},
   "source": [
    "# List of Symbols\n",
    "\n",
    "This page contains a list of symbols used in all the following chapters"
   ]
  },
  {
   "cell_type": "markdown",
   "id": "89480eef",
   "metadata": {},
   "source": [
    "### General\n",
    "\n",
    "$\\rho$ - Density $kg/m^3$\n",
    "\n",
    "$\\mu$ - Viscosity $N s/m$\n",
    "\n",
    "$\\nu$ - Kinematic viscosity $J s / kg$\n",
    "\n",
    "$M$ - Mass  $kg$\n",
    "\n",
    "$L$ - Length  $m$\n",
    "\n",
    "$T$ - Time  $s$\n",
    "\n",
    "$T$ - Temperature $K$\n",
    "\n",
    "$\\mathbf{v}$ - Velocity  $m/s$  \n"
   ]
  },
  {
   "cell_type": "markdown",
   "id": "5334d9cb",
   "metadata": {},
   "source": [
    "### Intro to Vector/Tensor Calculus\n",
    "\n",
    "$\\nabla$ - Del Operator/Gradient\n",
    "\n",
    "$\\nabla \\cdot \\mathbf{v}$ - Divergence of vector $\\mathbf{v}$\n",
    "\n",
    "$\\nabla \\times \\mathbf{v}$ - Curl of vector $\\mathbf{v}$\n",
    "\n",
    "$\\mathbf{T}$ - Tensor\n",
    "\n",
    "$\\bar{\\bar{\\mathbf{T}}}$ or $\\underline{\\underline{\\mathbf{T}}}$  - second order Tensor\n",
    "\n",
    "$\\delta_{ij}$ - Kronecker delta\n",
    "\n",
    "$\\epsilon_{ijk}$ - Permutation symbol\n"
   ]
  },
  {
   "cell_type": "markdown",
   "id": "d75871ff",
   "metadata": {},
   "source": [
    "### Stress and Tensors\n",
    "\n",
    "$\\sigma$ - Stress $N/m^2$\n",
    "\n",
    "$\\epsilon$ - Strain\n",
    "\n",
    "$\\sigma'_{ij}$ - Deviatoric stress $N/m^2$\n",
    "\n",
    "$g$ - Acceleration due to gravity $m/s^2$\n"
   ]
  },
  {
   "cell_type": "markdown",
   "id": "c3d8c99b",
   "metadata": {},
   "source": [
    "### Kinematics\n",
    "\n",
    "$\\mathbf{a}$ - Acceleration $m/s^2$\n",
    "\n",
    "$v$ or $v'$ - Velocity/Velocity Field $m/s$\n",
    "\n",
    "$x'$ - Displacement path lines $m$\n",
    "\n",
    "$u$ or $u'$ - Displacement field $m$\n",
    "\n",
    "$\\mathbf{R(t)}$ - Rotation tensor \n",
    "\n",
    "$\\omega$ - Rigid body rotation \n",
    "\n",
    "$\\varepsilon$ - Internal deformation/strain "
   ]
  },
  {
   "cell_type": "markdown",
   "id": "43c618d0",
   "metadata": {},
   "source": [
    "### Conservation Equations \n",
    "\n",
    "$K$ - Kinetic energy $J$\n",
    "\n",
    "$U$ - Internal energy $J$\n",
    "\n",
    "$W$ - Power input $J/s$\n",
    "\n",
    "$Q$ - Heat input $J$\n",
    "\n",
    "$q$ - Heat flux or Heat per unit area $W/m^2$\n",
    "\n",
    "$k$ - Thermal conductivity $W$\n",
    "\n",
    "$H$ - Heat production per unit mass\n",
    "\n",
    "$A$ Heat production per unit volume/Internal heat production $W/m^3\n",
    "\n",
    "$C_P$ - Heat capacity $J/kg K$\n",
    "\n",
    "$\\mathbf{D}$ - Strain rate $s^-1$\n",
    "\n",
    "$\\lambda$ and $\\mu$ - Lame constants $N/mm^2$\n",
    "\n",
    "$\\mathbf{K}$ - Bulk modulus $N/m^2$\n",
    "\n",
    "$\\mathbf{G}$ - Shear modulus $N/m^2$\n",
    "\n",
    "$\\mathbf{E}$ - Youngs modulus $N/m^2$\n",
    "\n",
    "$v$ - Poisson's ratio \n",
    "\n",
    "$p$ - Hydrostatic pressure $N/m^2$\n",
    "\n",
    "$\\zeta$ - Bulk viscosity $Pa \\hspace{0.1cm} s$\n",
    "\n",
    "$\\eta$ - Shear viscosity $s^{-1}$\n"
   ]
  },
  {
   "cell_type": "markdown",
   "id": "8b2acb4d",
   "metadata": {},
   "source": [
    "### Dimensional Analysis\n",
    "\n",
    "$\\mathbf{D}$ - Diffusivity  $m^2/s$  \n",
    "\n",
    "$C$ - Concentration  \n",
    "\n",
    "$\\mathbf{h}$ - Thickness  $m$  \n",
    "\n",
    "$h$ - External heat transfer coefficient  \n",
    "\n",
    "$Pe$ - Peclet number\n",
    "\n",
    "$Re$ - Reynolds number\n",
    "\n",
    "$Ga$ - Galileo number\n",
    "\n",
    "$Fr$ - Froude number\n",
    "\n",
    "$\\lambda$ - Wavelength of an instability $m$ \n",
    "\n",
    "$\\gamma$ - Surface tension  $N/m$\n",
    "\n",
    "$Q$ - Rate of energy transfer $W$ \n",
    "\n",
    "$V$ - Volumetric fluid flow rate $m^3/s$ \n"
   ]
  },
  {
   "cell_type": "markdown",
   "id": "212efff0",
   "metadata": {},
   "source": [
    "### Potential Flow\n",
    "\n",
    "$\\phi$ - Potential\n",
    "\n",
    "$k$ - Permeability\n",
    "\n",
    "$F$ - Flux\n",
    "\n",
    "$\\xi$ - Residual  \n"
   ]
  },
  {
   "cell_type": "markdown",
   "id": "f04207e2",
   "metadata": {},
   "source": [
    "### Navier-Stokes\n",
    "\n",
    "$\\tau$ - Shear stress $N/m^2$\n",
    "\n",
    "$\\mathbf{S}$ - Strain rate (fluid) $s^-1$\n",
    "\n",
    "$\\mathbf{K}$ - Matrix for discretisation of viscosity  \n",
    "\n",
    "$\\mathbf{C}$ - Matrix for discretisation of gradient operator  \n",
    "\n",
    "$\\mathbf{C^T}$ - Matrix for discretisation of divergence  \n",
    "\n",
    "$\\mathbf{A}$ - matrix containing the discretisation for the momentum advection term  \n"
   ]
  },
  {
   "cell_type": "markdown",
   "id": "7855361a",
   "metadata": {},
   "source": [
    "### Turbulent and Non-Newtonian Flows\n",
    "\n",
    "$f$ - Fanning Friction Factor\n",
    "\n",
    "$\\mathbf{u}$ - Instantaneous velocity $m/s$ \n",
    "\n",
    "$\\mathbf{U}$ - Average velocity  $m/s$\n",
    "\n",
    "$\\mathbf{u^{'}}$ - Fluctuating component of velocity $m/s$\n",
    "\n",
    "$k$ - Tubulent kinetic energy $J$ \n",
    "\n",
    "$\\varepsilon$ - Turbulent dissipation rate \n"
   ]
  },
  {
   "cell_type": "markdown",
   "id": "203fadb2",
   "metadata": {},
   "source": [
    "### Interpolation Quadrature\n",
    "\n",
    "$P_N(x)$ - Interpolated polynomial\n",
    "\n",
    "$\\alpha_i$ - Weight for interpolation function\n",
    "\n",
    "$\\phi_i$ - Basis functions for interpolation function\n",
    "\n",
    "$L(x)$ - Lagrange polynomial\n",
    "\n",
    "$l_i(x)$ - Lagrange basis polynomial\n",
    "\n",
    "$R_N(x)$ - Remainder function/Interpolation error\n",
    "\n",
    "$I_M$ - Integral by using midpoint rule\n",
    "\n",
    "$I_T$ - Integral by using trapezoidal rule\n",
    "\n",
    "$I_S$ - Integral by using Simpson's rule\n",
    "\n",
    "$I_W$ - Integral by using Weddle's rule"
   ]
  },
  {
   "cell_type": "markdown",
   "id": "1c0f6a61",
   "metadata": {},
   "source": [
    "### ODE Solvers\n",
    "\n",
    "$t_0$ - Initial time\n",
    "\n",
    "$T$ - Upper limit of integral in time\n",
    "\n",
    "$\\Delta t_n$ - Step size\n",
    "\n",
    "$\\mathcal{O}$ - Big O approximation for higher order terms\n",
    "\n",
    "$\\bar{f}$ - Average value of a function\n",
    "\n",
    "$\\tau$ - Local truncation error\n",
    "\n",
    "$E$ - Global error\n"
   ]
  },
  {
   "cell_type": "markdown",
   "id": "5b6faa54",
   "metadata": {},
   "source": [
    "### PDE Solvers\n",
    "\n",
    "$c$ - Concentration  \n",
    "\n",
    "$\\kappa$ - Diffusivity coefficient   \n",
    "\n",
    "$\\xi$ - Computational coordinate  \n",
    "\n",
    "$C$ - Courant number  \n",
    "\n",
    "$r$ - r-parameter  \n",
    "\n",
    "$k_m$ - Wavenumber\n"
   ]
  },
  {
   "cell_type": "markdown",
   "id": "9da68e1d",
   "metadata": {},
   "source": [
    "### Finite Element Methods\n",
    "\n",
    "$e$ - Single element \n",
    "\n",
    "$C$ - Constant  \n",
    "\n",
    "$\\phi$ - Basis function  \n",
    "\n",
    "$\\alpha$ - Weights  \n",
    "\n",
    "$P_h$ - $L^2$ norm   \n",
    "\n",
    "$K$ - Discretisation matrix\n"
   ]
  }
 ],
 "metadata": {
  "kernelspec": {
   "display_name": "Python 3 (ipykernel)",
   "language": "python",
   "name": "python3"
  },
  "language_info": {
   "codemirror_mode": {
    "name": "ipython",
    "version": 3
   },
   "file_extension": ".py",
   "mimetype": "text/x-python",
   "name": "python",
   "nbconvert_exporter": "python",
   "pygments_lexer": "ipython3",
   "version": "3.9.7"
  }
 },
 "nbformat": 4,
 "nbformat_minor": 5
}
