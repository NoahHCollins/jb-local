{
 "cells": [
  {
   "cell_type": "markdown",
   "id": "be30aefe-e60f-459c-b75b-e2f61e3ade5c",
   "metadata": {},
   "source": [
    "# Worksheet"
   ]
  },
  {
   "cell_type": "markdown",
   "id": "4f56ac07-4abe-4067-9628-b33f430bc32d",
   "metadata": {
    "jp-MarkdownHeadingCollapsed": true,
    "tags": []
   },
   "source": [
    "## Question 1\n",
    "\n",
    "A power law fluid is flowing in a cylindrical pipe driven by a pressure gradient of ∆𝑃⁄𝐿. The flow is occurring in the z direction, with the shear stress thus being the result of a velocity gradient in the r direction:\n",
    "\n",
    "$$ \\tau = k \\frac{\\partial u_z}{\\partial r}\\left| \\frac{\\partial u_z}{\\partial r} \\right|^{n-1} $$  \n",
    "\n",
    "Use a force/momentum balance to calculate the velocity profile as a function of the power law exponent n.  \n",
    "\n",
    "Plot these results in order to see how the velocity profile is influenced by changes in the rheology, especially as it goes from shear thinning to shear thickening."
   ]
  },
  {
   "cell_type": "markdown",
   "id": "0460edae-368a-46b2-b253-7132ce5287ff",
   "metadata": {},
   "source": [
    "## Question 2\n",
    "\n",
    "Assume that a soil flow can be approximated as a Bingham plastic. Consider a layer of soil on a slope which can be assumed to be infinitely wide and long. The layer is 1 m thick and is at an angle of 30° from the horizontal. Assume that it is initially at its angle of repose, which implies that the yield stress is just able to balance the gravitational force down the slope. After heavy rain the yield stress of the material decreases by 20%.  \n",
    "\n",
    "Assuming that the $𝜇_∞$ = 100𝑃𝑎. 𝑠, what is the maximum velocity that the slide achieves down the\n",
    "slope?"
   ]
  },
  {
   "cell_type": "markdown",
   "id": "96cae3ae-869b-4efb-82db-967652358211",
   "metadata": {},
   "source": [
    "## Question 3\n",
    "\n",
    "Derive a finite difference approximation for the strain-rate tensor and use this as the basis for an approximation of the turbulent eddy viscosity using the Smagorinsky model.  \n",
    "\n",
    "Optional: Implement the turbulent eddy viscosity within the simulator developed in the earlier lecture and thus produce an LES simulator. Use the velocities from the previous time step in this calculation."
   ]
  }
 ],
 "metadata": {
  "kernelspec": {
   "display_name": "Python 3 (ipykernel)",
   "language": "python",
   "name": "python3"
  },
  "language_info": {
   "codemirror_mode": {
    "name": "ipython",
    "version": 3
   },
   "file_extension": ".py",
   "mimetype": "text/x-python",
   "name": "python",
   "nbconvert_exporter": "python",
   "pygments_lexer": "ipython3",
   "version": "3.11.3"
  }
 },
 "nbformat": 4,
 "nbformat_minor": 5
}
